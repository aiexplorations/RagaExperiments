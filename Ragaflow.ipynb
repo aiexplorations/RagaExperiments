{
  "nbformat": 4,
  "nbformat_minor": 0,
  "metadata": {
    "kernelspec": {
      "display_name": "Python 3",
      "language": "python",
      "name": "python3"
    },
    "language_info": {
      "codemirror_mode": {
        "name": "ipython",
        "version": 3
      },
      "file_extension": ".py",
      "mimetype": "text/x-python",
      "name": "python",
      "nbconvert_exporter": "python",
      "pygments_lexer": "ipython3",
      "version": "3.7.6"
    },
    "colab": {
      "name": "Ragaflow.ipynb",
      "provenance": [],
      "collapsed_sections": [],
      "include_colab_link": true
    },
    "accelerator": "GPU"
  },
  "cells": [
    {
      "cell_type": "markdown",
      "metadata": {
        "id": "view-in-github",
        "colab_type": "text"
      },
      "source": [
        "<a href=\"https://colab.research.google.com/github/aiexplorations/RagaExperiments/blob/master/Ragaflow.ipynb\" target=\"_parent\"><img src=\"https://colab.research.google.com/assets/colab-badge.svg\" alt=\"Open In Colab\"/></a>"
      ]
    },
    {
      "cell_type": "markdown",
      "metadata": {
        "id": "qoizquEf72GL",
        "colab_type": "text"
      },
      "source": [
        "# RagaFlow: Classifying Carnatic Music Ragas using Deep Neural Networks\n",
        "\n",
        "Carnatic music is a form of Indian music, specifically from South India. It features complex patterns of scales starting from the 72 cardinal \"parent\" scales, to the many hundreds of derived \"janya\" scales, all of which are liberally used in musical compositions in and of themselves, or in combinations within the same composition. These scales are called ragas, and very often, a raga isn't just a scale, but a complex combination of scales, how to use the notes on the scale, what kinds of transition notes between scales can be played, and so on.\n",
        "\n",
        "In this notebook, I intend to explore how deep learning techniques, combined with some audio signal processing techniques, can help us identify these ragas. \n",
        "\n",
        "The data we use here comes from Sangeethapriya.org, so I'd like to thank them for the data they've made available for listeners. Essentially, clips of tracks by eminent artists (hosted on Sangeethapriya) were taken and processed into short, 5 second segments.\n",
        "\n",
        "Some quick notes:\n",
        "\n",
        "1. In Carnatic music, compositions are generally rendered in a specific ragam\n",
        "2. Practitioners of this form of music may render the raga at any starting pitch - generally a lot of the voices hover around the C, C# and D notes \n",
        "3. Violin accompaniment is common in this form of music - specifically, there is a drone accompaniment to the voice which is considered the leading melody in the music.\n",
        "4. There is no concept of harmony as such in Carnatic music. There is a concept of vivadam (which could be roughly translated to dissonance). However, this is a characteristic of a scale itself, and not a specific performance.\n",
        "5. Long stretches of a Carnatic music concert may be given up to just the percussion instruments. For example, a mridangam (a pitched drum) or a ghatam (a musical instrument very similar to a pot) are used extensively in Carnatic music concerts.\n",
        "6. Generally, rhythm complexity in Carnatic music is high. There are incredible and complex, almost-fractal patterns of beats used in some of the complex songs.Rhythm in Carnatic music is generally called *talam* - we won't dwell on it in this analysis, since we're concerned with the melody - mainly determined by the ragam (raga).\n",
        "\n",
        "\n",
        "These short tracks are then processed as input data, and machine learning models are built on top of this data.\n",
        "\n",
        "Some notes of value to those going through this code:\n",
        "\n",
        "1. Extensive signal analysis of the audio of the songs has not been done. I've just left in the typical noises, clicks, pops, and other kinds of variations in the data that you generally see - mainly because we humans can recognize ragas despite this, and I was just curious about what the model could learn.\n",
        "2. Accounting for silences, mridangam (a kind of Indian pitched drum used in Carnatic music), violin drones or tanpura drones (which generally are used to accompany an artist\n",
        "3. No specific differentiation between vocal and instrumental tracks has been made for the purpose of this analysis. The dataset contains both vocal and instrumental tracks - and perhaps this is for the better (I don't know for sure).\n",
        "4. I've not done additional processing on the sound data apart from sampling in the data at different rates (here, I've used 12 kHz. Perhaps it is possible to use a different sampling rate to solve this problem too.\n",
        "5. I experimented with a bunch of different models, and LSTMs are notoriously difficult to stabilize when you have smaller amounts of data. They do get better as you increase data volumes and tread carefully on regularization, dropout and such randomization hyperparameters. This is something I'm still exploring.\n",
        "\n"
      ]
    },
    {
      "cell_type": "code",
      "metadata": {
        "id": "9bY5oXbG4ll9",
        "colab_type": "code",
        "colab": {
          "base_uri": "https://localhost:8080/",
          "height": 34
        },
        "outputId": "b61ae0c5-d5a8-4bc5-9ae7-a463b5fcabc7"
      },
      "source": [
        "  # PyDub is a nice library for audio processing, which includes the AudioSegment class.\n",
        "  # AudioSegment is used to read and segment different music files (with potentially different encodings, rates, etc) and bring them in as lists\n",
        "  # These lists are then converted to numpy arrays that are then used to prepare the data for training.\n",
        "  \n",
        "  !pip install pydub"
      ],
      "execution_count": 33,
      "outputs": [
        {
          "output_type": "stream",
          "text": [
            "Requirement already satisfied: pydub in /usr/local/lib/python3.6/dist-packages (0.24.1)\n"
          ],
          "name": "stdout"
        }
      ]
    },
    {
      "cell_type": "code",
      "metadata": {
        "id": "wpjWDALP3ucy",
        "colab_type": "code",
        "colab": {
          "base_uri": "https://localhost:8080/",
          "height": 34
        },
        "outputId": "2b137149-356e-4760-df35-8a8cd5e0120f"
      },
      "source": [
        "# Here we bring in the data from a Google Drive directory, using the glob package, and the google package - \n",
        "# The 'drive' class within the colab module allows us to mount folders and make the files available within Jupyter\n",
        "\n",
        "import glob\n",
        "\n",
        "# Importing drive method from colab for accessing google drive\n",
        "from google.colab import drive\n",
        "\n",
        "drive.mount('/content/drive')\n",
        "\n",
        "\n",
        "data_files = glob.glob(\"/content/drive/My Drive/AIExplorations/carnatic_ragas_data/\")"
      ],
      "execution_count": 3,
      "outputs": [
        {
          "output_type": "stream",
          "text": [
            "Drive already mounted at /content/drive; to attempt to forcibly remount, call drive.mount(\"/content/drive\", force_remount=True).\n"
          ],
          "name": "stdout"
        }
      ]
    },
    {
      "cell_type": "markdown",
      "metadata": {
        "id": "WXT5EUuiAEvL",
        "colab_type": "text"
      },
      "source": [
        "# The Seven Main Ragas\n",
        "\n",
        "Though Carnatic music is known to have hundreds of distinct ragas, each with a unique sound (or \"colour\" as ragas are described to be analogous with different colours ... which kind of makes sense from a signal processing perspective), the most commonly performed ragas, also called the \"main\" ragas of Carnatic music are the following:\n",
        "\n",
        "1. Shankarabharanam - often associated with the major scale of Western Classical music\n",
        "2. Kalyani - Similar to Shankarabharanam notes-wise, just one note apart technically, but that one note makes a huge difference to the sound and feel of this raga\n",
        "3. Kambhoji - an uplifting, asymmetrical ragam with different sets of notes during the ascending and descending phases of the raga\n",
        "4. Thodi - An austere and grim-sounding raga with a deeply Indian vibe.\n",
        "5. Varali - A variation on the Thodi raga, subtle, austere and grim\n",
        "6. Bhairavi - An asymmetric raga that is closer to the Dorian or minor scales of Western music but again, uniquely Indian in flavour\n",
        "7. Kharaharapriya - the Indian counterpart of the Greek Dorian mode (with extensive character of its own)\n",
        "\n",
        "I'm not a musician outside of some guitar and although a Carnatic music aficionado, I wouldn't be qualified to write in depth about these ragas. However, I love the music and this problem of being able to understand musical notes through deep learning.\n",
        "\n",
        "The data for each of these ragas is stored in a separate folder named for the raga.\n"
      ]
    },
    {
      "cell_type": "code",
      "metadata": {
        "id": "9VRkiGmp343A",
        "colab_type": "code",
        "colab": {
          "base_uri": "https://localhost:8080/",
          "height": 34
        },
        "outputId": "abfb5116-a562-4907-d8b5-adecf250edab"
      },
      "source": [
        "# Running a shell command to check the folders available with raga names associated with them - these are the seven \"main\" ragas of Carnatic music.\n",
        "\n",
        "!ls \"/content/drive/My Drive/AIExplorations/carnatic_ragas_data/new_processed_data\""
      ],
      "execution_count": 34,
      "outputs": [
        {
          "output_type": "stream",
          "text": [
            "bhairavi  kalyani  kambhoji  kharaharapriya  shankarabharanam  thodi  varali\n"
          ],
          "name": "stdout"
        }
      ]
    },
    {
      "cell_type": "code",
      "metadata": {
        "id": "2CPJtsYR3keZ",
        "colab_type": "code",
        "colab": {}
      },
      "source": [
        "import numpy as np\n",
        "from pydub import AudioSegment\n",
        "import matplotlib.pyplot as plt\n",
        "import os\n",
        "import tensorflow as tf\n",
        "import pandas as pd"
      ],
      "execution_count": 5,
      "outputs": []
    },
    {
      "cell_type": "code",
      "metadata": {
        "id": "nr4jrbur3ked",
        "colab_type": "code",
        "colab": {
          "base_uri": "https://localhost:8080/",
          "height": 141
        },
        "outputId": "afecd083-12d0-4345-8ecc-ee03a90a91d3"
      },
      "source": [
        "basepath = \"/content/drive/My Drive/AIExplorations/carnatic_ragas_data/new_processed_data\"\n",
        "ragas = []\n",
        "for entry in os.listdir(basepath):\n",
        "    if os.path.isdir(os.path.join(basepath, entry)):\n",
        "        print(entry)\n",
        "        ragas.append(entry)\n"
      ],
      "execution_count": 6,
      "outputs": [
        {
          "output_type": "stream",
          "text": [
            "kharaharapriya\n",
            "varali\n",
            "kalyani\n",
            "bhairavi\n",
            "shankarabharanam\n",
            "kambhoji\n",
            "thodi\n"
          ],
          "name": "stdout"
        }
      ]
    },
    {
      "cell_type": "markdown",
      "metadata": {
        "id": "dyJKN9gfDXng",
        "colab_type": "text"
      },
      "source": [
        "# Extracting and Preparing the Data\n",
        "\n",
        "We've brought in the data from Drive into this notebook, and now we bring it into a Numpy array to enable further processing and machine learning.\n",
        "\n",
        "Below, I've used the native Python functions from the `os` library to read in these MP3s, and then process them with the AudioSegment() function from PyDub.\n",
        "\n",
        "Note that I've used a lower sampling rate, and that this is 1-channel audio data.\n",
        "\n",
        "I have also used the `pad_sequences()` function from Keras' preprocessing APIs, to build up zero-padded sequences from the music. \n",
        "\n",
        "Since each file is a 5 second long clip, the NUMFILES and SNIPPETSIZE variables control how many files are read, and what size of segment is taken from the array that has been brought into the runtime as an array.\n",
        "\n",
        "*NOTE*: This step takes significant amounts of time, depending on how many files you're bringing in, and the snippet size. If you just want to run the model first, tweak those numbers to small values so that you can see faster performance. I used the GPU runtime on Colab, and it was slow even then (assuming it actually used the GPU for this process)."
      ]
    },
    {
      "cell_type": "code",
      "metadata": {
        "id": "qjVAF8lL3keg",
        "colab_type": "code",
        "colab": {
          "base_uri": "https://localhost:8080/",
          "height": 141
        },
        "outputId": "f2a6dcd7-f322-4afb-cc39-1a4bdfac589a"
      },
      "source": [
        "dataset = {}\n",
        "NUMFILES = 300\n",
        "SNIPPETSIZE = 200000\n",
        "for raga in ragas:\n",
        "    #sequence list in which to store all the sequences from each file\n",
        "    sequence_list = []\n",
        "    files = os.listdir(os.path.join(basepath, raga))\n",
        "    print(\"Processing files for raga \",raga, \"...\")\n",
        "    for file in files[0:NUMFILES]: \n",
        "        filename = os.path.join(basepath, raga, file)\n",
        "        sound = AudioSegment.from_file(filename, sample_rate_Hz=12000, sample_width = 1, channels = 1, format = 'mp3')\n",
        "        sequence_list.append(sound.get_array_of_samples()[0:SNIPPETSIZE])\n",
        "    padded_sequence = tf.keras.preprocessing.sequence.pad_sequences(sequence_list)\n",
        "    dataset[raga] = padded_sequence"
      ],
      "execution_count": 40,
      "outputs": [
        {
          "output_type": "stream",
          "text": [
            "Processing files for raga  kharaharapriya ...\n",
            "Processing files for raga  varali ...\n",
            "Processing files for raga  kalyani ...\n",
            "Processing files for raga  bhairavi ...\n",
            "Processing files for raga  shankarabharanam ...\n",
            "Processing files for raga  kambhoji ...\n",
            "Processing files for raga  thodi ...\n"
          ],
          "name": "stdout"
        }
      ]
    },
    {
      "cell_type": "code",
      "metadata": {
        "id": "s5UjzJtXFT1W",
        "colab_type": "code",
        "colab": {}
      },
      "source": [
        "n_records = len(dataset)*NUMFILES # We compute the number of records in the overall (training + test) data \n",
        "raga_dict = {value: idx for idx, value in enumerate(ragas)} # Construct a dictionary with unique values assigned to each raga name"
      ],
      "execution_count": 56,
      "outputs": []
    },
    {
      "cell_type": "code",
      "metadata": {
        "id": "VZ0P9JmY5rbG",
        "colab_type": "code",
        "colab": {
          "base_uri": "https://localhost:8080/",
          "height": 141
        },
        "outputId": "93344ae6-c943-4162-d80a-53ee9438aa79"
      },
      "source": [
        "raga_dict"
      ],
      "execution_count": 57,
      "outputs": [
        {
          "output_type": "execute_result",
          "data": {
            "text/plain": [
              "{'bhairavi': 3,\n",
              " 'kalyani': 2,\n",
              " 'kambhoji': 5,\n",
              " 'kharaharapriya': 0,\n",
              " 'shankarabharanam': 4,\n",
              " 'thodi': 6,\n",
              " 'varali': 1}"
            ]
          },
          "metadata": {
            "tags": []
          },
          "execution_count": 57
        }
      ]
    },
    {
      "cell_type": "markdown",
      "metadata": {
        "id": "7AbIBgBIFFz7",
        "colab_type": "text"
      },
      "source": [
        "# Training Data and Labels as a Numpy Array\n",
        "\n",
        "We pad each row of the `dataset` dictionary (which contains key-value pairs of ragas and the associated raga snippet to arrive at consistent lengths for each of the snippets, and then prepare a data set which can be used for training and testing.\n",
        "\n",
        "We also prepare the labels for each snippet - we're building a supervised classification model here, and so the labels are essential.\n",
        "\n",
        "Note that we reshaped the `prepared_data` with the target shape (`n_records`, `SNIPPETSIZE`, 1) - this is essential because we're going to be feeding the data into our model in batches, and the shape of the model should allow this."
      ]
    },
    {
      "cell_type": "code",
      "metadata": {
        "id": "QRISxxHdOsKQ",
        "colab_type": "code",
        "colab": {}
      },
      "source": [
        "prepared_data = []\n",
        "prepared_labels = []\n",
        "\n",
        "for key, value in dataset.items():\n",
        "  for row in value:\n",
        "    if len(row) < SNIPPETSIZE:\n",
        "      t = SNIPPETSIZE - len(row)\n",
        "      row = np.pad(row, (0,t), \"constant\") #padding logic to solve the problem of different sequence lengths\n",
        "    prepared_data.append(row)\n",
        "    prepared_labels.append(raga_dict[key])\n",
        "prepared_data = np.vstack(prepared_data).reshape(n_records, SNIPPETSIZE, 1)\n",
        "prepared_labels = np.stack(prepared_labels)"
      ],
      "execution_count": 58,
      "outputs": []
    },
    {
      "cell_type": "markdown",
      "metadata": {
        "id": "Vxt3tq7jFr9V",
        "colab_type": "text"
      },
      "source": [
        "A quick check reveals the shapes of the `prepared_data` and `prepared_labels`. \n",
        "\n",
        "1. We see that there are many examples of data, from which we can build training and testing sets. \n",
        "\n",
        "2. Each of these examples is an audio snippet that is a certain number of timesteps long (a timestep in this case represents a fraction of a second from the 5 second clip). \n",
        "\n",
        "3. There is one label for each of the audio snippets."
      ]
    },
    {
      "cell_type": "code",
      "metadata": {
        "id": "zd-VxIR5Jumk",
        "colab_type": "code",
        "colab": {
          "base_uri": "https://localhost:8080/",
          "height": 34
        },
        "outputId": "269b9f81-9960-4ed8-fb03-eca87d15bcef"
      },
      "source": [
        "prepared_data.shape, prepared_labels.shape"
      ],
      "execution_count": 59,
      "outputs": [
        {
          "output_type": "execute_result",
          "data": {
            "text/plain": [
              "((2100, 200000, 1), (2100,))"
            ]
          },
          "metadata": {
            "tags": []
          },
          "execution_count": 59
        }
      ]
    },
    {
      "cell_type": "markdown",
      "metadata": {
        "id": "rBUyzsb1F4tz",
        "colab_type": "text"
      },
      "source": [
        "The `prepared_labels` ought to contain one code for each of the 7 ragas in the list of input ragas we saw earlier."
      ]
    },
    {
      "cell_type": "code",
      "metadata": {
        "id": "vgko8zmaJ_nx",
        "colab_type": "code",
        "colab": {
          "base_uri": "https://localhost:8080/",
          "height": 34
        },
        "outputId": "08ad6ae7-dab3-410d-b70e-939a9f79d7ee"
      },
      "source": [
        "set(prepared_labels)"
      ],
      "execution_count": 60,
      "outputs": [
        {
          "output_type": "execute_result",
          "data": {
            "text/plain": [
              "{0, 1, 2, 3, 4, 5, 6}"
            ]
          },
          "metadata": {
            "tags": []
          },
          "execution_count": 60
        }
      ]
    },
    {
      "cell_type": "markdown",
      "metadata": {
        "id": "0u_vw70qGfbu",
        "colab_type": "text"
      },
      "source": [
        "We build up a couple of variables to parametrize the model. The sequence size (as we saw above) and the number of inputs (records) are shown here."
      ]
    },
    {
      "cell_type": "code",
      "metadata": {
        "id": "CaX_TeoVTOSw",
        "colab_type": "code",
        "colab": {}
      },
      "source": [
        "seq_size, n_input = prepared_data[0].shape[0], len(prepared_data)"
      ],
      "execution_count": 61,
      "outputs": []
    },
    {
      "cell_type": "markdown",
      "metadata": {
        "id": "huFQvzIcG7o4",
        "colab_type": "text"
      },
      "source": [
        "# Optional : One Hot Encoding\n",
        "\n",
        "While I have not actually used the result from this step, it can be valuable if you're training your model differently. Specifically, if you're using a Sparse matrix to represent the labels (one-hot form) you will have to specify 'sparse_categorical_crossentropy' as your loss function."
      ]
    },
    {
      "cell_type": "code",
      "metadata": {
        "id": "XvDOTRvSchWj",
        "colab_type": "code",
        "colab": {}
      },
      "source": [
        "from keras.utils.np_utils import to_categorical   \n",
        "\n",
        "categorical_labels = to_categorical(prepared_labels, num_classes=len(set(prepared_labels)))"
      ],
      "execution_count": 62,
      "outputs": []
    },
    {
      "cell_type": "markdown",
      "metadata": {
        "id": "fQnXY8ePHPOL",
        "colab_type": "text"
      },
      "source": [
        "# Key Keras Imports\n",
        "\n",
        "Since we're building a `Sequential()` model in Keras that is a hybrid deep neural network, we require the LSTM, TimeDistributed, Conv1D layers. We also import other common layers, losses and helper functions for regularization and preprocessing."
      ]
    },
    {
      "cell_type": "code",
      "metadata": {
        "id": "w0kp4V0gb985",
        "colab_type": "code",
        "colab": {}
      },
      "source": [
        "from keras.models import Sequential\n",
        "from keras.layers import LSTM, Dense, Dropout, BatchNormalization, Flatten, TimeDistributed, Conv1D, MaxPooling1D\n",
        "from keras.losses import categorical_crossentropy\n",
        "from keras.optimizers import Adam\n",
        "from keras.regularizers import l1_l2\n",
        "from sklearn.model_selection import train_test_split\n",
        "from sklearn.preprocessing import StandardScaler"
      ],
      "execution_count": 63,
      "outputs": []
    },
    {
      "cell_type": "markdown",
      "metadata": {
        "id": "4NpH490_Hjfh",
        "colab_type": "text"
      },
      "source": [
        "It is customary to use holding cross validation for building models for such problems and I've done the same here. Equally, we could approach this using k-fold cross validation, with any number of folds of your choice. \n",
        "\n",
        "Here I've just set aside 30% of the data for testing purposes. Note that I've converted the labels list to a Numpy array, for ease of feeding into the model."
      ]
    },
    {
      "cell_type": "code",
      "metadata": {
        "id": "0jDpsmpMcJe0",
        "colab_type": "code",
        "colab": {}
      },
      "source": [
        "train_x, test_x, train_y, test_y = train_test_split(prepared_data, np.array(prepared_labels), test_size = 0.3 )"
      ],
      "execution_count": 64,
      "outputs": []
    },
    {
      "cell_type": "markdown",
      "metadata": {
        "id": "v_a8IeXDH74p",
        "colab_type": "text"
      },
      "source": [
        "A quick check reveals the shapes of the prepared training and test data."
      ]
    },
    {
      "cell_type": "code",
      "metadata": {
        "id": "ygoWz_7IDMrp",
        "colab_type": "code",
        "colab": {
          "base_uri": "https://localhost:8080/",
          "height": 34
        },
        "outputId": "f8fcf79b-cd9f-40a8-d6c1-1c5ec17b8575"
      },
      "source": [
        "train_x.shape, train_y.shape, test_x.shape, test_y.shape"
      ],
      "execution_count": 65,
      "outputs": [
        {
          "output_type": "execute_result",
          "data": {
            "text/plain": [
              "((1470, 200000, 1), (1470,), (630, 200000, 1), (630,))"
            ]
          },
          "metadata": {
            "tags": []
          },
          "execution_count": 65
        }
      ]
    },
    {
      "cell_type": "markdown",
      "metadata": {
        "id": "9RBuFy42IWJ-",
        "colab_type": "text"
      },
      "source": [
        "# Common Hyperparameters\n",
        "\n",
        "1. We're setting common hyperparameters in this section to ensure we can control the training process closely. For purposes of simplicity, we control hidden layer count and number of LSTM units from here. Equally, we could custom-build our models by feeding these numbers in where needed.\n",
        "\n",
        "2. Note that ConvNet filter size and other parameters are controlled directly from the model and are not parametrized here.\n",
        "\n",
        "3. We also specify learning rates, dropout and learning rate decay here. Potentially, we could control these elements if we use a custom Adam() optimizer."
      ]
    },
    {
      "cell_type": "code",
      "metadata": {
        "id": "-kLfKPJpb-mh",
        "colab_type": "code",
        "colab": {}
      },
      "source": [
        "batchsize = 32\n",
        "epochs = 100\n",
        "n_units = 32\n",
        "n_hidden = 32\n",
        "lr = 1e-3\n",
        "decay = 0.1 * lr\n",
        "dropout_pc = 0.01\n",
        "l1, l2 = 0.01, 0.01\n",
        "n_classes = len(set(train_y)) # We set the number of classes in the network based on the classes present in the training data."
      ],
      "execution_count": 66,
      "outputs": []
    },
    {
      "cell_type": "markdown",
      "metadata": {
        "id": "lZkzJGO8JB5O",
        "colab_type": "text"
      },
      "source": [
        "Observe that we can add multiple ragas to these folders in future and have the model build here as per parametrization above."
      ]
    },
    {
      "cell_type": "code",
      "metadata": {
        "id": "AmaY8T01dZMO",
        "colab_type": "code",
        "colab": {}
      },
      "source": [
        "model = Sequential([\n",
        "    TimeDistributed(Conv1D(filters = 200, kernel_size = 5, padding = 'same', activation = 'relu', strides=4), \n",
        "                    batch_input_shape = (None, 1, seq_size, 1) ),\n",
        "    TimeDistributed(MaxPooling1D(pool_size=100)),\n",
        "    TimeDistributed(Conv1D(filters = 100, kernel_size = 2, padding = 'valid', activation = 'relu', strides=2)),\n",
        "    TimeDistributed(BatchNormalization()),\n",
        "    TimeDistributed(MaxPooling1D(pool_size=50)),\n",
        "    TimeDistributed(Flatten()),\n",
        "    LSTM(units = 16, activation = \"relu\", kernel_regularizer = l1_l2(l1, l2), \n",
        "         input_shape = (seq_size, 1), return_sequences = True),\n",
        "    Dense(512, activation = \"relu\"),\n",
        "    LSTM(units = 4, activation = \"relu\", kernel_regularizer = l1_l2(l1, l2), \n",
        "         dropout = dropout_pc, return_sequences = False),\n",
        "    Dense(256, activation = \"relu\"),\n",
        "    BatchNormalization(),\n",
        "    Dense(128, activation = \"relu\"),\n",
        "    BatchNormalization(),\n",
        "    Dense(64, activation = \"relu\"),\n",
        "    Dropout(0.3),\n",
        "    Dense(n_classes, activation = \"softmax\")\n",
        "    ])"
      ],
      "execution_count": 102,
      "outputs": []
    },
    {
      "cell_type": "markdown",
      "metadata": {
        "id": "cpbcImiRJIp6",
        "colab_type": "text"
      },
      "source": [
        "# Model Architecture\n",
        "\n",
        "The model architecture here is a CNN-LSTM hybrid network with the following features:\n",
        "\n",
        "1. Two `Conv1D()`  layers to learn patterns of variation in the input signal and patterns of patterns thereof. Filters, striding and kernel sizes can be tweaked as needed.\n",
        "2. `TimeDistributed()` layers for feeding the above `Conv1D()` layers, along with `BatchNormalization()` and `MaxPooling1D()` layers.\n",
        "3. Two `LSTM()` layers that receive segments of the Conv1D data in sequence and learn these sequences.\n",
        "4. `BatchNormalization()` layers to ensure there are no gradient related issues\n",
        "5. `Dropout()` regularization. Note that we have used Elastic Net (`l1_l2()`) regularization in the `LSTM()` layers\n",
        "6. `Dense()` layer with `softmax` activation for multi-class classification as the final layer.\n",
        "\n",
        "Potentially, we could tweak the number of dense layers, the number of LSTM() layers and the BatchNormalization() layers to adjust performance.\n",
        "\n",
        "## Batch Input\n",
        "\n",
        "Note that the model receives input as a batch via the `TimeDistributed()` layer - this requires us to feed in the right shape of data, and specify the `batch_input_size` parameter accordingly."
      ]
    },
    {
      "cell_type": "code",
      "metadata": {
        "id": "dKbXIsFuRcKr",
        "colab_type": "code",
        "colab": {}
      },
      "source": [
        "adam_opt = tf.keras.optimizers.Adam(\n",
        "    learning_rate=0.0001,\n",
        "    beta_1=0.9,\n",
        "    beta_2=0.999,\n",
        "    epsilon=1e-05,\n",
        "    amsgrad=False,\n",
        "    name=\"Adam\"\n",
        ")"
      ],
      "execution_count": 103,
      "outputs": []
    },
    {
      "cell_type": "code",
      "metadata": {
        "id": "2RWhry_gdgDH",
        "colab_type": "code",
        "colab": {
          "base_uri": "https://localhost:8080/",
          "height": 745
        },
        "outputId": "2d9b3861-dd93-454a-fc94-02ad6cdaf16e"
      },
      "source": [
        "model.compile(optimizer = adam_opt, loss= 'sparse_categorical_crossentropy', metrics= ['acc'])\n",
        "print(model.summary())"
      ],
      "execution_count": 104,
      "outputs": [
        {
          "output_type": "stream",
          "text": [
            "Model: \"sequential_9\"\n",
            "_________________________________________________________________\n",
            "Layer (type)                 Output Shape              Param #   \n",
            "=================================================================\n",
            "time_distributed_46 (TimeDis (None, 1, 50000, 200)     1200      \n",
            "_________________________________________________________________\n",
            "time_distributed_47 (TimeDis (None, 1, 500, 200)       0         \n",
            "_________________________________________________________________\n",
            "time_distributed_48 (TimeDis (None, 1, 250, 100)       40100     \n",
            "_________________________________________________________________\n",
            "time_distributed_49 (TimeDis (None, 1, 250, 100)       400       \n",
            "_________________________________________________________________\n",
            "time_distributed_50 (TimeDis (None, 1, 5, 100)         0         \n",
            "_________________________________________________________________\n",
            "time_distributed_51 (TimeDis (None, 1, 500)            0         \n",
            "_________________________________________________________________\n",
            "lstm_17 (LSTM)               (None, 1, 16)             33088     \n",
            "_________________________________________________________________\n",
            "dense_41 (Dense)             (None, 1, 512)            8704      \n",
            "_________________________________________________________________\n",
            "lstm_18 (LSTM)               (None, 4)                 8272      \n",
            "_________________________________________________________________\n",
            "dense_42 (Dense)             (None, 256)               1280      \n",
            "_________________________________________________________________\n",
            "batch_normalization_26 (Batc (None, 256)               1024      \n",
            "_________________________________________________________________\n",
            "dense_43 (Dense)             (None, 128)               32896     \n",
            "_________________________________________________________________\n",
            "batch_normalization_27 (Batc (None, 128)               512       \n",
            "_________________________________________________________________\n",
            "dense_44 (Dense)             (None, 64)                8256      \n",
            "_________________________________________________________________\n",
            "dropout_9 (Dropout)          (None, 64)                0         \n",
            "_________________________________________________________________\n",
            "dense_45 (Dense)             (None, 7)                 455       \n",
            "=================================================================\n",
            "Total params: 136,187\n",
            "Trainable params: 135,219\n",
            "Non-trainable params: 968\n",
            "_________________________________________________________________\n",
            "None\n"
          ],
          "name": "stdout"
        }
      ]
    },
    {
      "cell_type": "code",
      "metadata": {
        "id": "dZ278ekRTtZ2",
        "colab_type": "code",
        "colab": {
          "base_uri": "https://localhost:8080/",
          "height": 34
        },
        "outputId": "14fd09b5-6c9c-428e-a40c-c964d562b9a0"
      },
      "source": [
        "len(train_x.reshape((train_x.shape[0], 1, train_x.shape[1], 1))), len(train_y)"
      ],
      "execution_count": 105,
      "outputs": [
        {
          "output_type": "execute_result",
          "data": {
            "text/plain": [
              "(1470, 1470)"
            ]
          },
          "metadata": {
            "tags": []
          },
          "execution_count": 105
        }
      ]
    },
    {
      "cell_type": "code",
      "metadata": {
        "id": "02DavIpDdiD7",
        "colab_type": "code",
        "colab": {
          "base_uri": "https://localhost:8080/",
          "height": 1000
        },
        "outputId": "803798cb-fde2-4d60-8e7f-35a44d179506"
      },
      "source": [
        "history = model.fit(x = train_x.reshape((train_x.shape[0], 1, train_x.shape[1], 1)), \n",
        "                    y = train_y, \n",
        "                    batch_size= batchsize, \n",
        "                    epochs= epochs, \n",
        "                    verbose= 1,\n",
        "                    validation_data=[test_x.reshape((test_x.shape[0], 1, test_x.shape[1], 1)), test_y])"
      ],
      "execution_count": 106,
      "outputs": [
        {
          "output_type": "stream",
          "text": [
            "Train on 1470 samples, validate on 630 samples\n",
            "Epoch 1/100\n",
            "1470/1470 [==============================] - 17s 11ms/step - loss: 23.7277 - acc: 0.1544 - val_loss: 22.9596 - val_acc: 0.1444\n",
            "Epoch 2/100\n",
            "1470/1470 [==============================] - 15s 10ms/step - loss: 22.2276 - acc: 0.2401 - val_loss: 21.6442 - val_acc: 0.1698\n",
            "Epoch 3/100\n",
            "1470/1470 [==============================] - 15s 10ms/step - loss: 20.8414 - acc: 0.2612 - val_loss: 20.3923 - val_acc: 0.1952\n",
            "Epoch 4/100\n",
            "1470/1470 [==============================] - 15s 11ms/step - loss: 19.5392 - acc: 0.3054 - val_loss: 19.2068 - val_acc: 0.2571\n",
            "Epoch 5/100\n",
            "1470/1470 [==============================] - 15s 11ms/step - loss: 18.2752 - acc: 0.3551 - val_loss: 18.0794 - val_acc: 0.2968\n",
            "Epoch 6/100\n",
            "1470/1470 [==============================] - 15s 11ms/step - loss: 17.0988 - acc: 0.3776 - val_loss: 16.9928 - val_acc: 0.3175\n",
            "Epoch 7/100\n",
            "1470/1470 [==============================] - 15s 10ms/step - loss: 16.0215 - acc: 0.3810 - val_loss: 15.9362 - val_acc: 0.3698\n",
            "Epoch 8/100\n",
            "1470/1470 [==============================] - 15s 10ms/step - loss: 14.9741 - acc: 0.4088 - val_loss: 14.9337 - val_acc: 0.3889\n",
            "Epoch 9/100\n",
            "1470/1470 [==============================] - 15s 10ms/step - loss: 13.9829 - acc: 0.4177 - val_loss: 13.9453 - val_acc: 0.3238\n",
            "Epoch 10/100\n",
            "1470/1470 [==============================] - 15s 10ms/step - loss: 13.0463 - acc: 0.4156 - val_loss: 13.0121 - val_acc: 0.3413\n",
            "Epoch 11/100\n",
            "1470/1470 [==============================] - 15s 10ms/step - loss: 12.1677 - acc: 0.4571 - val_loss: 12.1287 - val_acc: 0.3032\n",
            "Epoch 12/100\n",
            "1470/1470 [==============================] - 15s 10ms/step - loss: 11.3223 - acc: 0.4599 - val_loss: 11.1950 - val_acc: 0.4683\n",
            "Epoch 13/100\n",
            "1470/1470 [==============================] - 15s 10ms/step - loss: 10.5176 - acc: 0.4755 - val_loss: 10.3663 - val_acc: 0.4460\n",
            "Epoch 14/100\n",
            "1470/1470 [==============================] - 15s 10ms/step - loss: 9.7533 - acc: 0.5041 - val_loss: 9.5615 - val_acc: 0.4698\n",
            "Epoch 15/100\n",
            "1470/1470 [==============================] - 15s 10ms/step - loss: 9.0642 - acc: 0.5211 - val_loss: 8.8375 - val_acc: 0.5079\n",
            "Epoch 16/100\n",
            "1470/1470 [==============================] - 15s 10ms/step - loss: 8.4118 - acc: 0.5401 - val_loss: 8.1945 - val_acc: 0.5492\n",
            "Epoch 17/100\n",
            "1470/1470 [==============================] - 15s 10ms/step - loss: 7.7890 - acc: 0.5565 - val_loss: 7.5700 - val_acc: 0.5714\n",
            "Epoch 18/100\n",
            "1470/1470 [==============================] - 15s 11ms/step - loss: 7.2659 - acc: 0.5796 - val_loss: 7.0506 - val_acc: 0.5762\n",
            "Epoch 19/100\n",
            "1470/1470 [==============================] - 15s 10ms/step - loss: 6.7569 - acc: 0.6041 - val_loss: 6.6687 - val_acc: 0.5397\n",
            "Epoch 20/100\n",
            "1470/1470 [==============================] - 15s 11ms/step - loss: 6.3425 - acc: 0.5810 - val_loss: 6.1774 - val_acc: 0.5762\n",
            "Epoch 21/100\n",
            "1470/1470 [==============================] - 15s 10ms/step - loss: 5.9238 - acc: 0.5993 - val_loss: 5.8136 - val_acc: 0.5921\n",
            "Epoch 22/100\n",
            "1470/1470 [==============================] - 15s 11ms/step - loss: 5.5593 - acc: 0.6156 - val_loss: 5.4035 - val_acc: 0.6127\n",
            "Epoch 23/100\n",
            "1470/1470 [==============================] - 15s 10ms/step - loss: 5.2480 - acc: 0.6129 - val_loss: 5.2263 - val_acc: 0.5984\n",
            "Epoch 24/100\n",
            "1470/1470 [==============================] - 15s 10ms/step - loss: 4.9529 - acc: 0.6551 - val_loss: 4.8426 - val_acc: 0.6317\n",
            "Epoch 25/100\n",
            "1470/1470 [==============================] - 15s 11ms/step - loss: 4.7449 - acc: 0.6442 - val_loss: 4.6684 - val_acc: 0.6270\n",
            "Epoch 26/100\n",
            "1470/1470 [==============================] - 15s 10ms/step - loss: 4.5306 - acc: 0.6537 - val_loss: 4.5273 - val_acc: 0.6063\n",
            "Epoch 27/100\n",
            "1470/1470 [==============================] - 15s 10ms/step - loss: 4.3190 - acc: 0.6524 - val_loss: 4.2755 - val_acc: 0.6444\n",
            "Epoch 28/100\n",
            "1470/1470 [==============================] - 15s 10ms/step - loss: 4.1534 - acc: 0.6503 - val_loss: 4.0664 - val_acc: 0.6492\n",
            "Epoch 29/100\n",
            "1470/1470 [==============================] - 15s 10ms/step - loss: 3.9382 - acc: 0.6728 - val_loss: 3.8657 - val_acc: 0.6317\n",
            "Epoch 30/100\n",
            "1470/1470 [==============================] - 15s 10ms/step - loss: 3.7778 - acc: 0.6755 - val_loss: 3.7328 - val_acc: 0.6333\n",
            "Epoch 31/100\n",
            "1470/1470 [==============================] - 15s 10ms/step - loss: 3.6576 - acc: 0.6721 - val_loss: 3.5648 - val_acc: 0.6619\n",
            "Epoch 32/100\n",
            "1470/1470 [==============================] - 15s 10ms/step - loss: 3.5501 - acc: 0.6537 - val_loss: 3.5627 - val_acc: 0.6222\n",
            "Epoch 33/100\n",
            "1470/1470 [==============================] - 15s 10ms/step - loss: 3.4093 - acc: 0.6701 - val_loss: 3.3991 - val_acc: 0.6540\n",
            "Epoch 34/100\n",
            "1470/1470 [==============================] - 15s 10ms/step - loss: 3.3339 - acc: 0.6565 - val_loss: 3.2458 - val_acc: 0.6524\n",
            "Epoch 35/100\n",
            "1470/1470 [==============================] - 15s 10ms/step - loss: 3.1380 - acc: 0.6884 - val_loss: 3.1355 - val_acc: 0.6619\n",
            "Epoch 36/100\n",
            "1470/1470 [==============================] - 15s 10ms/step - loss: 3.0175 - acc: 0.6844 - val_loss: 3.0449 - val_acc: 0.6540\n",
            "Epoch 37/100\n",
            "1470/1470 [==============================] - 15s 10ms/step - loss: 2.9244 - acc: 0.6864 - val_loss: 2.9819 - val_acc: 0.6365\n",
            "Epoch 38/100\n",
            "1470/1470 [==============================] - 15s 10ms/step - loss: 2.8684 - acc: 0.6735 - val_loss: 2.9496 - val_acc: 0.6317\n",
            "Epoch 39/100\n",
            "1470/1470 [==============================] - 15s 10ms/step - loss: 2.7403 - acc: 0.6939 - val_loss: 2.7698 - val_acc: 0.6635\n",
            "Epoch 40/100\n",
            "1470/1470 [==============================] - 15s 11ms/step - loss: 2.6518 - acc: 0.7000 - val_loss: 2.6839 - val_acc: 0.6698\n",
            "Epoch 41/100\n",
            "1470/1470 [==============================] - 15s 11ms/step - loss: 2.5406 - acc: 0.7034 - val_loss: 2.5572 - val_acc: 0.6857\n",
            "Epoch 42/100\n",
            "1470/1470 [==============================] - 15s 11ms/step - loss: 2.5056 - acc: 0.7109 - val_loss: 2.5529 - val_acc: 0.6794\n",
            "Epoch 43/100\n",
            "1470/1470 [==============================] - 15s 11ms/step - loss: 2.4266 - acc: 0.7156 - val_loss: 2.4431 - val_acc: 0.6365\n",
            "Epoch 44/100\n",
            "1470/1470 [==============================] - 15s 11ms/step - loss: 2.3772 - acc: 0.6939 - val_loss: 2.3956 - val_acc: 0.6508\n",
            "Epoch 45/100\n",
            "1470/1470 [==============================] - 15s 11ms/step - loss: 2.3148 - acc: 0.6898 - val_loss: 2.3213 - val_acc: 0.6810\n",
            "Epoch 46/100\n",
            "1470/1470 [==============================] - 15s 11ms/step - loss: 2.2358 - acc: 0.7272 - val_loss: 2.2145 - val_acc: 0.7381\n",
            "Epoch 47/100\n",
            "1470/1470 [==============================] - 15s 11ms/step - loss: 2.1235 - acc: 0.7639 - val_loss: 2.0664 - val_acc: 0.7429\n",
            "Epoch 48/100\n",
            "1470/1470 [==============================] - 15s 11ms/step - loss: 1.9720 - acc: 0.7884 - val_loss: 2.4072 - val_acc: 0.6635\n",
            "Epoch 49/100\n",
            "1470/1470 [==============================] - 15s 11ms/step - loss: 1.9794 - acc: 0.7850 - val_loss: 2.0046 - val_acc: 0.7508\n",
            "Epoch 50/100\n",
            "1470/1470 [==============================] - 15s 11ms/step - loss: 1.8889 - acc: 0.7993 - val_loss: 1.9822 - val_acc: 0.7651\n",
            "Epoch 51/100\n",
            "1470/1470 [==============================] - 15s 11ms/step - loss: 1.8902 - acc: 0.7912 - val_loss: 2.1356 - val_acc: 0.7079\n",
            "Epoch 52/100\n",
            "1470/1470 [==============================] - 15s 11ms/step - loss: 1.8210 - acc: 0.8007 - val_loss: 1.9614 - val_acc: 0.7667\n",
            "Epoch 53/100\n",
            "1470/1470 [==============================] - 15s 11ms/step - loss: 1.7210 - acc: 0.8143 - val_loss: 2.1044 - val_acc: 0.7048\n",
            "Epoch 54/100\n",
            "1470/1470 [==============================] - 15s 11ms/step - loss: 1.7306 - acc: 0.8054 - val_loss: 1.8077 - val_acc: 0.7587\n",
            "Epoch 55/100\n",
            "1470/1470 [==============================] - 15s 11ms/step - loss: 1.6939 - acc: 0.8082 - val_loss: 1.7683 - val_acc: 0.8000\n",
            "Epoch 56/100\n",
            "1470/1470 [==============================] - 15s 11ms/step - loss: 1.6384 - acc: 0.8204 - val_loss: 1.6361 - val_acc: 0.8143\n",
            "Epoch 57/100\n",
            "1470/1470 [==============================] - 15s 11ms/step - loss: 1.5668 - acc: 0.8415 - val_loss: 1.6187 - val_acc: 0.8429\n",
            "Epoch 58/100\n",
            "1470/1470 [==============================] - 15s 11ms/step - loss: 1.5051 - acc: 0.8531 - val_loss: 1.5988 - val_acc: 0.8333\n",
            "Epoch 59/100\n",
            "1470/1470 [==============================] - 15s 11ms/step - loss: 1.4867 - acc: 0.8558 - val_loss: 1.6524 - val_acc: 0.8143\n",
            "Epoch 60/100\n",
            "1470/1470 [==============================] - 15s 11ms/step - loss: 1.4702 - acc: 0.8524 - val_loss: 1.9304 - val_acc: 0.7556\n",
            "Epoch 61/100\n",
            "1470/1470 [==============================] - 15s 11ms/step - loss: 1.4574 - acc: 0.8497 - val_loss: 1.4821 - val_acc: 0.8603\n",
            "Epoch 62/100\n",
            "1470/1470 [==============================] - 15s 11ms/step - loss: 1.3875 - acc: 0.8707 - val_loss: 1.4555 - val_acc: 0.8571\n",
            "Epoch 63/100\n",
            "1470/1470 [==============================] - 15s 11ms/step - loss: 1.3401 - acc: 0.8939 - val_loss: 1.4028 - val_acc: 0.8730\n",
            "Epoch 64/100\n",
            "1470/1470 [==============================] - 15s 11ms/step - loss: 1.3138 - acc: 0.8966 - val_loss: 1.4713 - val_acc: 0.8587\n",
            "Epoch 65/100\n",
            "1470/1470 [==============================] - 15s 11ms/step - loss: 1.2833 - acc: 0.9095 - val_loss: 1.2897 - val_acc: 0.8968\n",
            "Epoch 66/100\n",
            "1470/1470 [==============================] - 15s 11ms/step - loss: 1.2542 - acc: 0.9116 - val_loss: 1.3054 - val_acc: 0.8952\n",
            "Epoch 67/100\n",
            "1470/1470 [==============================] - 15s 11ms/step - loss: 1.2390 - acc: 0.8993 - val_loss: 1.3668 - val_acc: 0.8683\n",
            "Epoch 68/100\n",
            "1470/1470 [==============================] - 15s 11ms/step - loss: 1.1861 - acc: 0.9197 - val_loss: 1.4886 - val_acc: 0.8333\n",
            "Epoch 69/100\n",
            "1470/1470 [==============================] - 15s 11ms/step - loss: 1.1554 - acc: 0.9286 - val_loss: 1.2455 - val_acc: 0.9016\n",
            "Epoch 70/100\n",
            "1470/1470 [==============================] - 15s 11ms/step - loss: 1.1396 - acc: 0.9190 - val_loss: 1.2789 - val_acc: 0.8857\n",
            "Epoch 71/100\n",
            "1470/1470 [==============================] - 15s 11ms/step - loss: 1.1790 - acc: 0.8993 - val_loss: 1.2491 - val_acc: 0.8841\n",
            "Epoch 72/100\n",
            "1470/1470 [==============================] - 15s 11ms/step - loss: 1.1016 - acc: 0.9347 - val_loss: 1.1314 - val_acc: 0.9206\n",
            "Epoch 73/100\n",
            "1470/1470 [==============================] - 15s 11ms/step - loss: 1.0344 - acc: 0.9429 - val_loss: 1.1709 - val_acc: 0.9032\n",
            "Epoch 74/100\n",
            "1470/1470 [==============================] - 15s 10ms/step - loss: 1.0050 - acc: 0.9395 - val_loss: 1.1207 - val_acc: 0.9111\n",
            "Epoch 75/100\n",
            "1470/1470 [==============================] - 15s 11ms/step - loss: 1.0232 - acc: 0.9395 - val_loss: 1.2047 - val_acc: 0.8762\n",
            "Epoch 76/100\n",
            "1470/1470 [==============================] - 15s 10ms/step - loss: 1.0217 - acc: 0.9333 - val_loss: 1.1560 - val_acc: 0.8873\n",
            "Epoch 77/100\n",
            "1470/1470 [==============================] - 15s 11ms/step - loss: 0.9919 - acc: 0.9374 - val_loss: 1.2809 - val_acc: 0.8667\n",
            "Epoch 78/100\n",
            "1470/1470 [==============================] - 15s 10ms/step - loss: 1.0430 - acc: 0.9238 - val_loss: 1.1532 - val_acc: 0.8873\n",
            "Epoch 79/100\n",
            "1470/1470 [==============================] - 15s 11ms/step - loss: 0.9590 - acc: 0.9442 - val_loss: 1.1901 - val_acc: 0.8730\n",
            "Epoch 80/100\n",
            "1470/1470 [==============================] - 15s 10ms/step - loss: 0.9167 - acc: 0.9510 - val_loss: 1.0713 - val_acc: 0.8968\n",
            "Epoch 81/100\n",
            "1470/1470 [==============================] - 15s 10ms/step - loss: 0.9409 - acc: 0.9367 - val_loss: 1.0582 - val_acc: 0.9095\n",
            "Epoch 82/100\n",
            "1470/1470 [==============================] - 15s 10ms/step - loss: 0.9123 - acc: 0.9347 - val_loss: 1.0258 - val_acc: 0.9000\n",
            "Epoch 83/100\n",
            "1470/1470 [==============================] - 15s 10ms/step - loss: 0.9170 - acc: 0.9408 - val_loss: 0.9983 - val_acc: 0.9222\n",
            "Epoch 84/100\n",
            "1470/1470 [==============================] - 15s 11ms/step - loss: 0.9265 - acc: 0.9299 - val_loss: 1.0234 - val_acc: 0.8984\n",
            "Epoch 85/100\n",
            "1470/1470 [==============================] - 15s 11ms/step - loss: 0.8534 - acc: 0.9531 - val_loss: 1.0097 - val_acc: 0.8968\n",
            "Epoch 86/100\n",
            "1470/1470 [==============================] - 15s 10ms/step - loss: 0.8693 - acc: 0.9422 - val_loss: 0.9715 - val_acc: 0.9063\n",
            "Epoch 87/100\n",
            "1470/1470 [==============================] - 15s 11ms/step - loss: 0.8522 - acc: 0.9442 - val_loss: 0.9730 - val_acc: 0.9127\n",
            "Epoch 88/100\n",
            "1470/1470 [==============================] - 15s 10ms/step - loss: 0.8624 - acc: 0.9476 - val_loss: 0.9958 - val_acc: 0.8984\n",
            "Epoch 89/100\n",
            "1470/1470 [==============================] - 15s 10ms/step - loss: 0.7908 - acc: 0.9592 - val_loss: 0.9324 - val_acc: 0.9270\n",
            "Epoch 90/100\n",
            "1470/1470 [==============================] - 15s 10ms/step - loss: 0.7764 - acc: 0.9578 - val_loss: 0.9858 - val_acc: 0.9016\n",
            "Epoch 91/100\n",
            "1470/1470 [==============================] - 15s 10ms/step - loss: 0.7897 - acc: 0.9463 - val_loss: 1.1672 - val_acc: 0.8524\n",
            "Epoch 92/100\n",
            "1470/1470 [==============================] - 15s 10ms/step - loss: 0.7749 - acc: 0.9531 - val_loss: 0.9394 - val_acc: 0.9175\n",
            "Epoch 93/100\n",
            "1470/1470 [==============================] - 15s 10ms/step - loss: 0.8167 - acc: 0.9388 - val_loss: 1.0524 - val_acc: 0.8810\n",
            "Epoch 94/100\n",
            "1470/1470 [==============================] - 15s 10ms/step - loss: 0.8205 - acc: 0.9367 - val_loss: 1.0255 - val_acc: 0.8857\n",
            "Epoch 95/100\n",
            "1470/1470 [==============================] - 15s 10ms/step - loss: 0.7697 - acc: 0.9456 - val_loss: 0.9876 - val_acc: 0.8841\n",
            "Epoch 96/100\n",
            "1470/1470 [==============================] - 15s 10ms/step - loss: 0.7954 - acc: 0.9429 - val_loss: 0.9823 - val_acc: 0.8968\n",
            "Epoch 97/100\n",
            "1470/1470 [==============================] - 15s 10ms/step - loss: 0.7929 - acc: 0.9388 - val_loss: 1.0069 - val_acc: 0.8794\n",
            "Epoch 98/100\n",
            "1470/1470 [==============================] - 15s 10ms/step - loss: 0.7410 - acc: 0.9517 - val_loss: 0.9389 - val_acc: 0.9000\n",
            "Epoch 99/100\n",
            "1470/1470 [==============================] - 15s 10ms/step - loss: 0.7459 - acc: 0.9463 - val_loss: 0.8697 - val_acc: 0.9159\n",
            "Epoch 100/100\n",
            "1470/1470 [==============================] - 15s 11ms/step - loss: 0.7568 - acc: 0.9469 - val_loss: 0.8791 - val_acc: 0.9190\n"
          ],
          "name": "stdout"
        }
      ]
    },
    {
      "cell_type": "code",
      "metadata": {
        "id": "uGDT4nc1dovZ",
        "colab_type": "code",
        "colab": {
          "base_uri": "https://localhost:8080/",
          "height": 733
        },
        "outputId": "d38ce1da-1820-4d4f-e4e5-329b917c0fe6"
      },
      "source": [
        "pd.DataFrame(history.history)[['acc', 'val_acc']].plot(figsize = (16,12), title = \"Raga Classification, Accuracy\")"
      ],
      "execution_count": 107,
      "outputs": [
        {
          "output_type": "execute_result",
          "data": {
            "text/plain": [
              "<matplotlib.axes._subplots.AxesSubplot at 0x7f740f10c9e8>"
            ]
          },
          "metadata": {
            "tags": []
          },
          "execution_count": 107
        },
        {
          "output_type": "display_data",
          "data": {
            "image/png": "[encoded data removed]",
            "text/plain": [
              "<Figure size 1152x864 with 1 Axes>"
            ]
          },
          "metadata": {
            "tags": [],
            "needs_background": "light"
          }
        }
      ]
    },
    {
      "cell_type": "code",
      "metadata": {
        "id": "9iBu2R9Mm7W1",
        "colab_type": "code",
        "colab": {
          "base_uri": "https://localhost:8080/",
          "height": 733
        },
        "outputId": "df840dac-565c-4585-82be-3e4811b4a111"
      },
      "source": [
        "pd.DataFrame(history.history)[['loss', 'val_loss']].plot(figsize = (16,12), title = \"Raga Classification, Loss\")"
      ],
      "execution_count": 108,
      "outputs": [
        {
          "output_type": "execute_result",
          "data": {
            "text/plain": [
              "<matplotlib.axes._subplots.AxesSubplot at 0x7f76a3361f60>"
            ]
          },
          "metadata": {
            "tags": []
          },
          "execution_count": 108
        },
        {
          "output_type": "display_data",
          "data": {
            "image/png": "[encoded data removed]",
            "text/plain": [
              "<Figure size 1152x864 with 1 Axes>"
            ]
          },
          "metadata": {
            "tags": [],
            "needs_background": "light"
          }
        }
      ]
    },
    {
      "cell_type": "code",
      "metadata": {
        "id": "73-bmQ9joasn",
        "colab_type": "code",
        "colab": {}
      },
      "source": [
        ""
      ],
      "execution_count": null,
      "outputs": []
    }
  ]
}