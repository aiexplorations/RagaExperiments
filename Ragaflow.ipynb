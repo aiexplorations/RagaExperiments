{
  "nbformat": 4,
  "nbformat_minor": 0,
  "metadata": {
    "kernelspec": {
      "display_name": "Python 3",
      "language": "python",
      "name": "python3"
    },
    "language_info": {
      "codemirror_mode": {
        "name": "ipython",
        "version": 3
      },
      "file_extension": ".py",
      "mimetype": "text/x-python",
      "name": "python",
      "nbconvert_exporter": "python",
      "pygments_lexer": "ipython3",
      "version": "3.7.6"
    },
    "colab": {
      "name": "Ragaflow.ipynb",
      "provenance": [],
      "collapsed_sections": [],
      "include_colab_link": true
    },
    "accelerator": "GPU"
  },
  "cells": [
    {
      "cell_type": "markdown",
      "metadata": {
        "id": "view-in-github",
        "colab_type": "text"
      },
      "source": [
        "<a href=\"https://colab.research.google.com/github/aiexplorations/RagaExperiments/blob/master/Ragaflow.ipynb\" target=\"_parent\"><img src=\"https://colab.research.google.com/assets/colab-badge.svg\" alt=\"Open In Colab\"/></a>"
      ]
    },
    {
      "cell_type": "code",
      "metadata": {
        "id": "9bY5oXbG4ll9",
        "colab_type": "code",
        "colab": {
          "base_uri": "https://localhost:8080/",
          "height": 34
        },
        "outputId": "3832ab38-c9aa-43ed-a028-e9d382f21dd6"
      },
      "source": [
        "!pip install pydub"
      ],
      "execution_count": 2,
      "outputs": [
        {
          "output_type": "stream",
          "text": [
            "Requirement already satisfied: pydub in /usr/local/lib/python3.6/dist-packages (0.24.1)\n"
          ],
          "name": "stdout"
        }
      ]
    },
    {
      "cell_type": "code",
      "metadata": {
        "id": "wpjWDALP3ucy",
        "colab_type": "code",
        "colab": {
          "base_uri": "https://localhost:8080/",
          "height": 34
        },
        "outputId": "2b137149-356e-4760-df35-8a8cd5e0120f"
      },
      "source": [
        "import glob\n",
        "\n",
        "# Importing drive method from colab for accessing google drive\n",
        "from google.colab import drive\n",
        "\n",
        "drive.mount('/content/drive')\n",
        "\n",
        "\n",
        "data_files = glob.glob(\"/content/drive/My Drive/AIExplorations/carnatic_ragas_data/\")"
      ],
      "execution_count": 3,
      "outputs": [
        {
          "output_type": "stream",
          "text": [
            "Drive already mounted at /content/drive; to attempt to forcibly remount, call drive.mount(\"/content/drive\", force_remount=True).\n"
          ],
          "name": "stdout"
        }
      ]
    },
    {
      "cell_type": "code",
      "metadata": {
        "id": "9VRkiGmp343A",
        "colab_type": "code",
        "colab": {
          "base_uri": "https://localhost:8080/",
          "height": 34
        },
        "outputId": "a62061b7-23f2-45bf-b0a0-587338de7993"
      },
      "source": [
        "!ls \"/content/drive/My Drive/AIExplorations/carnatic_ragas_data/new_processed_data\""
      ],
      "execution_count": 4,
      "outputs": [
        {
          "output_type": "stream",
          "text": [
            "bhairavi  kalyani  kambhoji  kharaharapriya  shankarabharanam  thodi  varali\n"
          ],
          "name": "stdout"
        }
      ]
    },
    {
      "cell_type": "code",
      "metadata": {
        "id": "2CPJtsYR3keZ",
        "colab_type": "code",
        "colab": {}
      },
      "source": [
        "import numpy as np\n",
        "from pydub import AudioSegment\n",
        "import matplotlib.pyplot as plt\n",
        "import os\n",
        "import tensorflow as tf\n",
        "import pandas as pd"
      ],
      "execution_count": 5,
      "outputs": []
    },
    {
      "cell_type": "code",
      "metadata": {
        "id": "nr4jrbur3ked",
        "colab_type": "code",
        "colab": {
          "base_uri": "https://localhost:8080/",
          "height": 141
        },
        "outputId": "afecd083-12d0-4345-8ecc-ee03a90a91d3"
      },
      "source": [
        "basepath = \"/content/drive/My Drive/AIExplorations/carnatic_ragas_data/new_processed_data\"\n",
        "ragas = []\n",
        "for entry in os.listdir(basepath):\n",
        "    if os.path.isdir(os.path.join(basepath, entry)):\n",
        "        print(entry)\n",
        "        ragas.append(entry)\n"
      ],
      "execution_count": 6,
      "outputs": [
        {
          "output_type": "stream",
          "text": [
            "kharaharapriya\n",
            "varali\n",
            "kalyani\n",
            "bhairavi\n",
            "shankarabharanam\n",
            "kambhoji\n",
            "thodi\n"
          ],
          "name": "stdout"
        }
      ]
    },
    {
      "cell_type": "code",
      "metadata": {
        "id": "qjVAF8lL3keg",
        "colab_type": "code",
        "colab": {
          "base_uri": "https://localhost:8080/",
          "height": 141
        },
        "outputId": "c51eba91-119b-42a3-f6f3-c1041905b926"
      },
      "source": [
        "dataset = {}\n",
        "NUMFILES = 200\n",
        "SNIPPETSIZE = 100000\n",
        "for raga in ragas:\n",
        "    #sequence list in which to store all the sequences from each file\n",
        "    sequence_list = []\n",
        "    files = os.listdir(os.path.join(basepath, raga))\n",
        "    print(\"Processing files for raga \",raga, \"...\")\n",
        "    for file in files[0:NUMFILES]: \n",
        "        filename = os.path.join(basepath, raga, file)\n",
        "        sound = AudioSegment.from_file(filename, sample_rate_Hz=12000, sample_width = 1, channels = 1, format = 'mp3')\n",
        "        sequence_list.append(sound.get_array_of_samples()[0:SNIPPETSIZE])\n",
        "    padded_sequence = tf.keras.preprocessing.sequence.pad_sequences(sequence_list)\n",
        "    dataset[raga] = padded_sequence"
      ],
      "execution_count": 7,
      "outputs": [
        {
          "output_type": "stream",
          "text": [
            "Processing files for raga  kharaharapriya ...\n",
            "Processing files for raga  varali ...\n",
            "Processing files for raga  kalyani ...\n",
            "Processing files for raga  bhairavi ...\n",
            "Processing files for raga  shankarabharanam ...\n",
            "Processing files for raga  kambhoji ...\n",
            "Processing files for raga  thodi ...\n"
          ],
          "name": "stdout"
        }
      ]
    },
    {
      "cell_type": "code",
      "metadata": {
        "id": "s5UjzJtXFT1W",
        "colab_type": "code",
        "colab": {}
      },
      "source": [
        "n_records = len(dataset)*NUMFILES"
      ],
      "execution_count": 8,
      "outputs": []
    },
    {
      "cell_type": "code",
      "metadata": {
        "id": "mcVoXWCYO2_u",
        "colab_type": "code",
        "colab": {}
      },
      "source": [
        "raga_dict = {value: idx for idx, value in enumerate(ragas)}"
      ],
      "execution_count": 9,
      "outputs": []
    },
    {
      "cell_type": "code",
      "metadata": {
        "id": "VZ0P9JmY5rbG",
        "colab_type": "code",
        "colab": {
          "base_uri": "https://localhost:8080/",
          "height": 141
        },
        "outputId": "3d2554ca-5bf2-48d8-cbd0-e78ac48714c0"
      },
      "source": [
        "raga_dict"
      ],
      "execution_count": 28,
      "outputs": [
        {
          "output_type": "execute_result",
          "data": {
            "text/plain": [
              "{'bhairavi': 3,\n",
              " 'kalyani': 2,\n",
              " 'kambhoji': 5,\n",
              " 'kharaharapriya': 0,\n",
              " 'shankarabharanam': 4,\n",
              " 'thodi': 6,\n",
              " 'varali': 1}"
            ]
          },
          "metadata": {
            "tags": []
          },
          "execution_count": 28
        }
      ]
    },
    {
      "cell_type": "code",
      "metadata": {
        "id": "QRISxxHdOsKQ",
        "colab_type": "code",
        "colab": {}
      },
      "source": [
        "prepared_data = []\n",
        "prepared_labels = []\n",
        "\n",
        "for key, value in dataset.items():\n",
        "  for row in value:\n",
        "    if len(row) < SNIPPETSIZE:\n",
        "      t = SNIPPETSIZE - len(row)\n",
        "      row = np.pad(row, (0,t), \"constant\") #padding logic to solve the problem of different sequence lengths\n",
        "    prepared_data.append(row)\n",
        "    prepared_labels.append(raga_dict[key])\n",
        "prepared_data = np.vstack(prepared_data).reshape(n_records, SNIPPETSIZE, 1)\n",
        "prepared_labels = np.stack(prepared_labels)"
      ],
      "execution_count": 10,
      "outputs": []
    },
    {
      "cell_type": "code",
      "metadata": {
        "id": "zd-VxIR5Jumk",
        "colab_type": "code",
        "colab": {
          "base_uri": "https://localhost:8080/",
          "height": 34
        },
        "outputId": "986ea07a-460d-4788-ae74-c1c81499c264"
      },
      "source": [
        "prepared_data.shape"
      ],
      "execution_count": 11,
      "outputs": [
        {
          "output_type": "execute_result",
          "data": {
            "text/plain": [
              "(1400, 100000, 1)"
            ]
          },
          "metadata": {
            "tags": []
          },
          "execution_count": 11
        }
      ]
    },
    {
      "cell_type": "code",
      "metadata": {
        "id": "vgko8zmaJ_nx",
        "colab_type": "code",
        "colab": {
          "base_uri": "https://localhost:8080/",
          "height": 34
        },
        "outputId": "f800b28a-9f95-4af6-974b-7595526e730d"
      },
      "source": [
        "prepared_labels"
      ],
      "execution_count": 12,
      "outputs": [
        {
          "output_type": "execute_result",
          "data": {
            "text/plain": [
              "array([0, 0, 0, ..., 6, 6, 6])"
            ]
          },
          "metadata": {
            "tags": []
          },
          "execution_count": 12
        }
      ]
    },
    {
      "cell_type": "code",
      "metadata": {
        "id": "NYUI_5hqQcfz",
        "colab_type": "code",
        "colab": {
          "base_uri": "https://localhost:8080/",
          "height": 34
        },
        "outputId": "197ee915-b2ae-4d0d-856e-0fd348141e70"
      },
      "source": [
        "print(len(prepared_data), len(prepared_labels))"
      ],
      "execution_count": 13,
      "outputs": [
        {
          "output_type": "stream",
          "text": [
            "1400 1400\n"
          ],
          "name": "stdout"
        }
      ]
    },
    {
      "cell_type": "code",
      "metadata": {
        "id": "CaX_TeoVTOSw",
        "colab_type": "code",
        "colab": {}
      },
      "source": [
        "seq_size, n_input = prepared_data[0].shape[0], len(prepared_data)"
      ],
      "execution_count": 14,
      "outputs": []
    },
    {
      "cell_type": "code",
      "metadata": {
        "id": "PEe0sQaDd1ci",
        "colab_type": "code",
        "colab": {
          "base_uri": "https://localhost:8080/",
          "height": 34
        },
        "outputId": "fd44024c-b47c-473a-fbae-ba56c0df5881"
      },
      "source": [
        "print(seq_size, n_input)"
      ],
      "execution_count": 15,
      "outputs": [
        {
          "output_type": "stream",
          "text": [
            "100000 1400\n"
          ],
          "name": "stdout"
        }
      ]
    },
    {
      "cell_type": "code",
      "metadata": {
        "id": "XvDOTRvSchWj",
        "colab_type": "code",
        "colab": {
          "base_uri": "https://localhost:8080/",
          "height": 34
        },
        "outputId": "441ba979-4362-4660-9d6b-c1708f9b4331"
      },
      "source": [
        "from keras.utils.np_utils import to_categorical   \n",
        "\n",
        "categorical_labels = to_categorical(prepared_labels, num_classes=len(set(prepared_labels)))"
      ],
      "execution_count": 16,
      "outputs": [
        {
          "output_type": "stream",
          "text": [
            "Using TensorFlow backend.\n"
          ],
          "name": "stderr"
        }
      ]
    },
    {
      "cell_type": "code",
      "metadata": {
        "id": "w0kp4V0gb985",
        "colab_type": "code",
        "colab": {}
      },
      "source": [
        "from keras.models import Sequential\n",
        "from keras.layers import LSTM, Dense, Dropout, BatchNormalization, Flatten, TimeDistributed, Conv1D, MaxPooling1D\n",
        "from keras.losses import categorical_crossentropy\n",
        "from keras.optimizers import Adam\n",
        "from keras.regularizers import l1_l2\n",
        "from sklearn.model_selection import train_test_split"
      ],
      "execution_count": 17,
      "outputs": []
    },
    {
      "cell_type": "code",
      "metadata": {
        "id": "H7kaNzdwIaZL",
        "colab_type": "code",
        "colab": {
          "base_uri": "https://localhost:8080/",
          "height": 34
        },
        "outputId": "ad06ba6c-d17a-4ebd-cfa3-53393f46cfdc"
      },
      "source": [
        "prepared_data.shape, len(prepared_labels)"
      ],
      "execution_count": 18,
      "outputs": [
        {
          "output_type": "execute_result",
          "data": {
            "text/plain": [
              "((1400, 100000, 1), 1400)"
            ]
          },
          "metadata": {
            "tags": []
          },
          "execution_count": 18
        }
      ]
    },
    {
      "cell_type": "code",
      "metadata": {
        "id": "0jDpsmpMcJe0",
        "colab_type": "code",
        "colab": {}
      },
      "source": [
        "train_x, test_x, train_y, test_y = train_test_split(prepared_data, np.array(prepared_labels), test_size = 0.3 )"
      ],
      "execution_count": 19,
      "outputs": []
    },
    {
      "cell_type": "code",
      "metadata": {
        "id": "ygoWz_7IDMrp",
        "colab_type": "code",
        "colab": {
          "base_uri": "https://localhost:8080/",
          "height": 34
        },
        "outputId": "a1a1d18d-7a71-43df-e878-3a38ba21c00c"
      },
      "source": [
        "train_x.shape, train_y.shape, test_x.shape, test_y.shape"
      ],
      "execution_count": 20,
      "outputs": [
        {
          "output_type": "execute_result",
          "data": {
            "text/plain": [
              "((980, 100000, 1), (980,), (420, 100000, 1), (420,))"
            ]
          },
          "metadata": {
            "tags": []
          },
          "execution_count": 20
        }
      ]
    },
    {
      "cell_type": "code",
      "metadata": {
        "id": "YcFBgHIcepa8",
        "colab_type": "code",
        "colab": {
          "base_uri": "https://localhost:8080/",
          "height": 372
        },
        "outputId": "3f06c88b-6537-4c84-bdee-1bcb65d15cb4"
      },
      "source": [
        "test_y"
      ],
      "execution_count": 21,
      "outputs": [
        {
          "output_type": "execute_result",
          "data": {
            "text/plain": [
              "array([2, 0, 0, 5, 1, 5, 6, 5, 5, 4, 6, 0, 1, 0, 3, 1, 0, 6, 4, 1, 5, 4,\n",
              "       0, 4, 3, 2, 6, 3, 5, 4, 0, 3, 0, 4, 2, 2, 2, 5, 5, 2, 4, 5, 5, 5,\n",
              "       6, 5, 2, 4, 5, 4, 5, 4, 2, 5, 0, 2, 3, 5, 2, 0, 2, 1, 4, 6, 2, 2,\n",
              "       4, 3, 2, 1, 6, 2, 3, 6, 3, 5, 4, 2, 6, 6, 5, 2, 6, 0, 6, 5, 1, 1,\n",
              "       2, 5, 3, 0, 6, 1, 2, 5, 4, 0, 0, 0, 0, 0, 5, 0, 0, 2, 5, 0, 6, 2,\n",
              "       3, 0, 6, 6, 4, 1, 0, 0, 0, 5, 3, 3, 2, 5, 1, 6, 4, 6, 2, 6, 4, 6,\n",
              "       0, 3, 4, 5, 2, 3, 4, 3, 4, 2, 1, 2, 0, 5, 2, 1, 1, 0, 2, 1, 2, 5,\n",
              "       6, 2, 3, 0, 2, 3, 1, 0, 4, 2, 2, 1, 3, 4, 5, 4, 4, 6, 4, 1, 1, 6,\n",
              "       2, 3, 3, 4, 3, 6, 6, 0, 0, 3, 5, 2, 6, 3, 0, 5, 6, 2, 1, 0, 3, 4,\n",
              "       0, 0, 3, 6, 1, 6, 2, 0, 6, 4, 0, 1, 6, 3, 2, 6, 2, 6, 6, 2, 3, 4,\n",
              "       4, 4, 4, 0, 0, 2, 0, 0, 0, 3, 4, 5, 3, 6, 5, 3, 4, 1, 2, 6, 0, 5,\n",
              "       4, 5, 5, 0, 5, 5, 2, 1, 4, 0, 0, 0, 1, 0, 0, 2, 5, 5, 0, 6, 3, 4,\n",
              "       5, 0, 1, 5, 0, 3, 0, 2, 1, 2, 0, 1, 5, 0, 1, 0, 0, 1, 2, 1, 0, 2,\n",
              "       3, 0, 3, 5, 1, 6, 1, 0, 4, 3, 5, 2, 6, 6, 2, 6, 1, 0, 0, 1, 0, 6,\n",
              "       3, 4, 1, 2, 6, 6, 3, 0, 5, 5, 3, 5, 5, 1, 2, 5, 2, 4, 0, 2, 3, 4,\n",
              "       0, 4, 4, 1, 2, 6, 1, 6, 2, 0, 0, 1, 4, 1, 0, 4, 2, 5, 0, 4, 2, 4,\n",
              "       2, 1, 6, 6, 3, 5, 3, 6, 4, 5, 1, 2, 0, 5, 6, 1, 4, 2, 1, 3, 2, 3,\n",
              "       2, 0, 3, 4, 3, 2, 6, 4, 5, 4, 6, 4, 2, 3, 6, 5, 2, 3, 2, 1, 5, 1,\n",
              "       4, 5, 1, 5, 5, 6, 2, 1, 3, 2, 6, 1, 4, 6, 4, 2, 0, 6, 0, 4, 3, 4,\n",
              "       0, 5])"
            ]
          },
          "metadata": {
            "tags": []
          },
          "execution_count": 21
        }
      ]
    },
    {
      "cell_type": "code",
      "metadata": {
        "id": "-kLfKPJpb-mh",
        "colab_type": "code",
        "colab": {}
      },
      "source": [
        "batchsize = 32\n",
        "epochs = 100\n",
        "n_units = 32\n",
        "n_hidden = 32\n",
        "lr = 1e-3\n",
        "decay = 0.1 * lr\n",
        "dropout_pc = 0.01\n",
        "l1, l2 = 0.01, 0.01\n",
        "n_classes = len(set(train_y))"
      ],
      "execution_count": 23,
      "outputs": []
    },
    {
      "cell_type": "code",
      "metadata": {
        "id": "IcfO_7qOfDbj",
        "colab_type": "code",
        "colab": {
          "base_uri": "https://localhost:8080/",
          "height": 34
        },
        "outputId": "62827b49-d5f7-4c75-b2c9-e46869c5fadb"
      },
      "source": [
        "n_classes"
      ],
      "execution_count": 507,
      "outputs": [
        {
          "output_type": "execute_result",
          "data": {
            "text/plain": [
              "7"
            ]
          },
          "metadata": {
            "tags": []
          },
          "execution_count": 507
        }
      ]
    },
    {
      "cell_type": "code",
      "metadata": {
        "id": "AmaY8T01dZMO",
        "colab_type": "code",
        "colab": {}
      },
      "source": [
        "model = Sequential([\n",
        "    TimeDistributed(Conv1D(filters = 100, kernel_size = 10, padding = 'same', activation = 'relu', strides=4), \n",
        "                    batch_input_shape = (None, 1, seq_size, 1) ),\n",
        "    TimeDistributed(Conv1D(filters = 50, kernel_size = 5, padding = 'same', activation = 'relu', strides=2)),\n",
        "    TimeDistributed(BatchNormalization()),\n",
        "    TimeDistributed(MaxPooling1D(pool_size=100)),\n",
        "    TimeDistributed(Flatten()),\n",
        "    LSTM(units = n_units, activation = \"relu\", kernel_regularizer = l1_l2(l1, l2), \n",
        "         input_shape = (seq_size, 1), return_sequences = True),\n",
        "    Dense(n_hidden, activation = \"tanh\"),\n",
        "    LSTM(units = n_units, activation = \"relu\", kernel_regularizer = l1_l2(l1, l2), \n",
        "         dropout = dropout_pc, return_sequences = False),\n",
        "    Dense(n_hidden, activation = \"relu\"),\n",
        "    BatchNormalization(),\n",
        "    Dense(n_hidden, activation = \"tanh\"),\n",
        "    BatchNormalization(),\n",
        "    Dense(n_hidden, activation = \"relu\"),\n",
        "    Dropout(dropout_pc),\n",
        "    Dense(n_classes, activation = \"softmax\")\n",
        "    ])"
      ],
      "execution_count": 24,
      "outputs": []
    },
    {
      "cell_type": "code",
      "metadata": {
        "id": "2RWhry_gdgDH",
        "colab_type": "code",
        "colab": {
          "base_uri": "https://localhost:8080/",
          "height": 710
        },
        "outputId": "97431653-4f0e-4c22-84a3-2023bb3dbcec"
      },
      "source": [
        "model.compile(optimizer = 'adam', loss= 'sparse_categorical_crossentropy', metrics= ['acc'])\n",
        "print(model.summary())"
      ],
      "execution_count": 25,
      "outputs": [
        {
          "output_type": "stream",
          "text": [
            "Model: \"sequential_1\"\n",
            "_________________________________________________________________\n",
            "Layer (type)                 Output Shape              Param #   \n",
            "=================================================================\n",
            "time_distributed_1 (TimeDist (None, 1, 25000, 100)     1100      \n",
            "_________________________________________________________________\n",
            "time_distributed_2 (TimeDist (None, 1, 12500, 50)      25050     \n",
            "_________________________________________________________________\n",
            "time_distributed_3 (TimeDist (None, 1, 12500, 50)      200       \n",
            "_________________________________________________________________\n",
            "time_distributed_4 (TimeDist (None, 1, 125, 50)        0         \n",
            "_________________________________________________________________\n",
            "time_distributed_5 (TimeDist (None, 1, 6250)           0         \n",
            "_________________________________________________________________\n",
            "lstm_1 (LSTM)                (None, 1, 32)             804224    \n",
            "_________________________________________________________________\n",
            "dense_1 (Dense)              (None, 1, 32)             1056      \n",
            "_________________________________________________________________\n",
            "lstm_2 (LSTM)                (None, 32)                8320      \n",
            "_________________________________________________________________\n",
            "dense_2 (Dense)              (None, 32)                1056      \n",
            "_________________________________________________________________\n",
            "batch_normalization_2 (Batch (None, 32)                128       \n",
            "_________________________________________________________________\n",
            "dense_3 (Dense)              (None, 32)                1056      \n",
            "_________________________________________________________________\n",
            "batch_normalization_3 (Batch (None, 32)                128       \n",
            "_________________________________________________________________\n",
            "dense_4 (Dense)              (None, 32)                1056      \n",
            "_________________________________________________________________\n",
            "dropout_1 (Dropout)          (None, 32)                0         \n",
            "_________________________________________________________________\n",
            "dense_5 (Dense)              (None, 7)                 231       \n",
            "=================================================================\n",
            "Total params: 843,605\n",
            "Trainable params: 843,377\n",
            "Non-trainable params: 228\n",
            "_________________________________________________________________\n",
            "None\n"
          ],
          "name": "stdout"
        }
      ]
    },
    {
      "cell_type": "code",
      "metadata": {
        "id": "dZ278ekRTtZ2",
        "colab_type": "code",
        "colab": {
          "base_uri": "https://localhost:8080/",
          "height": 34
        },
        "outputId": "41d621ed-c0e3-4a25-aa2b-3def80b998b0"
      },
      "source": [
        "len(train_x.reshape((train_x.shape[0], 1, train_x.shape[1], 1))), len(train_y)"
      ],
      "execution_count": 26,
      "outputs": [
        {
          "output_type": "execute_result",
          "data": {
            "text/plain": [
              "(980, 980)"
            ]
          },
          "metadata": {
            "tags": []
          },
          "execution_count": 26
        }
      ]
    },
    {
      "cell_type": "code",
      "metadata": {
        "id": "02DavIpDdiD7",
        "colab_type": "code",
        "colab": {
          "base_uri": "https://localhost:8080/",
          "height": 1000
        },
        "outputId": "9564b0df-1668-432b-82d7-7c1422d462c0"
      },
      "source": [
        "history = model.fit(x = train_x.reshape((train_x.shape[0], 1, train_x.shape[1], 1)), \n",
        "                    y = train_y, \n",
        "                    batch_size= batchsize, \n",
        "                    epochs= epochs, \n",
        "                    verbose= 1,\n",
        "                    validation_data=[test_x.reshape((test_x.shape[0], 1, test_x.shape[1], 1)), test_y])"
      ],
      "execution_count": 27,
      "outputs": [
        {
          "output_type": "stream",
          "text": [
            "Train on 980 samples, validate on 420 samples\n",
            "Epoch 1/100\n",
            "980/980 [==============================] - 13s 14ms/step - loss: 68.0610 - acc: 0.3235 - val_loss: 25.5126 - val_acc: 0.1714\n",
            "Epoch 2/100\n",
            "980/980 [==============================] - 4s 4ms/step - loss: 16.3372 - acc: 0.5398 - val_loss: 11.1997 - val_acc: 0.3286\n",
            "Epoch 3/100\n",
            "980/980 [==============================] - 4s 4ms/step - loss: 8.8136 - acc: 0.6031 - val_loss: 8.1911 - val_acc: 0.3643\n",
            "Epoch 4/100\n",
            "980/980 [==============================] - 4s 4ms/step - loss: 6.5191 - acc: 0.6592 - val_loss: 7.6278 - val_acc: 0.3833\n",
            "Epoch 5/100\n",
            "980/980 [==============================] - 4s 4ms/step - loss: 6.5338 - acc: 0.6429 - val_loss: 8.1717 - val_acc: 0.4000\n",
            "Epoch 6/100\n",
            "980/980 [==============================] - 4s 4ms/step - loss: 6.5045 - acc: 0.6694 - val_loss: 6.3251 - val_acc: 0.5071\n",
            "Epoch 7/100\n",
            "980/980 [==============================] - 4s 4ms/step - loss: 5.2218 - acc: 0.7143 - val_loss: 5.7128 - val_acc: 0.5548\n",
            "Epoch 8/100\n",
            "980/980 [==============================] - 4s 4ms/step - loss: 5.4974 - acc: 0.7061 - val_loss: 6.6449 - val_acc: 0.5167\n",
            "Epoch 9/100\n",
            "980/980 [==============================] - 4s 4ms/step - loss: 5.9522 - acc: 0.7194 - val_loss: 5.6925 - val_acc: 0.5786\n",
            "Epoch 10/100\n",
            "980/980 [==============================] - 4s 4ms/step - loss: 4.6194 - acc: 0.7510 - val_loss: 4.6893 - val_acc: 0.7048\n",
            "Epoch 11/100\n",
            "980/980 [==============================] - 4s 4ms/step - loss: 4.9075 - acc: 0.7082 - val_loss: 5.0283 - val_acc: 0.6262\n",
            "Epoch 12/100\n",
            "980/980 [==============================] - 4s 4ms/step - loss: 4.1713 - acc: 0.8031 - val_loss: 5.0510 - val_acc: 0.4952\n",
            "Epoch 13/100\n",
            "980/980 [==============================] - 4s 4ms/step - loss: 3.5076 - acc: 0.8143 - val_loss: 4.6006 - val_acc: 0.4786\n",
            "Epoch 14/100\n",
            "980/980 [==============================] - 4s 4ms/step - loss: 4.6187 - acc: 0.7776 - val_loss: 6.0318 - val_acc: 0.5714\n",
            "Epoch 15/100\n",
            "980/980 [==============================] - 4s 4ms/step - loss: 4.7895 - acc: 0.7837 - val_loss: 4.5893 - val_acc: 0.6929\n",
            "Epoch 16/100\n",
            "980/980 [==============================] - 4s 4ms/step - loss: 3.3949 - acc: 0.8418 - val_loss: 4.5480 - val_acc: 0.6357\n",
            "Epoch 17/100\n",
            "980/980 [==============================] - 4s 4ms/step - loss: 3.5914 - acc: 0.8429 - val_loss: 3.1277 - val_acc: 0.7548\n",
            "Epoch 18/100\n",
            "980/980 [==============================] - 4s 4ms/step - loss: 2.4422 - acc: 0.8500 - val_loss: 4.2237 - val_acc: 0.5357\n",
            "Epoch 19/100\n",
            "980/980 [==============================] - 4s 4ms/step - loss: 3.7780 - acc: 0.8449 - val_loss: 3.5308 - val_acc: 0.6476\n",
            "Epoch 20/100\n",
            "980/980 [==============================] - 4s 4ms/step - loss: 2.5453 - acc: 0.8867 - val_loss: 2.5550 - val_acc: 0.7405\n",
            "Epoch 21/100\n",
            "980/980 [==============================] - 4s 4ms/step - loss: 2.8366 - acc: 0.8531 - val_loss: 4.2490 - val_acc: 0.7143\n",
            "Epoch 22/100\n",
            "980/980 [==============================] - 4s 4ms/step - loss: 3.0203 - acc: 0.8602 - val_loss: 3.3230 - val_acc: 0.5857\n",
            "Epoch 23/100\n",
            "980/980 [==============================] - 4s 5ms/step - loss: 2.4789 - acc: 0.8531 - val_loss: 3.4630 - val_acc: 0.5762\n",
            "Epoch 24/100\n",
            "980/980 [==============================] - 4s 5ms/step - loss: 2.5883 - acc: 0.8724 - val_loss: 3.6817 - val_acc: 0.7548\n",
            "Epoch 25/100\n",
            "980/980 [==============================] - 4s 4ms/step - loss: 3.2371 - acc: 0.8480 - val_loss: 3.3954 - val_acc: 0.7405\n",
            "Epoch 26/100\n",
            "980/980 [==============================] - 4s 4ms/step - loss: 3.0153 - acc: 0.8633 - val_loss: 3.0728 - val_acc: 0.7000\n",
            "Epoch 27/100\n",
            "980/980 [==============================] - 4s 4ms/step - loss: 3.7051 - acc: 0.8429 - val_loss: 5.4142 - val_acc: 0.7810\n",
            "Epoch 28/100\n",
            "980/980 [==============================] - 4s 4ms/step - loss: 3.8818 - acc: 0.8776 - val_loss: 3.0606 - val_acc: 0.7500\n",
            "Epoch 29/100\n",
            "980/980 [==============================] - 4s 4ms/step - loss: 2.5284 - acc: 0.8898 - val_loss: 2.5663 - val_acc: 0.7952\n",
            "Epoch 30/100\n",
            "980/980 [==============================] - 4s 4ms/step - loss: 2.8262 - acc: 0.8418 - val_loss: 2.9387 - val_acc: 0.7595\n",
            "Epoch 31/100\n",
            "980/980 [==============================] - 4s 4ms/step - loss: 2.7319 - acc: 0.8449 - val_loss: 3.0451 - val_acc: 0.7952\n",
            "Epoch 32/100\n",
            "980/980 [==============================] - 4s 4ms/step - loss: 2.3567 - acc: 0.8888 - val_loss: 2.4621 - val_acc: 0.8429\n",
            "Epoch 33/100\n",
            "980/980 [==============================] - 4s 4ms/step - loss: 2.5116 - acc: 0.8765 - val_loss: 2.9484 - val_acc: 0.7357\n",
            "Epoch 34/100\n",
            "980/980 [==============================] - 4s 4ms/step - loss: 2.2409 - acc: 0.8745 - val_loss: 2.8075 - val_acc: 0.6619\n",
            "Epoch 35/100\n",
            "980/980 [==============================] - 4s 4ms/step - loss: 2.4004 - acc: 0.8663 - val_loss: 2.9171 - val_acc: 0.8048\n",
            "Epoch 36/100\n",
            "980/980 [==============================] - 4s 4ms/step - loss: 2.1367 - acc: 0.8918 - val_loss: 2.2324 - val_acc: 0.8024\n",
            "Epoch 37/100\n",
            "980/980 [==============================] - 4s 4ms/step - loss: 1.9666 - acc: 0.8929 - val_loss: 2.2571 - val_acc: 0.7905\n",
            "Epoch 38/100\n",
            "980/980 [==============================] - 4s 4ms/step - loss: 2.6505 - acc: 0.8643 - val_loss: 2.8397 - val_acc: 0.7905\n",
            "Epoch 39/100\n",
            "980/980 [==============================] - 4s 4ms/step - loss: 2.2445 - acc: 0.8857 - val_loss: 3.3507 - val_acc: 0.7071\n",
            "Epoch 40/100\n",
            "980/980 [==============================] - 4s 4ms/step - loss: 3.0994 - acc: 0.8490 - val_loss: 4.7548 - val_acc: 0.6119\n",
            "Epoch 41/100\n",
            "980/980 [==============================] - 4s 4ms/step - loss: 2.2689 - acc: 0.8847 - val_loss: 2.5159 - val_acc: 0.7667\n",
            "Epoch 42/100\n",
            "980/980 [==============================] - 4s 4ms/step - loss: 2.0855 - acc: 0.8908 - val_loss: 2.4496 - val_acc: 0.7952\n",
            "Epoch 43/100\n",
            "980/980 [==============================] - 4s 4ms/step - loss: 1.9448 - acc: 0.8918 - val_loss: 2.3957 - val_acc: 0.7095\n",
            "Epoch 44/100\n",
            "980/980 [==============================] - 4s 4ms/step - loss: 1.6601 - acc: 0.9010 - val_loss: 2.7233 - val_acc: 0.6548\n",
            "Epoch 45/100\n",
            "980/980 [==============================] - 4s 4ms/step - loss: 1.9995 - acc: 0.8806 - val_loss: 2.7858 - val_acc: 0.7405\n",
            "Epoch 46/100\n",
            "980/980 [==============================] - 4s 4ms/step - loss: 2.3483 - acc: 0.8816 - val_loss: 3.1570 - val_acc: 0.7452\n",
            "Epoch 47/100\n",
            "980/980 [==============================] - 4s 4ms/step - loss: 2.5704 - acc: 0.8847 - val_loss: 2.7025 - val_acc: 0.7690\n",
            "Epoch 48/100\n",
            "980/980 [==============================] - 4s 4ms/step - loss: 2.0872 - acc: 0.8990 - val_loss: 2.0587 - val_acc: 0.8714\n",
            "Epoch 49/100\n",
            "980/980 [==============================] - 4s 4ms/step - loss: 1.9245 - acc: 0.9061 - val_loss: 2.2260 - val_acc: 0.7643\n",
            "Epoch 50/100\n",
            "980/980 [==============================] - 4s 4ms/step - loss: 1.6617 - acc: 0.9153 - val_loss: 2.1618 - val_acc: 0.7833\n",
            "Epoch 51/100\n",
            "980/980 [==============================] - 4s 4ms/step - loss: 1.7934 - acc: 0.9010 - val_loss: 2.2854 - val_acc: 0.8381\n",
            "Epoch 52/100\n",
            "980/980 [==============================] - 4s 4ms/step - loss: 1.8714 - acc: 0.9092 - val_loss: 2.1630 - val_acc: 0.7810\n",
            "Epoch 53/100\n",
            "980/980 [==============================] - 4s 4ms/step - loss: 2.1143 - acc: 0.9184 - val_loss: 3.4080 - val_acc: 0.6929\n",
            "Epoch 54/100\n",
            "980/980 [==============================] - 4s 4ms/step - loss: 2.7753 - acc: 0.9061 - val_loss: 2.4829 - val_acc: 0.8524\n",
            "Epoch 55/100\n",
            "980/980 [==============================] - 4s 4ms/step - loss: 2.1289 - acc: 0.9041 - val_loss: 2.4508 - val_acc: 0.7929\n",
            "Epoch 56/100\n",
            "980/980 [==============================] - 4s 4ms/step - loss: 2.8512 - acc: 0.8449 - val_loss: 3.1318 - val_acc: 0.7738\n",
            "Epoch 57/100\n",
            "980/980 [==============================] - 4s 4ms/step - loss: 2.4991 - acc: 0.8684 - val_loss: 2.7047 - val_acc: 0.7714\n",
            "Epoch 58/100\n",
            "980/980 [==============================] - 4s 4ms/step - loss: 2.2091 - acc: 0.8837 - val_loss: 1.9864 - val_acc: 0.8714\n",
            "Epoch 59/100\n",
            "980/980 [==============================] - 4s 4ms/step - loss: 1.7859 - acc: 0.8888 - val_loss: 2.1247 - val_acc: 0.8095\n",
            "Epoch 60/100\n",
            "980/980 [==============================] - 4s 4ms/step - loss: 1.9900 - acc: 0.8908 - val_loss: 1.7509 - val_acc: 0.9167\n",
            "Epoch 61/100\n",
            "980/980 [==============================] - 4s 4ms/step - loss: 1.7388 - acc: 0.9224 - val_loss: 2.9934 - val_acc: 0.7500\n",
            "Epoch 62/100\n",
            "980/980 [==============================] - 4s 4ms/step - loss: 3.5146 - acc: 0.8286 - val_loss: 3.0576 - val_acc: 0.7786\n",
            "Epoch 63/100\n",
            "980/980 [==============================] - 4s 4ms/step - loss: 2.3177 - acc: 0.8857 - val_loss: 2.4881 - val_acc: 0.8000\n",
            "Epoch 64/100\n",
            "980/980 [==============================] - 4s 4ms/step - loss: 2.1433 - acc: 0.8684 - val_loss: 2.4293 - val_acc: 0.8048\n",
            "Epoch 65/100\n",
            "980/980 [==============================] - 4s 4ms/step - loss: 1.9094 - acc: 0.8980 - val_loss: 1.7288 - val_acc: 0.8762\n",
            "Epoch 66/100\n",
            "980/980 [==============================] - 4s 4ms/step - loss: 1.5348 - acc: 0.9224 - val_loss: 1.5418 - val_acc: 0.8929\n",
            "Epoch 67/100\n",
            "980/980 [==============================] - 4s 4ms/step - loss: 1.5310 - acc: 0.9153 - val_loss: 1.9515 - val_acc: 0.7833\n",
            "Epoch 68/100\n",
            "980/980 [==============================] - 4s 4ms/step - loss: 2.0903 - acc: 0.8806 - val_loss: 1.9915 - val_acc: 0.9024\n",
            "Epoch 69/100\n",
            "980/980 [==============================] - 4s 4ms/step - loss: 1.8520 - acc: 0.8929 - val_loss: 1.9816 - val_acc: 0.8262\n",
            "Epoch 70/100\n",
            "980/980 [==============================] - 4s 4ms/step - loss: 1.7724 - acc: 0.9000 - val_loss: 1.6568 - val_acc: 0.9143\n",
            "Epoch 71/100\n",
            "980/980 [==============================] - 4s 4ms/step - loss: 1.6226 - acc: 0.9194 - val_loss: 1.7626 - val_acc: 0.8286\n",
            "Epoch 72/100\n",
            "980/980 [==============================] - 4s 4ms/step - loss: 1.6938 - acc: 0.9122 - val_loss: 2.4211 - val_acc: 0.7952\n",
            "Epoch 73/100\n",
            "980/980 [==============================] - 4s 4ms/step - loss: 2.0145 - acc: 0.9194 - val_loss: 2.1098 - val_acc: 0.8048\n",
            "Epoch 74/100\n",
            "980/980 [==============================] - 4s 4ms/step - loss: 1.5717 - acc: 0.9255 - val_loss: 1.9740 - val_acc: 0.7881\n",
            "Epoch 75/100\n",
            "980/980 [==============================] - 4s 4ms/step - loss: 2.1177 - acc: 0.9000 - val_loss: 1.9539 - val_acc: 0.9143\n",
            "Epoch 76/100\n",
            "980/980 [==============================] - 4s 4ms/step - loss: 1.6671 - acc: 0.9327 - val_loss: 1.7050 - val_acc: 0.8214\n",
            "Epoch 77/100\n",
            "980/980 [==============================] - 4s 4ms/step - loss: 2.1084 - acc: 0.8959 - val_loss: 2.2539 - val_acc: 0.8786\n",
            "Epoch 78/100\n",
            "980/980 [==============================] - 4s 4ms/step - loss: 1.7547 - acc: 0.9367 - val_loss: 1.6918 - val_acc: 0.8833\n",
            "Epoch 79/100\n",
            "980/980 [==============================] - 4s 4ms/step - loss: 1.6745 - acc: 0.9235 - val_loss: 2.5479 - val_acc: 0.7929\n",
            "Epoch 80/100\n",
            "980/980 [==============================] - 4s 4ms/step - loss: 2.1237 - acc: 0.9112 - val_loss: 1.9887 - val_acc: 0.8976\n",
            "Epoch 81/100\n",
            "980/980 [==============================] - 4s 4ms/step - loss: 1.7848 - acc: 0.9204 - val_loss: 1.7373 - val_acc: 0.8833\n",
            "Epoch 82/100\n",
            "980/980 [==============================] - 4s 4ms/step - loss: 1.6598 - acc: 0.9316 - val_loss: 1.5841 - val_acc: 0.9167\n",
            "Epoch 83/100\n",
            "980/980 [==============================] - 4s 4ms/step - loss: 1.6078 - acc: 0.9276 - val_loss: 1.8328 - val_acc: 0.9119\n",
            "Epoch 84/100\n",
            "980/980 [==============================] - 4s 4ms/step - loss: 2.0717 - acc: 0.9296 - val_loss: 2.2783 - val_acc: 0.8667\n",
            "Epoch 85/100\n",
            "980/980 [==============================] - 4s 4ms/step - loss: 2.1071 - acc: 0.9173 - val_loss: 2.1114 - val_acc: 0.8667\n",
            "Epoch 86/100\n",
            "980/980 [==============================] - 4s 4ms/step - loss: 1.7682 - acc: 0.9306 - val_loss: 1.7400 - val_acc: 0.9000\n",
            "Epoch 87/100\n",
            "980/980 [==============================] - 4s 4ms/step - loss: 1.6019 - acc: 0.9337 - val_loss: 1.6756 - val_acc: 0.8881\n",
            "Epoch 88/100\n",
            "980/980 [==============================] - 4s 4ms/step - loss: 1.5294 - acc: 0.9357 - val_loss: 1.7334 - val_acc: 0.8738\n",
            "Epoch 89/100\n",
            "980/980 [==============================] - 4s 4ms/step - loss: 1.5334 - acc: 0.9429 - val_loss: 1.6419 - val_acc: 0.9024\n",
            "Epoch 90/100\n",
            "980/980 [==============================] - 4s 4ms/step - loss: 1.4893 - acc: 0.9388 - val_loss: 1.5858 - val_acc: 0.8929\n",
            "Epoch 91/100\n",
            "980/980 [==============================] - 4s 4ms/step - loss: 1.4892 - acc: 0.9357 - val_loss: 1.5640 - val_acc: 0.9000\n",
            "Epoch 92/100\n",
            "980/980 [==============================] - 4s 4ms/step - loss: 1.4113 - acc: 0.9480 - val_loss: 1.8545 - val_acc: 0.7429\n",
            "Epoch 93/100\n",
            "980/980 [==============================] - 4s 4ms/step - loss: 1.6670 - acc: 0.9194 - val_loss: 1.8304 - val_acc: 0.8762\n",
            "Epoch 94/100\n",
            "980/980 [==============================] - 4s 4ms/step - loss: 1.8042 - acc: 0.9235 - val_loss: 1.8133 - val_acc: 0.9048\n",
            "Epoch 95/100\n",
            "980/980 [==============================] - 4s 4ms/step - loss: 1.8792 - acc: 0.9306 - val_loss: 2.0048 - val_acc: 0.8429\n",
            "Epoch 96/100\n",
            "980/980 [==============================] - 4s 4ms/step - loss: 1.6311 - acc: 0.9388 - val_loss: 1.6952 - val_acc: 0.8857\n",
            "Epoch 97/100\n",
            "980/980 [==============================] - 4s 4ms/step - loss: 1.4422 - acc: 0.9469 - val_loss: 1.8371 - val_acc: 0.8548\n",
            "Epoch 98/100\n",
            "980/980 [==============================] - 4s 4ms/step - loss: 1.5076 - acc: 0.9408 - val_loss: 1.6284 - val_acc: 0.8738\n",
            "Epoch 99/100\n",
            "980/980 [==============================] - 4s 4ms/step - loss: 1.3851 - acc: 0.9500 - val_loss: 1.5076 - val_acc: 0.9000\n",
            "Epoch 100/100\n",
            "980/980 [==============================] - 4s 4ms/step - loss: 1.3642 - acc: 0.9459 - val_loss: 2.3371 - val_acc: 0.8119\n"
          ],
          "name": "stdout"
        }
      ]
    },
    {
      "cell_type": "code",
      "metadata": {
        "id": "uGDT4nc1dovZ",
        "colab_type": "code",
        "colab": {
          "base_uri": "https://localhost:8080/",
          "height": 516
        },
        "outputId": "43772dc9-5ddc-4b41-9f8a-484e045f1771"
      },
      "source": [
        "pd.DataFrame(history.history)[['acc', 'val_acc']].plot(figsize = (12,8), title = \"Raga Classification, Accuracy\")"
      ],
      "execution_count": 31,
      "outputs": [
        {
          "output_type": "execute_result",
          "data": {
            "text/plain": [
              "<matplotlib.axes._subplots.AxesSubplot at 0x7f76a3a12668>"
            ]
          },
          "metadata": {
            "tags": []
          },
          "execution_count": 31
        },
        {
          "output_type": "display_data",
          "data": {
            "image/png": "[encoded data removed]",
            "text/plain": [
              "<Figure size 864x576 with 1 Axes>"
            ]
          },
          "metadata": {
            "tags": [],
            "needs_background": "light"
          }
        }
      ]
    },
    {
      "cell_type": "code",
      "metadata": {
        "id": "9iBu2R9Mm7W1",
        "colab_type": "code",
        "colab": {
          "base_uri": "https://localhost:8080/",
          "height": 516
        },
        "outputId": "2db6e37c-9456-48dd-f16b-682694bcb4fa"
      },
      "source": [
        "pd.DataFrame(history.history)[['loss', 'val_loss']].plot(figsize = (12,8), title = \"Raga Classification, Loss\")"
      ],
      "execution_count": 32,
      "outputs": [
        {
          "output_type": "execute_result",
          "data": {
            "text/plain": [
              "<matplotlib.axes._subplots.AxesSubplot at 0x7f76a3983fd0>"
            ]
          },
          "metadata": {
            "tags": []
          },
          "execution_count": 32
        },
        {
          "output_type": "display_data",
          "data": {
            "image/png": "[encoded data removed]",
            "text/plain": [
              "<Figure size 864x576 with 1 Axes>"
            ]
          },
          "metadata": {
            "tags": [],
            "needs_background": "light"
          }
        }
      ]
    },
    {
      "cell_type": "code",
      "metadata": {
        "id": "73-bmQ9joasn",
        "colab_type": "code",
        "colab": {}
      },
      "source": [
        ""
      ],
      "execution_count": null,
      "outputs": []
    }
  ]
}