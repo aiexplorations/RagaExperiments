{
  "nbformat": 4,
  "nbformat_minor": 0,
  "metadata": {
    "kernelspec": {
      "display_name": "Python 3",
      "language": "python",
      "name": "python3"
    },
    "language_info": {
      "codemirror_mode": {
        "name": "ipython",
        "version": 3
      },
      "file_extension": ".py",
      "mimetype": "text/x-python",
      "name": "python",
      "nbconvert_exporter": "python",
      "pygments_lexer": "ipython3",
      "version": "3.7.6"
    },
    "colab": {
      "name": "Ragaflow.ipynb",
      "provenance": [],
      "collapsed_sections": [],
      "include_colab_link": true
    },
    "accelerator": "GPU"
  },
  "cells": [
    {
      "cell_type": "markdown",
      "metadata": {
        "id": "view-in-github",
        "colab_type": "text"
      },
      "source": [
        "<a href=\"https://colab.research.google.com/github/aiexplorations/RagaExperiments/blob/master/Ragaflow.ipynb\" target=\"_parent\"><img src=\"https://colab.research.google.com/assets/colab-badge.svg\" alt=\"Open In Colab\"/></a>"
      ]
    },
    {
      "cell_type": "markdown",
      "metadata": {
        "id": "qoizquEf72GL",
        "colab_type": "text"
      },
      "source": [
        "# RagaFlow: Classifying Carnatic Music Ragas using Deep Neural Networks\n",
        "\n",
        "Carnatic music is a form of Indian music, specifically from South India. It features complex patterns of scales starting from the 72 cardinal \"parent\" scales, to the many hundreds of derived \"janya\" scales, all of which are liberally used in musical compositions in and of themselves, or in combinations within the same composition. These scales are called ragas, and very often, a raga isn't just a scale, but a complex combination of scales, how to use the notes on the scale, what kinds of transition notes between scales can be played, and so on.\n",
        "\n",
        "In this notebook, I intend to explore how deep learning techniques, combined with some audio signal processing techniques, can help us identify these ragas. \n",
        "\n",
        "The data we use here comes from Sangeethapriya.org, so I'd like to thank them for the data they've made available for listeners. Essentially, clips of tracks by eminent artists (hosted on Sangeethapriya) were taken and processed into short, 5 second segments.\n",
        "\n",
        "Some quick notes:\n",
        "\n",
        "1. In Carnatic music, compositions are generally rendered in a specific ragam\n",
        "2. Practitioners of this form of music may render the raga at any starting pitch - generally a lot of the voices hover around the C, C# and D notes \n",
        "3. Violin accompaniment is common in this form of music - specifically, there is a drone accompaniment to the voice which is considered the leading melody in the music.\n",
        "4. There is no concept of harmony as such in Carnatic music. There is a concept of vivadam (which could be roughly translated to dissonance). However, this is a characteristic of a scale itself, and not a specific performance.\n",
        "5. Long stretches of a Carnatic music concert may be given up to just the percussion instruments. For example, a mridangam (a pitched drum) or a ghatam (a musical instrument very similar to a pot) are used extensively in Carnatic music concerts.\n",
        "6. Generally, rhythm complexity in Carnatic music is high. There are incredible and complex, almost-fractal patterns of beats used in some of the complex songs.Rhythm in Carnatic music is generally called *talam* - we won't dwell on it in this analysis, since we're concerned with the melody - mainly determined by the ragam (raga).\n",
        "\n",
        "\n",
        "These short tracks are then processed as input data, and machine learning models are built on top of this data.\n",
        "\n",
        "Some notes of value to those going through this code:\n",
        "\n",
        "1. Extensive signal analysis of the audio of the songs has not been done. I've just left in the typical noises, clicks, pops, and other kinds of variations in the data that you generally see - mainly because we humans can recognize ragas despite this, and I was just curious about what the model could learn.\n",
        "2. Accounting for silences, mridangam (a kind of Indian pitched drum used in Carnatic music), violin drones or tanpura drones (which generally are used to accompany an artist\n",
        "3. No specific differentiation between vocal and instrumental tracks has been made for the purpose of this analysis. The dataset contains both vocal and instrumental tracks - and perhaps this is for the better (I don't know for sure).\n",
        "4. I've not done additional processing on the sound data apart from sampling in the data at different rates (here, I've used 12 kHz. Perhaps it is possible to use a different sampling rate to solve this problem too.\n",
        "5. I experimented with a bunch of different models, and LSTMs are notoriously difficult to stabilize when you have smaller amounts of data. They do get better as you increase data volumes and tread carefully on regularization, dropout and such randomization hyperparameters. This is something I'm still exploring.\n",
        "\n"
      ]
    },
    {
      "cell_type": "code",
      "metadata": {
        "id": "9bY5oXbG4ll9",
        "colab_type": "code",
        "colab": {
          "base_uri": "https://localhost:8080/",
          "height": 34
        },
        "outputId": "b61ae0c5-d5a8-4bc5-9ae7-a463b5fcabc7"
      },
      "source": [
        "  # PyDub is a nice library for audio processing, which includes the AudioSegment class.\n",
        "  # AudioSegment is used to read and segment different music files (with potentially different encodings, rates, etc) and bring them in as lists\n",
        "  # These lists are then converted to numpy arrays that are then used to prepare the data for training.\n",
        "  \n",
        "  !pip install pydub"
      ],
      "execution_count": 33,
      "outputs": [
        {
          "output_type": "stream",
          "text": [
            "Requirement already satisfied: pydub in /usr/local/lib/python3.6/dist-packages (0.24.1)\n"
          ],
          "name": "stdout"
        }
      ]
    },
    {
      "cell_type": "code",
      "metadata": {
        "id": "wpjWDALP3ucy",
        "colab_type": "code",
        "colab": {
          "base_uri": "https://localhost:8080/",
          "height": 34
        },
        "outputId": "2b137149-356e-4760-df35-8a8cd5e0120f"
      },
      "source": [
        "# Here we bring in the data from a Google Drive directory, using the glob package, and the google package - \n",
        "# The 'drive' class within the colab module allows us to mount folders and make the files available within Jupyter\n",
        "\n",
        "import glob\n",
        "\n",
        "# Importing drive method from colab for accessing google drive\n",
        "from google.colab import drive\n",
        "\n",
        "drive.mount('/content/drive')\n",
        "\n",
        "\n",
        "data_files = glob.glob(\"/content/drive/My Drive/AIExplorations/carnatic_ragas_data/\")"
      ],
      "execution_count": 3,
      "outputs": [
        {
          "output_type": "stream",
          "text": [
            "Drive already mounted at /content/drive; to attempt to forcibly remount, call drive.mount(\"/content/drive\", force_remount=True).\n"
          ],
          "name": "stdout"
        }
      ]
    },
    {
      "cell_type": "markdown",
      "metadata": {
        "id": "WXT5EUuiAEvL",
        "colab_type": "text"
      },
      "source": [
        "# The Seven Main Ragas\n",
        "\n",
        "Though Carnatic music is known to have hundreds of distinct ragas, each with a unique sound (or \"colour\" as ragas are described to be analogous with different colours ... which kind of makes sense from a signal processing perspective), the most commonly performed ragas, also called the \"main\" ragas of Carnatic music are the following:\n",
        "\n",
        "1. Shankarabharanam - often associated with the major scale of Western Classical music\n",
        "2. Kalyani - Similar to Shankarabharanam notes-wise, just one note apart technically, but that one note makes a huge difference to the sound and feel of this raga\n",
        "3. Kambhoji - an uplifting, asymmetrical ragam with different sets of notes during the ascending and descending phases of the raga\n",
        "4. Thodi - An austere and grim-sounding raga with a deeply Indian vibe.\n",
        "5. Varali - A variation on the Thodi raga, subtle, austere and grim\n",
        "6. Bhairavi - An asymmetric raga that is closer to the Dorian or minor scales of Western music but again, uniquely Indian in flavour\n",
        "7. Kharaharapriya - the Indian counterpart of the Greek Dorian mode (with extensive character of its own)\n",
        "\n",
        "I'm not a musician outside of some guitar and although a Carnatic music aficionado, I wouldn't be qualified to write in depth about these ragas. However, I love the music and this problem of being able to understand musical notes through deep learning.\n",
        "\n",
        "The data for each of these ragas is stored in a separate folder named for the raga.\n"
      ]
    },
    {
      "cell_type": "code",
      "metadata": {
        "id": "9VRkiGmp343A",
        "colab_type": "code",
        "colab": {
          "base_uri": "https://localhost:8080/",
          "height": 34
        },
        "outputId": "abfb5116-a562-4907-d8b5-adecf250edab"
      },
      "source": [
        "# Running a shell command to check the folders available with raga names associated with them - these are the seven \"main\" ragas of Carnatic music.\n",
        "\n",
        "!ls \"/content/drive/My Drive/AIExplorations/carnatic_ragas_data/new_processed_data\""
      ],
      "execution_count": 34,
      "outputs": [
        {
          "output_type": "stream",
          "text": [
            "bhairavi  kalyani  kambhoji  kharaharapriya  shankarabharanam  thodi  varali\n"
          ],
          "name": "stdout"
        }
      ]
    },
    {
      "cell_type": "code",
      "metadata": {
        "id": "2CPJtsYR3keZ",
        "colab_type": "code",
        "colab": {}
      },
      "source": [
        "import numpy as np\n",
        "from pydub import AudioSegment\n",
        "import matplotlib.pyplot as plt\n",
        "import os\n",
        "import tensorflow as tf\n",
        "import pandas as pd"
      ],
      "execution_count": 5,
      "outputs": []
    },
    {
      "cell_type": "code",
      "metadata": {
        "id": "nr4jrbur3ked",
        "colab_type": "code",
        "colab": {
          "base_uri": "https://localhost:8080/",
          "height": 141
        },
        "outputId": "afecd083-12d0-4345-8ecc-ee03a90a91d3"
      },
      "source": [
        "basepath = \"/content/drive/My Drive/AIExplorations/carnatic_ragas_data/new_processed_data\"\n",
        "ragas = []\n",
        "for entry in os.listdir(basepath):\n",
        "    if os.path.isdir(os.path.join(basepath, entry)):\n",
        "        print(entry)\n",
        "        ragas.append(entry)\n"
      ],
      "execution_count": 6,
      "outputs": [
        {
          "output_type": "stream",
          "text": [
            "kharaharapriya\n",
            "varali\n",
            "kalyani\n",
            "bhairavi\n",
            "shankarabharanam\n",
            "kambhoji\n",
            "thodi\n"
          ],
          "name": "stdout"
        }
      ]
    },
    {
      "cell_type": "markdown",
      "metadata": {
        "id": "dyJKN9gfDXng",
        "colab_type": "text"
      },
      "source": [
        "# Extracting and Preparing the Data\n",
        "\n",
        "We've brought in the data from Drive into this notebook, and now we bring it into a Numpy array to enable further processing and machine learning.\n",
        "\n",
        "Below, I've used the native Python functions from the `os` library to read in these MP3s, and then process them with the AudioSegment() function from PyDub.\n",
        "\n",
        "Note that I've used a lower sampling rate, and that this is 1-channel audio data.\n",
        "\n",
        "I have also used the `pad_sequences()` function from Keras' preprocessing APIs, to build up zero-padded sequences from the music. \n",
        "\n",
        "Since each file is a 5 second long clip, the NUMFILES and SNIPPETSIZE variables control how many files are read, and what size of segment is taken from the array that has been brought into the runtime as an array.\n",
        "\n",
        "*NOTE*: This step takes significant amounts of time, depending on how many files you're bringing in, and the snippet size. If you just want to run the model first, tweak those numbers to small values so that you can see faster performance. I used the GPU runtime on Colab, and it was slow even then (assuming it actually used the GPU for this process)."
      ]
    },
    {
      "cell_type": "code",
      "metadata": {
        "id": "qjVAF8lL3keg",
        "colab_type": "code",
        "colab": {
          "base_uri": "https://localhost:8080/",
          "height": 141
        },
        "outputId": "f2a6dcd7-f322-4afb-cc39-1a4bdfac589a"
      },
      "source": [
        "dataset = {}\n",
        "NUMFILES = 300\n",
        "SNIPPETSIZE = 200000\n",
        "for raga in ragas:\n",
        "    #sequence list in which to store all the sequences from each file\n",
        "    sequence_list = []\n",
        "    files = os.listdir(os.path.join(basepath, raga))\n",
        "    print(\"Processing files for raga \",raga, \"...\")\n",
        "    for file in files[0:NUMFILES]: \n",
        "        filename = os.path.join(basepath, raga, file)\n",
        "        sound = AudioSegment.from_file(filename, sample_rate_Hz=12000, sample_width = 1, channels = 1, format = 'mp3')\n",
        "        sequence_list.append(sound.get_array_of_samples()[0:SNIPPETSIZE])\n",
        "    padded_sequence = tf.keras.preprocessing.sequence.pad_sequences(sequence_list)\n",
        "    dataset[raga] = padded_sequence"
      ],
      "execution_count": 40,
      "outputs": [
        {
          "output_type": "stream",
          "text": [
            "Processing files for raga  kharaharapriya ...\n",
            "Processing files for raga  varali ...\n",
            "Processing files for raga  kalyani ...\n",
            "Processing files for raga  bhairavi ...\n",
            "Processing files for raga  shankarabharanam ...\n",
            "Processing files for raga  kambhoji ...\n",
            "Processing files for raga  thodi ...\n"
          ],
          "name": "stdout"
        }
      ]
    },
    {
      "cell_type": "code",
      "metadata": {
        "id": "s5UjzJtXFT1W",
        "colab_type": "code",
        "colab": {}
      },
      "source": [
        "n_records = len(dataset)*NUMFILES # We compute the number of records in the overall (training + test) data \n",
        "raga_dict = {value: idx for idx, value in enumerate(ragas)} # Construct a dictionary with unique values assigned to each raga name"
      ],
      "execution_count": 56,
      "outputs": []
    },
    {
      "cell_type": "code",
      "metadata": {
        "id": "VZ0P9JmY5rbG",
        "colab_type": "code",
        "colab": {
          "base_uri": "https://localhost:8080/",
          "height": 141
        },
        "outputId": "93344ae6-c943-4162-d80a-53ee9438aa79"
      },
      "source": [
        "raga_dict"
      ],
      "execution_count": 57,
      "outputs": [
        {
          "output_type": "execute_result",
          "data": {
            "text/plain": [
              "{'bhairavi': 3,\n",
              " 'kalyani': 2,\n",
              " 'kambhoji': 5,\n",
              " 'kharaharapriya': 0,\n",
              " 'shankarabharanam': 4,\n",
              " 'thodi': 6,\n",
              " 'varali': 1}"
            ]
          },
          "metadata": {
            "tags": []
          },
          "execution_count": 57
        }
      ]
    },
    {
      "cell_type": "markdown",
      "metadata": {
        "id": "7AbIBgBIFFz7",
        "colab_type": "text"
      },
      "source": [
        "# Training Data and Labels as a Numpy Array\n",
        "\n",
        "We pad each row of the `dataset` dictionary (which contains key-value pairs of ragas and the associated raga snippet to arrive at consistent lengths for each of the snippets, and then prepare a data set which can be used for training and testing.\n",
        "\n",
        "We also prepare the labels for each snippet - we're building a supervised classification model here, and so the labels are essential.\n",
        "\n",
        "Note that we reshaped the `prepared_data` with the target shape (`n_records`, `SNIPPETSIZE`, 1) - this is essential because we're going to be feeding the data into our model in batches, and the shape of the model should allow this."
      ]
    },
    {
      "cell_type": "code",
      "metadata": {
        "id": "QRISxxHdOsKQ",
        "colab_type": "code",
        "colab": {}
      },
      "source": [
        "prepared_data = []\n",
        "prepared_labels = []\n",
        "\n",
        "for key, value in dataset.items():\n",
        "  for row in value:\n",
        "    if len(row) < SNIPPETSIZE:\n",
        "      t = SNIPPETSIZE - len(row)\n",
        "      row = np.pad(row, (0,t), \"constant\") #padding logic to solve the problem of different sequence lengths\n",
        "    prepared_data.append(row)\n",
        "    prepared_labels.append(raga_dict[key])\n",
        "prepared_data = np.vstack(prepared_data).reshape(n_records, SNIPPETSIZE, 1)\n",
        "prepared_labels = np.stack(prepared_labels)"
      ],
      "execution_count": 58,
      "outputs": []
    },
    {
      "cell_type": "markdown",
      "metadata": {
        "id": "Vxt3tq7jFr9V",
        "colab_type": "text"
      },
      "source": [
        "A quick check reveals the shapes of the `prepared_data` and `prepared_labels`. \n",
        "\n",
        "1. We see that there are many examples of data, from which we can build training and testing sets. \n",
        "\n",
        "2. Each of these examples is an audio snippet that is a certain number of timesteps long (a timestep in this case represents a fraction of a second from the 5 second clip). \n",
        "\n",
        "3. There is one label for each of the audio snippets."
      ]
    },
    {
      "cell_type": "code",
      "metadata": {
        "id": "zd-VxIR5Jumk",
        "colab_type": "code",
        "colab": {
          "base_uri": "https://localhost:8080/",
          "height": 34
        },
        "outputId": "269b9f81-9960-4ed8-fb03-eca87d15bcef"
      },
      "source": [
        "prepared_data.shape, prepared_labels.shape"
      ],
      "execution_count": 59,
      "outputs": [
        {
          "output_type": "execute_result",
          "data": {
            "text/plain": [
              "((2100, 200000, 1), (2100,))"
            ]
          },
          "metadata": {
            "tags": []
          },
          "execution_count": 59
        }
      ]
    },
    {
      "cell_type": "markdown",
      "metadata": {
        "id": "rBUyzsb1F4tz",
        "colab_type": "text"
      },
      "source": [
        "The `prepared_labels` ought to contain one code for each of the 7 ragas in the list of input ragas we saw earlier."
      ]
    },
    {
      "cell_type": "code",
      "metadata": {
        "id": "vgko8zmaJ_nx",
        "colab_type": "code",
        "colab": {
          "base_uri": "https://localhost:8080/",
          "height": 34
        },
        "outputId": "08ad6ae7-dab3-410d-b70e-939a9f79d7ee"
      },
      "source": [
        "set(prepared_labels)"
      ],
      "execution_count": 60,
      "outputs": [
        {
          "output_type": "execute_result",
          "data": {
            "text/plain": [
              "{0, 1, 2, 3, 4, 5, 6}"
            ]
          },
          "metadata": {
            "tags": []
          },
          "execution_count": 60
        }
      ]
    },
    {
      "cell_type": "markdown",
      "metadata": {
        "id": "0u_vw70qGfbu",
        "colab_type": "text"
      },
      "source": [
        "We build up a couple of variables to parametrize the model. The sequence size (as we saw above) and the number of inputs (records) are shown here."
      ]
    },
    {
      "cell_type": "code",
      "metadata": {
        "id": "CaX_TeoVTOSw",
        "colab_type": "code",
        "colab": {}
      },
      "source": [
        "seq_size, n_input = prepared_data[0].shape[0], len(prepared_data)"
      ],
      "execution_count": 61,
      "outputs": []
    },
    {
      "cell_type": "markdown",
      "metadata": {
        "id": "huFQvzIcG7o4",
        "colab_type": "text"
      },
      "source": [
        "# Optional : One Hot Encoding\n",
        "\n",
        "While I have not actually used the result from this step, it can be valuable if you're training your model differently. Specifically, if you're using a Sparse matrix to represent the labels (one-hot form) you will have to specify 'sparse_categorical_crossentropy' as your loss function."
      ]
    },
    {
      "cell_type": "code",
      "metadata": {
        "id": "XvDOTRvSchWj",
        "colab_type": "code",
        "colab": {}
      },
      "source": [
        "from keras.utils.np_utils import to_categorical   \n",
        "\n",
        "categorical_labels = to_categorical(prepared_labels, num_classes=len(set(prepared_labels)))"
      ],
      "execution_count": 62,
      "outputs": []
    },
    {
      "cell_type": "markdown",
      "metadata": {
        "id": "fQnXY8ePHPOL",
        "colab_type": "text"
      },
      "source": [
        "# Key Keras Imports\n",
        "\n",
        "Since we're building a `Sequential()` model in Keras that is a hybrid deep neural network, we require the LSTM, TimeDistributed, Conv1D layers. We also import other common layers, losses and helper functions for regularization and preprocessing."
      ]
    },
    {
      "cell_type": "code",
      "metadata": {
        "id": "w0kp4V0gb985",
        "colab_type": "code",
        "colab": {}
      },
      "source": [
        "from keras.models import Sequential\n",
        "from keras.layers import LSTM, Dense, Dropout, BatchNormalization, Flatten, TimeDistributed, Conv1D, MaxPooling1D\n",
        "from keras.losses import categorical_crossentropy\n",
        "from keras.optimizers import Adam\n",
        "from keras.regularizers import l1_l2\n",
        "from sklearn.model_selection import train_test_split"
      ],
      "execution_count": 63,
      "outputs": []
    },
    {
      "cell_type": "markdown",
      "metadata": {
        "id": "4NpH490_Hjfh",
        "colab_type": "text"
      },
      "source": [
        "It is customary to use holding cross validation for building models for such problems and I've done the same here. Equally, we could approach this using k-fold cross validation, with any number of folds of your choice. \n",
        "\n",
        "Here I've just set aside 30% of the data for testing purposes. Note that I've converted the labels list to a Numpy array, for ease of feeding into the model."
      ]
    },
    {
      "cell_type": "code",
      "metadata": {
        "id": "0jDpsmpMcJe0",
        "colab_type": "code",
        "colab": {}
      },
      "source": [
        "train_x, test_x, train_y, test_y = train_test_split(prepared_data, np.array(prepared_labels), test_size = 0.3 )"
      ],
      "execution_count": 64,
      "outputs": []
    },
    {
      "cell_type": "markdown",
      "metadata": {
        "id": "v_a8IeXDH74p",
        "colab_type": "text"
      },
      "source": [
        "A quick check reveals the shapes of the prepared training and test data."
      ]
    },
    {
      "cell_type": "code",
      "metadata": {
        "id": "ygoWz_7IDMrp",
        "colab_type": "code",
        "colab": {
          "base_uri": "https://localhost:8080/",
          "height": 34
        },
        "outputId": "f8fcf79b-cd9f-40a8-d6c1-1c5ec17b8575"
      },
      "source": [
        "train_x.shape, train_y.shape, test_x.shape, test_y.shape"
      ],
      "execution_count": 65,
      "outputs": [
        {
          "output_type": "execute_result",
          "data": {
            "text/plain": [
              "((1470, 200000, 1), (1470,), (630, 200000, 1), (630,))"
            ]
          },
          "metadata": {
            "tags": []
          },
          "execution_count": 65
        }
      ]
    },
    {
      "cell_type": "markdown",
      "metadata": {
        "id": "9RBuFy42IWJ-",
        "colab_type": "text"
      },
      "source": [
        "# Common Hyperparameters\n",
        "\n",
        "1. We're setting common hyperparameters in this section to ensure we can control the training process closely. For purposes of simplicity, we control hidden layer count and number of LSTM units from here. Equally, we could custom-build our models by feeding these numbers in where needed.\n",
        "\n",
        "2. Note that ConvNet filter size and other parameters are controlled directly from the model and are not parametrized here.\n",
        "\n",
        "3. We also specify learning rates, dropout and learning rate decay here. Potentially, we could control these elements if we use a custom Adam() optimizer."
      ]
    },
    {
      "cell_type": "code",
      "metadata": {
        "id": "-kLfKPJpb-mh",
        "colab_type": "code",
        "colab": {}
      },
      "source": [
        "batchsize = 32\n",
        "epochs = 100\n",
        "n_units = 32\n",
        "n_hidden = 32\n",
        "lr = 1e-3\n",
        "decay = 0.1 * lr\n",
        "dropout_pc = 0.01\n",
        "l1, l2 = 0.01, 0.01\n",
        "n_classes = len(set(train_y)) # We set the number of classes in the network based on the classes present in the training data."
      ],
      "execution_count": 66,
      "outputs": []
    },
    {
      "cell_type": "markdown",
      "metadata": {
        "id": "lZkzJGO8JB5O",
        "colab_type": "text"
      },
      "source": [
        "Observe that we can add multiple ragas to these folders in future and have the model build here as per parametrization above."
      ]
    },
    {
      "cell_type": "code",
      "metadata": {
        "id": "AmaY8T01dZMO",
        "colab_type": "code",
        "colab": {}
      },
      "source": [
        "model = Sequential([\n",
        "    TimeDistributed(Conv1D(filters = 100, kernel_size = 5, padding = 'same', activation = 'relu', strides=4), \n",
        "                    batch_input_shape = (None, 1, seq_size, 1) ),\n",
        "    TimeDistributed(MaxPooling1D(pool_size=200)),\n",
        "    TimeDistributed(Conv1D(filters = 50, kernel_size = 2, padding = 'same', activation = 'relu', strides=2)),\n",
        "    TimeDistributed(BatchNormalization()),\n",
        "    TimeDistributed(MaxPooling1D(pool_size=100)),\n",
        "    TimeDistributed(Flatten()),\n",
        "    LSTM(units = n_units, activation = \"relu\", kernel_regularizer = l1_l2(l1, l2), \n",
        "         input_shape = (seq_size, 1), return_sequences = True),\n",
        "    Dense(n_hidden, activation = \"relu\"),\n",
        "    LSTM(units = n_units, activation = \"relu\", kernel_regularizer = l1_l2(l1, l2), \n",
        "         dropout = dropout_pc, return_sequences = False),\n",
        "    Dense(n_hidden, activation = \"relu\"),\n",
        "    BatchNormalization(),\n",
        "    Dense(n_hidden, activation = \"relu\"),\n",
        "    BatchNormalization(),\n",
        "    Dense(n_hidden, activation = \"relu\"),\n",
        "    Dropout(dropout_pc),\n",
        "    Dense(n_classes, activation = \"softmax\")\n",
        "    ])"
      ],
      "execution_count": 71,
      "outputs": []
    },
    {
      "cell_type": "markdown",
      "metadata": {
        "id": "cpbcImiRJIp6",
        "colab_type": "text"
      },
      "source": [
        "# Model Architecture\n",
        "\n",
        "The model architecture here is a CNN-LSTM hybrid network with the following features:\n",
        "\n",
        "1. Two `Conv1D()`  layers to learn patterns of variation in the input signal and patterns of patterns thereof. Filters, striding and kernel sizes can be tweaked as needed.\n",
        "2. `TimeDistributed()` layers for feeding the above `Conv1D()` layers, along with `BatchNormalization()` and `MaxPooling1D()` layers.\n",
        "3. Two `LSTM()` layers that receive segments of the Conv1D data in sequence and learn these sequences.\n",
        "4. `BatchNormalization()` layers to ensure there are no gradient related issues\n",
        "5. `Dropout()` regularization. Note that we have used Elastic Net (`l1_l2()`) regularization in the `LSTM()` layers\n",
        "6. `Dense()` layer with `softmax` activation for multi-class classification as the final layer.\n",
        "\n",
        "Potentially, we could tweak the number of dense layers, the number of LSTM() layers and the BatchNormalization() layers to adjust performance.\n",
        "\n",
        "## Batch Input\n",
        "\n",
        "Note that the model receives input as a batch via the `TimeDistributed()` layer - this requires us to feed in the right shape of data, and specify the `batch_input_size` parameter accordingly."
      ]
    },
    {
      "cell_type": "code",
      "metadata": {
        "id": "dKbXIsFuRcKr",
        "colab_type": "code",
        "colab": {
          "base_uri": "https://localhost:8080/",
          "height": 221
        },
        "outputId": "9c737a49-41a0-4e66-a28c-e7f99719db65"
      },
      "source": [
        "adam_opt = tf.keras.optimizers.Adam(\n",
        "    learning_rate=0.001,\n",
        "    beta_1=0.9,\n",
        "    beta_2=0.999,\n",
        "    epsilon=1e-07,\n",
        "    amsgrad=False,\n",
        "    name=\"Adam\",\n",
        "    **kwargs\n",
        ")"
      ],
      "execution_count": 75,
      "outputs": [
        {
          "output_type": "error",
          "ename": "NameError",
          "evalue": "ignored",
          "traceback": [
            "\u001b[0;31m---------------------------------------------------------------------------\u001b[0m",
            "\u001b[0;31mNameError\u001b[0m                                 Traceback (most recent call last)",
            "\u001b[0;32m<ipython-input-75-60683e7380c8>\u001b[0m in \u001b[0;36m<module>\u001b[0;34m()\u001b[0m\n\u001b[1;32m      6\u001b[0m     \u001b[0mamsgrad\u001b[0m\u001b[0;34m=\u001b[0m\u001b[0;32mFalse\u001b[0m\u001b[0;34m,\u001b[0m\u001b[0;34m\u001b[0m\u001b[0;34m\u001b[0m\u001b[0m\n\u001b[1;32m      7\u001b[0m     \u001b[0mname\u001b[0m\u001b[0;34m=\u001b[0m\u001b[0;34m\"Adam\"\u001b[0m\u001b[0;34m,\u001b[0m\u001b[0;34m\u001b[0m\u001b[0;34m\u001b[0m\u001b[0m\n\u001b[0;32m----> 8\u001b[0;31m     \u001b[0;34m**\u001b[0m\u001b[0mkwargs\u001b[0m\u001b[0;34m\u001b[0m\u001b[0;34m\u001b[0m\u001b[0m\n\u001b[0m\u001b[1;32m      9\u001b[0m )\n",
            "\u001b[0;31mNameError\u001b[0m: name 'kwargs' is not defined"
          ]
        }
      ]
    },
    {
      "cell_type": "code",
      "metadata": {
        "id": "2RWhry_gdgDH",
        "colab_type": "code",
        "colab": {
          "base_uri": "https://localhost:8080/",
          "height": 745
        },
        "outputId": "f4d825b9-f6fc-49ff-e918-d1bf4192683b"
      },
      "source": [
        "model.compile(optimizer = 'adam', loss= 'sparse_categorical_crossentropy', metrics= ['acc'])\n",
        "print(model.summary())"
      ],
      "execution_count": 72,
      "outputs": [
        {
          "output_type": "stream",
          "text": [
            "Model: \"sequential_5\"\n",
            "_________________________________________________________________\n",
            "Layer (type)                 Output Shape              Param #   \n",
            "=================================================================\n",
            "time_distributed_22 (TimeDis (None, 1, 50000, 100)     600       \n",
            "_________________________________________________________________\n",
            "time_distributed_23 (TimeDis (None, 1, 250, 100)       0         \n",
            "_________________________________________________________________\n",
            "time_distributed_24 (TimeDis (None, 1, 125, 50)        10050     \n",
            "_________________________________________________________________\n",
            "time_distributed_25 (TimeDis (None, 1, 125, 50)        200       \n",
            "_________________________________________________________________\n",
            "time_distributed_26 (TimeDis (None, 1, 1, 50)          0         \n",
            "_________________________________________________________________\n",
            "time_distributed_27 (TimeDis (None, 1, 50)             0         \n",
            "_________________________________________________________________\n",
            "lstm_9 (LSTM)                (None, 1, 32)             10624     \n",
            "_________________________________________________________________\n",
            "dense_21 (Dense)             (None, 1, 32)             1056      \n",
            "_________________________________________________________________\n",
            "lstm_10 (LSTM)               (None, 32)                8320      \n",
            "_________________________________________________________________\n",
            "dense_22 (Dense)             (None, 32)                1056      \n",
            "_________________________________________________________________\n",
            "batch_normalization_14 (Batc (None, 32)                128       \n",
            "_________________________________________________________________\n",
            "dense_23 (Dense)             (None, 32)                1056      \n",
            "_________________________________________________________________\n",
            "batch_normalization_15 (Batc (None, 32)                128       \n",
            "_________________________________________________________________\n",
            "dense_24 (Dense)             (None, 32)                1056      \n",
            "_________________________________________________________________\n",
            "dropout_5 (Dropout)          (None, 32)                0         \n",
            "_________________________________________________________________\n",
            "dense_25 (Dense)             (None, 7)                 231       \n",
            "=================================================================\n",
            "Total params: 34,505\n",
            "Trainable params: 34,277\n",
            "Non-trainable params: 228\n",
            "_________________________________________________________________\n",
            "None\n"
          ],
          "name": "stdout"
        }
      ]
    },
    {
      "cell_type": "code",
      "metadata": {
        "id": "dZ278ekRTtZ2",
        "colab_type": "code",
        "colab": {
          "base_uri": "https://localhost:8080/",
          "height": 34
        },
        "outputId": "aece23af-6f7f-436e-e661-ab2118a23094"
      },
      "source": [
        "len(train_x.reshape((train_x.shape[0], 1, train_x.shape[1], 1))), len(train_y)"
      ],
      "execution_count": 73,
      "outputs": [
        {
          "output_type": "execute_result",
          "data": {
            "text/plain": [
              "(1470, 1470)"
            ]
          },
          "metadata": {
            "tags": []
          },
          "execution_count": 73
        }
      ]
    },
    {
      "cell_type": "code",
      "metadata": {
        "id": "02DavIpDdiD7",
        "colab_type": "code",
        "colab": {
          "base_uri": "https://localhost:8080/",
          "height": 1000
        },
        "outputId": "a64d4784-f990-46f7-8916-99a18433f209"
      },
      "source": [
        "history = model.fit(x = train_x.reshape((train_x.shape[0], 1, train_x.shape[1], 1)), \n",
        "                    y = train_y, \n",
        "                    batch_size= batchsize, \n",
        "                    epochs= epochs, \n",
        "                    verbose= 1,\n",
        "                    validation_data=[test_x.reshape((test_x.shape[0], 1, test_x.shape[1], 1)), test_y])"
      ],
      "execution_count": 74,
      "outputs": [
        {
          "output_type": "stream",
          "text": [
            "Train on 1470 samples, validate on 630 samples\n",
            "Epoch 1/100\n",
            "1470/1470 [==============================] - 11s 8ms/step - loss: 11.0033 - acc: 0.3014 - val_loss: 9.2233 - val_acc: 0.3032\n",
            "Epoch 2/100\n",
            "1470/1470 [==============================] - 10s 7ms/step - loss: 7.3187 - acc: 0.5224 - val_loss: 6.5089 - val_acc: 0.4476\n",
            "Epoch 3/100\n",
            "1470/1470 [==============================] - 10s 7ms/step - loss: 4.7711 - acc: 0.6374 - val_loss: 4.6561 - val_acc: 0.3635\n",
            "Epoch 4/100\n",
            "1470/1470 [==============================] - 10s 7ms/step - loss: 3.2328 - acc: 0.6891 - val_loss: 3.5912 - val_acc: 0.3413\n",
            "Epoch 5/100\n",
            "1470/1470 [==============================] - 10s 7ms/step - loss: 2.4507 - acc: 0.7293 - val_loss: 3.1428 - val_acc: 0.3127\n",
            "Epoch 6/100\n",
            "1470/1470 [==============================] - 10s 7ms/step - loss: 1.9540 - acc: 0.7796 - val_loss: 2.7380 - val_acc: 0.3841\n",
            "Epoch 7/100\n",
            "1470/1470 [==============================] - 10s 7ms/step - loss: 1.6495 - acc: 0.8068 - val_loss: 2.5312 - val_acc: 0.4873\n",
            "Epoch 8/100\n",
            "1470/1470 [==============================] - 10s 7ms/step - loss: 1.4641 - acc: 0.8000 - val_loss: 2.2784 - val_acc: 0.4603\n",
            "Epoch 9/100\n",
            "1470/1470 [==============================] - 10s 7ms/step - loss: 1.3242 - acc: 0.8129 - val_loss: 1.9688 - val_acc: 0.6476\n",
            "Epoch 10/100\n",
            "1470/1470 [==============================] - 10s 7ms/step - loss: 1.2140 - acc: 0.8211 - val_loss: 1.7430 - val_acc: 0.6333\n",
            "Epoch 11/100\n",
            "1470/1470 [==============================] - 10s 7ms/step - loss: 1.0634 - acc: 0.8435 - val_loss: 1.5012 - val_acc: 0.7349\n",
            "Epoch 12/100\n",
            "1470/1470 [==============================] - 10s 7ms/step - loss: 0.9553 - acc: 0.8551 - val_loss: 1.2280 - val_acc: 0.8127\n",
            "Epoch 13/100\n",
            "1470/1470 [==============================] - 10s 7ms/step - loss: 0.9257 - acc: 0.8449 - val_loss: 1.2460 - val_acc: 0.7857\n",
            "Epoch 14/100\n",
            "1470/1470 [==============================] - 10s 7ms/step - loss: 0.8499 - acc: 0.8551 - val_loss: 1.3031 - val_acc: 0.6984\n",
            "Epoch 15/100\n",
            "1470/1470 [==============================] - 10s 7ms/step - loss: 0.7676 - acc: 0.8687 - val_loss: 0.9764 - val_acc: 0.8460\n",
            "Epoch 16/100\n",
            "1470/1470 [==============================] - 10s 7ms/step - loss: 0.7288 - acc: 0.8728 - val_loss: 1.0740 - val_acc: 0.7333\n",
            "Epoch 17/100\n",
            "1470/1470 [==============================] - 10s 7ms/step - loss: 0.6969 - acc: 0.8837 - val_loss: 1.3319 - val_acc: 0.5857\n",
            "Epoch 18/100\n",
            "1470/1470 [==============================] - 10s 7ms/step - loss: 0.7404 - acc: 0.8524 - val_loss: 0.8742 - val_acc: 0.8016\n",
            "Epoch 19/100\n",
            "1470/1470 [==============================] - 10s 7ms/step - loss: 0.6500 - acc: 0.8796 - val_loss: 1.0798 - val_acc: 0.7603\n",
            "Epoch 20/100\n",
            "1470/1470 [==============================] - 10s 7ms/step - loss: 0.6876 - acc: 0.8599 - val_loss: 1.9540 - val_acc: 0.6222\n",
            "Epoch 21/100\n",
            "1470/1470 [==============================] - 10s 7ms/step - loss: 0.7049 - acc: 0.8639 - val_loss: 0.9258 - val_acc: 0.7714\n",
            "Epoch 22/100\n",
            "1470/1470 [==============================] - 10s 7ms/step - loss: 0.6196 - acc: 0.8803 - val_loss: 1.6440 - val_acc: 0.6095\n",
            "Epoch 23/100\n",
            "1470/1470 [==============================] - 10s 7ms/step - loss: 0.5838 - acc: 0.8871 - val_loss: 1.5807 - val_acc: 0.6159\n",
            "Epoch 24/100\n",
            "1470/1470 [==============================] - 10s 7ms/step - loss: 0.5380 - acc: 0.9095 - val_loss: 1.1243 - val_acc: 0.6921\n",
            "Epoch 25/100\n",
            "1470/1470 [==============================] - 10s 7ms/step - loss: 0.5294 - acc: 0.9136 - val_loss: 1.2638 - val_acc: 0.6476\n",
            "Epoch 26/100\n",
            "1470/1470 [==============================] - 10s 7ms/step - loss: 0.5473 - acc: 0.8857 - val_loss: 1.3062 - val_acc: 0.6619\n",
            "Epoch 27/100\n",
            "1470/1470 [==============================] - 10s 7ms/step - loss: 0.5196 - acc: 0.8939 - val_loss: 2.0081 - val_acc: 0.5063\n",
            "Epoch 28/100\n",
            "1470/1470 [==============================] - 10s 7ms/step - loss: 0.4975 - acc: 0.9041 - val_loss: 1.4704 - val_acc: 0.6651\n",
            "Epoch 29/100\n",
            "1470/1470 [==============================] - 10s 7ms/step - loss: 0.5402 - acc: 0.8959 - val_loss: 0.8003 - val_acc: 0.8206\n",
            "Epoch 30/100\n",
            "1470/1470 [==============================] - 10s 7ms/step - loss: 0.5203 - acc: 0.8918 - val_loss: 1.6059 - val_acc: 0.5571\n",
            "Epoch 31/100\n",
            "1470/1470 [==============================] - 10s 7ms/step - loss: 0.4865 - acc: 0.9054 - val_loss: 0.9598 - val_acc: 0.7397\n",
            "Epoch 32/100\n",
            "1470/1470 [==============================] - 10s 7ms/step - loss: 0.5440 - acc: 0.8803 - val_loss: 0.9438 - val_acc: 0.7825\n",
            "Epoch 33/100\n",
            "1470/1470 [==============================] - 10s 7ms/step - loss: 0.5073 - acc: 0.9041 - val_loss: 1.1503 - val_acc: 0.6667\n",
            "Epoch 34/100\n",
            "1470/1470 [==============================] - 10s 7ms/step - loss: 0.4851 - acc: 0.9088 - val_loss: 1.1810 - val_acc: 0.6444\n",
            "Epoch 35/100\n",
            "1470/1470 [==============================] - 10s 7ms/step - loss: 0.4542 - acc: 0.9143 - val_loss: 0.6789 - val_acc: 0.8111\n",
            "Epoch 36/100\n",
            "1470/1470 [==============================] - 10s 7ms/step - loss: 0.4501 - acc: 0.9095 - val_loss: 0.6673 - val_acc: 0.8302\n",
            "Epoch 37/100\n",
            "1470/1470 [==============================] - 10s 7ms/step - loss: 0.4236 - acc: 0.9122 - val_loss: 0.6637 - val_acc: 0.8286\n",
            "Epoch 38/100\n",
            "1470/1470 [==============================] - 10s 7ms/step - loss: 0.4314 - acc: 0.9116 - val_loss: 0.9896 - val_acc: 0.7937\n",
            "Epoch 39/100\n",
            "1470/1470 [==============================] - 10s 7ms/step - loss: 0.4436 - acc: 0.9068 - val_loss: 1.0864 - val_acc: 0.7365\n",
            "Epoch 40/100\n",
            "1470/1470 [==============================] - 10s 7ms/step - loss: 0.3973 - acc: 0.9211 - val_loss: 0.5896 - val_acc: 0.8508\n",
            "Epoch 41/100\n",
            "1470/1470 [==============================] - 10s 7ms/step - loss: 0.4372 - acc: 0.9082 - val_loss: 0.7300 - val_acc: 0.8508\n",
            "Epoch 42/100\n",
            "1470/1470 [==============================] - 10s 7ms/step - loss: 0.4151 - acc: 0.9156 - val_loss: 0.8598 - val_acc: 0.8000\n",
            "Epoch 43/100\n",
            "1470/1470 [==============================] - 10s 7ms/step - loss: 0.4654 - acc: 0.8993 - val_loss: 0.8272 - val_acc: 0.8016\n",
            "Epoch 44/100\n",
            "1470/1470 [==============================] - 10s 7ms/step - loss: 0.4146 - acc: 0.9170 - val_loss: 0.9726 - val_acc: 0.6778\n",
            "Epoch 45/100\n",
            "1470/1470 [==============================] - 10s 7ms/step - loss: 0.4586 - acc: 0.9143 - val_loss: 0.7031 - val_acc: 0.8317\n",
            "Epoch 46/100\n",
            "1470/1470 [==============================] - 10s 7ms/step - loss: 0.4605 - acc: 0.9048 - val_loss: 0.7826 - val_acc: 0.7968\n",
            "Epoch 47/100\n",
            "1470/1470 [==============================] - 10s 7ms/step - loss: 0.3677 - acc: 0.9293 - val_loss: 0.8851 - val_acc: 0.7841\n",
            "Epoch 48/100\n",
            "1470/1470 [==============================] - 10s 7ms/step - loss: 0.3770 - acc: 0.9218 - val_loss: 0.7475 - val_acc: 0.8079\n",
            "Epoch 49/100\n",
            "1470/1470 [==============================] - 10s 7ms/step - loss: 0.3969 - acc: 0.9204 - val_loss: 2.3526 - val_acc: 0.5317\n",
            "Epoch 50/100\n",
            "1470/1470 [==============================] - 10s 7ms/step - loss: 0.3769 - acc: 0.9293 - val_loss: 0.7608 - val_acc: 0.7762\n",
            "Epoch 51/100\n",
            "1470/1470 [==============================] - 10s 7ms/step - loss: 0.3870 - acc: 0.9197 - val_loss: 1.0146 - val_acc: 0.6952\n",
            "Epoch 52/100\n",
            "1470/1470 [==============================] - 10s 7ms/step - loss: 0.4147 - acc: 0.9116 - val_loss: 0.4844 - val_acc: 0.8746\n",
            "Epoch 53/100\n",
            "1470/1470 [==============================] - 10s 7ms/step - loss: 0.4286 - acc: 0.9150 - val_loss: 0.5090 - val_acc: 0.8841\n",
            "Epoch 54/100\n",
            "1470/1470 [==============================] - 10s 7ms/step - loss: 0.4156 - acc: 0.9136 - val_loss: 0.5415 - val_acc: 0.8651\n",
            "Epoch 55/100\n",
            "1470/1470 [==============================] - 10s 7ms/step - loss: 0.3668 - acc: 0.9224 - val_loss: 0.4337 - val_acc: 0.9063\n",
            "Epoch 56/100\n",
            "1470/1470 [==============================] - 10s 7ms/step - loss: 0.3627 - acc: 0.9279 - val_loss: 0.4763 - val_acc: 0.8841\n",
            "Epoch 57/100\n",
            "1470/1470 [==============================] - 10s 7ms/step - loss: 0.3361 - acc: 0.9320 - val_loss: 0.8486 - val_acc: 0.7905\n",
            "Epoch 58/100\n",
            "1470/1470 [==============================] - 10s 7ms/step - loss: 0.3415 - acc: 0.9333 - val_loss: 0.4236 - val_acc: 0.9016\n",
            "Epoch 59/100\n",
            "1470/1470 [==============================] - 10s 7ms/step - loss: 0.3002 - acc: 0.9449 - val_loss: 0.6618 - val_acc: 0.8587\n",
            "Epoch 60/100\n",
            "1470/1470 [==============================] - 10s 7ms/step - loss: 0.3290 - acc: 0.9395 - val_loss: 0.5887 - val_acc: 0.8619\n",
            "Epoch 61/100\n",
            "1470/1470 [==============================] - 10s 7ms/step - loss: 0.3242 - acc: 0.9408 - val_loss: 0.4682 - val_acc: 0.8794\n",
            "Epoch 62/100\n",
            "1470/1470 [==============================] - 10s 7ms/step - loss: 0.3208 - acc: 0.9367 - val_loss: 0.4342 - val_acc: 0.9048\n",
            "Epoch 63/100\n",
            "1470/1470 [==============================] - 10s 7ms/step - loss: 0.3362 - acc: 0.9265 - val_loss: 0.4345 - val_acc: 0.8952\n",
            "Epoch 64/100\n",
            "1470/1470 [==============================] - 10s 7ms/step - loss: 0.3165 - acc: 0.9367 - val_loss: 0.4353 - val_acc: 0.9063\n",
            "Epoch 65/100\n",
            "1470/1470 [==============================] - 10s 7ms/step - loss: 0.3121 - acc: 0.9442 - val_loss: 0.5155 - val_acc: 0.8825\n",
            "Epoch 66/100\n",
            "1470/1470 [==============================] - 10s 7ms/step - loss: 0.3490 - acc: 0.9259 - val_loss: 0.5815 - val_acc: 0.8397\n",
            "Epoch 67/100\n",
            "1470/1470 [==============================] - 10s 7ms/step - loss: 0.3232 - acc: 0.9354 - val_loss: 0.4273 - val_acc: 0.9079\n",
            "Epoch 68/100\n",
            "1470/1470 [==============================] - 10s 7ms/step - loss: 0.3466 - acc: 0.9272 - val_loss: 0.3631 - val_acc: 0.9222\n",
            "Epoch 69/100\n",
            "1470/1470 [==============================] - 10s 7ms/step - loss: 0.3155 - acc: 0.9327 - val_loss: 0.3936 - val_acc: 0.9159\n",
            "Epoch 70/100\n",
            "1470/1470 [==============================] - 10s 7ms/step - loss: 0.3353 - acc: 0.9299 - val_loss: 0.5248 - val_acc: 0.8619\n",
            "Epoch 71/100\n",
            "1470/1470 [==============================] - 10s 7ms/step - loss: 0.3642 - acc: 0.9231 - val_loss: 1.5241 - val_acc: 0.6063\n",
            "Epoch 72/100\n",
            "1470/1470 [==============================] - 10s 7ms/step - loss: 0.5116 - acc: 0.8891 - val_loss: 0.6907 - val_acc: 0.8238\n",
            "Epoch 73/100\n",
            "1470/1470 [==============================] - 10s 7ms/step - loss: 0.4579 - acc: 0.9007 - val_loss: 0.4905 - val_acc: 0.8905\n",
            "Epoch 74/100\n",
            "1470/1470 [==============================] - 10s 7ms/step - loss: 0.3889 - acc: 0.9184 - val_loss: 0.7541 - val_acc: 0.7984\n",
            "Epoch 75/100\n",
            "1470/1470 [==============================] - 10s 7ms/step - loss: 0.3757 - acc: 0.9238 - val_loss: 0.3877 - val_acc: 0.9159\n",
            "Epoch 76/100\n",
            "1470/1470 [==============================] - 10s 7ms/step - loss: 0.3530 - acc: 0.9211 - val_loss: 0.4635 - val_acc: 0.8825\n",
            "Epoch 77/100\n",
            "1470/1470 [==============================] - 10s 7ms/step - loss: 0.3347 - acc: 0.9259 - val_loss: 0.5302 - val_acc: 0.8651\n",
            "Epoch 78/100\n",
            "1470/1470 [==============================] - 10s 7ms/step - loss: 0.3228 - acc: 0.9313 - val_loss: 0.3388 - val_acc: 0.9270\n",
            "Epoch 79/100\n",
            "1470/1470 [==============================] - 10s 7ms/step - loss: 0.3047 - acc: 0.9388 - val_loss: 0.3264 - val_acc: 0.9175\n",
            "Epoch 80/100\n",
            "1470/1470 [==============================] - 10s 7ms/step - loss: 0.3376 - acc: 0.9204 - val_loss: 0.5127 - val_acc: 0.8937\n",
            "Epoch 81/100\n",
            "1470/1470 [==============================] - 10s 7ms/step - loss: 0.3641 - acc: 0.9204 - val_loss: 0.4483 - val_acc: 0.8952\n",
            "Epoch 82/100\n",
            "1470/1470 [==============================] - 10s 7ms/step - loss: 0.3121 - acc: 0.9361 - val_loss: 0.4343 - val_acc: 0.8937\n",
            "Epoch 83/100\n",
            "1470/1470 [==============================] - 10s 7ms/step - loss: 0.3430 - acc: 0.9238 - val_loss: 0.4943 - val_acc: 0.8635\n",
            "Epoch 84/100\n",
            "1470/1470 [==============================] - 10s 7ms/step - loss: 0.3237 - acc: 0.9293 - val_loss: 0.4328 - val_acc: 0.9048\n",
            "Epoch 85/100\n",
            "1470/1470 [==============================] - 10s 7ms/step - loss: 0.3040 - acc: 0.9429 - val_loss: 0.8112 - val_acc: 0.8127\n",
            "Epoch 86/100\n",
            "1470/1470 [==============================] - 10s 6ms/step - loss: 0.3025 - acc: 0.9306 - val_loss: 0.3874 - val_acc: 0.9048\n",
            "Epoch 87/100\n",
            "1470/1470 [==============================] - 10s 7ms/step - loss: 0.2853 - acc: 0.9435 - val_loss: 0.4370 - val_acc: 0.8825\n",
            "Epoch 88/100\n",
            "1470/1470 [==============================] - 10s 7ms/step - loss: 0.3071 - acc: 0.9408 - val_loss: 0.4593 - val_acc: 0.8952\n",
            "Epoch 89/100\n",
            "1470/1470 [==============================] - 10s 7ms/step - loss: 0.3035 - acc: 0.9347 - val_loss: 0.7787 - val_acc: 0.7524\n",
            "Epoch 90/100\n",
            "1470/1470 [==============================] - 10s 7ms/step - loss: 0.3334 - acc: 0.9320 - val_loss: 0.4988 - val_acc: 0.8810\n",
            "Epoch 91/100\n",
            "1470/1470 [==============================] - 10s 6ms/step - loss: 0.3146 - acc: 0.9347 - val_loss: 0.4516 - val_acc: 0.8762\n",
            "Epoch 92/100\n",
            "1470/1470 [==============================] - 10s 7ms/step - loss: 0.3065 - acc: 0.9374 - val_loss: 0.3667 - val_acc: 0.9270\n",
            "Epoch 93/100\n",
            "1470/1470 [==============================] - 10s 6ms/step - loss: 0.2877 - acc: 0.9422 - val_loss: 0.3343 - val_acc: 0.9286\n",
            "Epoch 94/100\n",
            "1470/1470 [==============================] - 10s 6ms/step - loss: 0.2652 - acc: 0.9429 - val_loss: 0.5691 - val_acc: 0.8238\n",
            "Epoch 95/100\n",
            "1470/1470 [==============================] - 10s 6ms/step - loss: 0.2633 - acc: 0.9490 - val_loss: 0.3612 - val_acc: 0.9079\n",
            "Epoch 96/100\n",
            "1470/1470 [==============================] - 10s 7ms/step - loss: 0.2943 - acc: 0.9327 - val_loss: 0.7146 - val_acc: 0.7984\n",
            "Epoch 97/100\n",
            "1470/1470 [==============================] - 10s 6ms/step - loss: 0.2490 - acc: 0.9531 - val_loss: 0.3508 - val_acc: 0.9238\n",
            "Epoch 98/100\n",
            "1470/1470 [==============================] - 10s 7ms/step - loss: 0.2598 - acc: 0.9456 - val_loss: 0.3218 - val_acc: 0.9349\n",
            "Epoch 99/100\n",
            "1470/1470 [==============================] - 10s 6ms/step - loss: 0.2986 - acc: 0.9340 - val_loss: 1.5700 - val_acc: 0.6413\n",
            "Epoch 100/100\n",
            "1470/1470 [==============================] - 10s 7ms/step - loss: 0.3262 - acc: 0.9265 - val_loss: 0.7004 - val_acc: 0.8222\n"
          ],
          "name": "stdout"
        }
      ]
    },
    {
      "cell_type": "code",
      "metadata": {
        "id": "uGDT4nc1dovZ",
        "colab_type": "code",
        "colab": {
          "base_uri": "https://localhost:8080/",
          "height": 733
        },
        "outputId": "dc11462b-e606-4abb-a426-300952589656"
      },
      "source": [
        "pd.DataFrame(history.history)[['acc', 'val_acc']].plot(figsize = (16,12), title = \"Raga Classification, Accuracy\")"
      ],
      "execution_count": 78,
      "outputs": [
        {
          "output_type": "execute_result",
          "data": {
            "text/plain": [
              "<matplotlib.axes._subplots.AxesSubplot at 0x7f7697045a20>"
            ]
          },
          "metadata": {
            "tags": []
          },
          "execution_count": 78
        },
        {
          "output_type": "display_data",
          "data": {
            "image/png": "[encoded data removed]",
            "text/plain": [
              "<Figure size 1152x864 with 1 Axes>"
            ]
          },
          "metadata": {
            "tags": [],
            "needs_background": "light"
          }
        }
      ]
    },
    {
      "cell_type": "code",
      "metadata": {
        "id": "9iBu2R9Mm7W1",
        "colab_type": "code",
        "colab": {
          "base_uri": "https://localhost:8080/",
          "height": 733
        },
        "outputId": "f981ef66-7f6d-405c-fe88-2767cd190191"
      },
      "source": [
        "pd.DataFrame(history.history)[['loss', 'val_loss']].plot(figsize = (16,12), title = \"Raga Classification, Loss\")"
      ],
      "execution_count": 79,
      "outputs": [
        {
          "output_type": "execute_result",
          "data": {
            "text/plain": [
              "<matplotlib.axes._subplots.AxesSubplot at 0x7f76967ad128>"
            ]
          },
          "metadata": {
            "tags": []
          },
          "execution_count": 79
        },
        {
          "output_type": "display_data",
          "data": {
            "image/png": "[encoded data removed]",
            "text/plain": [
              "<Figure size 1152x864 with 1 Axes>"
            ]
          },
          "metadata": {
            "tags": [],
            "needs_background": "light"
          }
        }
      ]
    },
    {
      "cell_type": "code",
      "metadata": {
        "id": "73-bmQ9joasn",
        "colab_type": "code",
        "colab": {}
      },
      "source": [
        ""
      ],
      "execution_count": null,
      "outputs": []
    }
  ]
}