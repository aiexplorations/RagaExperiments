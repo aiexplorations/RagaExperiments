{
  "nbformat": 4,
  "nbformat_minor": 0,
  "metadata": {
    "kernelspec": {
      "display_name": "Python 3",
      "language": "python",
      "name": "python3"
    },
    "language_info": {
      "codemirror_mode": {
        "name": "ipython",
        "version": 3
      },
      "file_extension": ".py",
      "mimetype": "text/x-python",
      "name": "python",
      "nbconvert_exporter": "python",
      "pygments_lexer": "ipython3",
      "version": "3.7.6"
    },
    "colab": {
      "name": "Ragaflow.ipynb",
      "provenance": [],
      "collapsed_sections": [],
      "include_colab_link": true
    },
    "accelerator": "GPU"
  },
  "cells": [
    {
      "cell_type": "markdown",
      "metadata": {
        "id": "view-in-github",
        "colab_type": "text"
      },
      "source": [
        "<a href=\"https://colab.research.google.com/github/aiexplorations/RagaExperiments/blob/master/Ragaflow.ipynb\" target=\"_parent\"><img src=\"https://colab.research.google.com/assets/colab-badge.svg\" alt=\"Open In Colab\"/></a>"
      ]
    },
    {
      "cell_type": "markdown",
      "metadata": {
        "id": "qoizquEf72GL",
        "colab_type": "text"
      },
      "source": [
        "# RagaFlow: Classifying Carnatic Music Ragas using Deep Neural Networks\n",
        "\n",
        "Carnatic music is a form of Indian music, specifically from South India. It features complex patterns of scales starting from the 72 cardinal \"parent\" scales, to the many hundreds of derived \"janya\" scales, all of which are liberally used in musical compositions in and of themselves, or in combinations within the same composition. These scales are called ragas, and very often, a raga isn't just a scale, but a complex combination of scales, how to use the notes on the scale, what kinds of transition notes between scales can be played, and so on.\n",
        "\n",
        "In this notebook, I intend to explore how deep learning techniques, combined with some audio signal processing techniques, can help us identify these ragas. \n",
        "\n",
        "The data we use here comes from Sangeethapriya.org, so I'd like to thank them for the data they've made available for listeners. Essentially, clips of tracks by eminent artists (hosted on Sangeethapriya) were taken and processed into short, 5 second segments.\n",
        "\n",
        "Some quick notes:\n",
        "\n",
        "1. In Carnatic music, compositions are generally rendered in a specific ragam\n",
        "2. Practitioners of this form of music may render the raga at any starting pitch - generally a lot of the voices hover around the C, C# and D notes \n",
        "3. Violin accompaniment is common in this form of music - specifically, there is a drone accompaniment to the voice which is considered the leading melody in the music.\n",
        "4. There is no concept of harmony as such in Carnatic music. There is a concept of vivadam (which could be roughly translated to dissonance). However, this is a characteristic of a scale itself, and not a specific performance.\n",
        "5. Long stretches of a Carnatic music concert may be given up to just the percussion instruments. For example, a mridangam (a pitched drum) or a ghatam (a musical instrument very similar to a pot) are used extensively in Carnatic music concerts.\n",
        "6. Generally, rhythm complexity in Carnatic music is high. There are incredible and complex, almost-fractal patterns of beats used in some of the complex songs.Rhythm in Carnatic music is generally called *talam* - we won't dwell on it in this analysis, since we're concerned with the melody - mainly determined by the ragam (raga).\n",
        "\n",
        "\n",
        "These short tracks are then processed as input data, and machine learning models are built on top of this data.\n",
        "\n",
        "Some notes of value to those going through this code:\n",
        "\n",
        "1. Extensive signal analysis of the audio of the songs has not been done. I've just left in the typical noises, clicks, pops, and other kinds of variations in the data that you generally see - mainly because we humans can recognize ragas despite this, and I was just curious about what the model could learn.\n",
        "2. Accounting for silences, mridangam (a kind of Indian pitched drum used in Carnatic music), violin drones or tanpura drones (which generally are used to accompany an artist\n",
        "3. No specific differentiation between vocal and instrumental tracks has been made for the purpose of this analysis. The dataset contains both vocal and instrumental tracks - and perhaps this is for the better (I don't know for sure).\n",
        "4. I've not done additional processing on the sound data apart from sampling in the data at different rates (here, I've used 12 kHz. Perhaps it is possible to use a different sampling rate to solve this problem too.\n",
        "5. I experimented with a bunch of different models, and LSTMs are notoriously difficult to stabilize when you have smaller amounts of data. They do get better as you increase data volumes and tread carefully on regularization, dropout and such randomization hyperparameters. This is something I'm still exploring.\n",
        "\n"
      ]
    },
    {
      "cell_type": "code",
      "metadata": {
        "id": "9bY5oXbG4ll9",
        "colab_type": "code",
        "colab": {
          "base_uri": "https://localhost:8080/",
          "height": 34
        },
        "outputId": "f92996bd-6a42-48e5-d352-a75d9f407796"
      },
      "source": [
        "  # PyDub is a nice library for audio processing, which includes the AudioSegment class.\n",
        "  # AudioSegment is used to read and segment different music files (with potentially different encodings, rates, etc) and bring them in as lists\n",
        "  # These lists are then converted to numpy arrays that are then used to prepare the data for training.\n",
        "  \n",
        "  !pip install pydub"
      ],
      "execution_count": 1,
      "outputs": [
        {
          "output_type": "stream",
          "text": [
            "Requirement already satisfied: pydub in /usr/local/lib/python3.6/dist-packages (0.24.1)\n"
          ],
          "name": "stdout"
        }
      ]
    },
    {
      "cell_type": "code",
      "metadata": {
        "id": "wpjWDALP3ucy",
        "colab_type": "code",
        "colab": {
          "base_uri": "https://localhost:8080/",
          "height": 34
        },
        "outputId": "6b7fd014-8ec0-4dbb-e270-4bf1b3e5bb0b"
      },
      "source": [
        "# Here we bring in the data from a Google Drive directory, using the glob package, and the google package - \n",
        "# The 'drive' class within the colab module allows us to mount folders and make the files available within Jupyter\n",
        "\n",
        "import glob\n",
        "\n",
        "# Importing drive method from colab for accessing google drive\n",
        "from google.colab import drive\n",
        "\n",
        "drive.mount('/content/drive')\n",
        "\n",
        "\n",
        "data_files = glob.glob(\"/content/drive/My Drive/AIExplorations/carnatic_ragas_data/\")"
      ],
      "execution_count": 2,
      "outputs": [
        {
          "output_type": "stream",
          "text": [
            "Drive already mounted at /content/drive; to attempt to forcibly remount, call drive.mount(\"/content/drive\", force_remount=True).\n"
          ],
          "name": "stdout"
        }
      ]
    },
    {
      "cell_type": "code",
      "metadata": {
        "id": "4Wj_hwc9jbbm",
        "colab_type": "code",
        "colab": {
          "base_uri": "https://localhost:8080/",
          "height": 34
        },
        "outputId": "f57a47a5-6273-4c9c-b6c7-f976e37b1aae"
      },
      "source": [
        "! ls '/content/drive/My Drive/AIExplorations/carnatic_ragas_data/new_processed_data/'"
      ],
      "execution_count": 3,
      "outputs": [
        {
          "output_type": "stream",
          "text": [
            "bhairavi  kalyani  kambhoji  kharaharapriya  shankarabharanam  thodi  varali\n"
          ],
          "name": "stdout"
        }
      ]
    },
    {
      "cell_type": "code",
      "metadata": {
        "id": "vBbJD_MDkK0Y",
        "colab_type": "code",
        "colab": {}
      },
      "source": [
        ""
      ],
      "execution_count": 3,
      "outputs": []
    },
    {
      "cell_type": "markdown",
      "metadata": {
        "id": "WXT5EUuiAEvL",
        "colab_type": "text"
      },
      "source": [
        "# The Seven Main Ragas\n",
        "\n",
        "Though Carnatic music is known to have hundreds of distinct ragas, each with a unique sound (or \"colour\" as ragas are described to be analogous with different colours ... which kind of makes sense from a signal processing perspective), the most commonly performed ragas, also called the \"main\" ragas of Carnatic music are the following:\n",
        "\n",
        "1. Shankarabharanam - often associated with the major scale of Western Classical music\n",
        "2. Kalyani - Similar to Shankarabharanam notes-wise, just one note apart technically, but that one note makes a huge difference to the sound and feel of this raga\n",
        "3. Kambhoji - an uplifting, asymmetrical ragam with different sets of notes during the ascending and descending phases of the raga\n",
        "4. Thodi - An austere and grim-sounding raga with a deeply Indian vibe.\n",
        "5. Varali - A variation on the Thodi raga, subtle, austere and grim\n",
        "6. Bhairavi - An asymmetric raga that is closer to the Dorian or minor scales of Western music but again, uniquely Indian in flavour\n",
        "7. Kharaharapriya - the Indian counterpart of the Greek Dorian mode (with extensive character of its own)\n",
        "\n",
        "I'm not a musician outside of some guitar and although a Carnatic music aficionado, I wouldn't be qualified to write in depth about these ragas. However, I love the music and this problem of being able to understand musical notes through deep learning.\n",
        "\n",
        "The data for each of these ragas is stored in a separate folder named for the raga.\n"
      ]
    },
    {
      "cell_type": "code",
      "metadata": {
        "id": "9VRkiGmp343A",
        "colab_type": "code",
        "colab": {
          "base_uri": "https://localhost:8080/",
          "height": 34
        },
        "outputId": "e68d33aa-6886-42bb-d0a1-58a03fa3425b"
      },
      "source": [
        "# Running a shell command to check the folders available with raga names associated with them - these are the seven \"main\" ragas of Carnatic music.\n",
        "\n",
        "!ls \"/content/drive/My Drive/AIExplorations/carnatic_ragas_data/new_processed_data\""
      ],
      "execution_count": 4,
      "outputs": [
        {
          "output_type": "stream",
          "text": [
            "bhairavi  kalyani  kambhoji  kharaharapriya  shankarabharanam  thodi  varali\n"
          ],
          "name": "stdout"
        }
      ]
    },
    {
      "cell_type": "code",
      "metadata": {
        "id": "2CPJtsYR3keZ",
        "colab_type": "code",
        "colab": {}
      },
      "source": [
        "import numpy as np\n",
        "from pydub import AudioSegment\n",
        "import matplotlib.pyplot as plt\n",
        "import os\n",
        "import tensorflow as tf\n",
        "import pandas as pd"
      ],
      "execution_count": 5,
      "outputs": []
    },
    {
      "cell_type": "code",
      "metadata": {
        "id": "nr4jrbur3ked",
        "colab_type": "code",
        "colab": {
          "base_uri": "https://localhost:8080/",
          "height": 134
        },
        "outputId": "73f2f5ab-af52-4c71-b4f5-8b711698b96d"
      },
      "source": [
        "basepath = \"/content/drive/My Drive/AIExplorations/carnatic_ragas_data/new_processed_data\"\n",
        "ragas = []\n",
        "for entry in os.listdir(basepath):\n",
        "    if os.path.isdir(os.path.join(basepath, entry)):\n",
        "        print(entry)\n",
        "        ragas.append(entry)\n"
      ],
      "execution_count": 6,
      "outputs": [
        {
          "output_type": "stream",
          "text": [
            "kharaharapriya\n",
            "varali\n",
            "kalyani\n",
            "bhairavi\n",
            "shankarabharanam\n",
            "kambhoji\n",
            "thodi\n"
          ],
          "name": "stdout"
        }
      ]
    },
    {
      "cell_type": "markdown",
      "metadata": {
        "id": "dyJKN9gfDXng",
        "colab_type": "text"
      },
      "source": [
        "# Extracting and Preparing the Data\n",
        "\n",
        "We've brought in the data from Drive into this notebook, and now we bring it into a Numpy array to enable further processing and machine learning.\n",
        "\n",
        "Below, I've used the native Python functions from the `os` library to read in these MP3s, and then process them with the AudioSegment() function from PyDub.\n",
        "\n",
        "Note that I've used a lower sampling rate, and that this is 1-channel audio data.\n",
        "\n",
        "I have also used the `pad_sequences()` function from Keras' preprocessing APIs, to build up zero-padded sequences from the music. \n",
        "\n",
        "Since each file is a 5 second long clip, the NUMFILES and SNIPPETSIZE variables control how many files are read, and what size of segment is taken from the array that has been brought into the runtime as an array.\n",
        "\n",
        "*NOTE*: This step takes significant amounts of time, depending on how many files you're bringing in, and the snippet size. If you just want to run the model first, tweak those numbers to small values so that you can see faster performance. I used the GPU runtime on Colab, and it was slow even then (assuming it actually used the GPU for this process)."
      ]
    },
    {
      "cell_type": "code",
      "metadata": {
        "id": "qjVAF8lL3keg",
        "colab_type": "code",
        "colab": {
          "base_uri": "https://localhost:8080/",
          "height": 134
        },
        "outputId": "f4400a3a-5a57-45ef-a58c-357019447a10"
      },
      "source": [
        "dataset = {}\n",
        "NUMFILES = 100\n",
        "SNIPPETSIZE = 300000\n",
        "for raga in ragas:\n",
        "    #sequence list in which to store all the sequences from each file\n",
        "    sequence_list = []\n",
        "    files = os.listdir(os.path.join(basepath, raga))\n",
        "    print(\"Processing files for raga \",raga, \"...\")\n",
        "    for file in files[0:NUMFILES]: \n",
        "        filename = os.path.join(basepath, raga, file)\n",
        "        sound = AudioSegment.from_file(filename, sample_rate_Hz=12000, sample_width = 1, channels = 1, format = 'mp3')\n",
        "        sequence_list.append(sound.get_array_of_samples()[0:SNIPPETSIZE])\n",
        "    padded_sequence = tf.keras.preprocessing.sequence.pad_sequences(sequence_list)\n",
        "    dataset[raga] = padded_sequence"
      ],
      "execution_count": 7,
      "outputs": [
        {
          "output_type": "stream",
          "text": [
            "Processing files for raga  kharaharapriya ...\n",
            "Processing files for raga  varali ...\n",
            "Processing files for raga  kalyani ...\n",
            "Processing files for raga  bhairavi ...\n",
            "Processing files for raga  shankarabharanam ...\n",
            "Processing files for raga  kambhoji ...\n",
            "Processing files for raga  thodi ...\n"
          ],
          "name": "stdout"
        }
      ]
    },
    {
      "cell_type": "code",
      "metadata": {
        "id": "s5UjzJtXFT1W",
        "colab_type": "code",
        "colab": {}
      },
      "source": [
        "n_records = len(dataset)*NUMFILES # We compute the number of records in the overall (training + test) data \n",
        "raga_dict = {value: idx for idx, value in enumerate(ragas)} # Construct a dictionary with unique values assigned to each raga name"
      ],
      "execution_count": 8,
      "outputs": []
    },
    {
      "cell_type": "code",
      "metadata": {
        "id": "VZ0P9JmY5rbG",
        "colab_type": "code",
        "colab": {
          "base_uri": "https://localhost:8080/",
          "height": 134
        },
        "outputId": "42f47d36-2088-4490-bdba-919a9a0228b9"
      },
      "source": [
        "raga_dict"
      ],
      "execution_count": 9,
      "outputs": [
        {
          "output_type": "execute_result",
          "data": {
            "text/plain": [
              "{'bhairavi': 3,\n",
              " 'kalyani': 2,\n",
              " 'kambhoji': 5,\n",
              " 'kharaharapriya': 0,\n",
              " 'shankarabharanam': 4,\n",
              " 'thodi': 6,\n",
              " 'varali': 1}"
            ]
          },
          "metadata": {
            "tags": []
          },
          "execution_count": 9
        }
      ]
    },
    {
      "cell_type": "markdown",
      "metadata": {
        "id": "7AbIBgBIFFz7",
        "colab_type": "text"
      },
      "source": [
        "# Training Data and Labels as a Numpy Array\n",
        "\n",
        "We pad each row of the `dataset` dictionary (which contains key-value pairs of ragas and the associated raga snippet to arrive at consistent lengths for each of the snippets, and then prepare a data set which can be used for training and testing.\n",
        "\n",
        "We also prepare the labels for each snippet - we're building a supervised classification model here, and so the labels are essential.\n",
        "\n",
        "Note that we reshaped the `prepared_data` with the target shape (`n_records`, `SNIPPETSIZE`, 1) - this is essential because we're going to be feeding the data into our model in batches, and the shape of the model should allow this."
      ]
    },
    {
      "cell_type": "code",
      "metadata": {
        "id": "QRISxxHdOsKQ",
        "colab_type": "code",
        "colab": {}
      },
      "source": [
        "prepared_data = []\n",
        "prepared_labels = []\n",
        "\n",
        "for key, value in dataset.items():\n",
        "  for row in value:\n",
        "    if len(row) < SNIPPETSIZE:\n",
        "      t = SNIPPETSIZE - len(row)\n",
        "      row = np.pad(row, (0,t), \"constant\") #padding logic to solve the problem of different sequence lengths\n",
        "    prepared_data.append(row)\n",
        "    prepared_labels.append(raga_dict[key])\n",
        "prepared_data = np.vstack(prepared_data)\n",
        "prepared_labels = np.stack(prepared_labels)"
      ],
      "execution_count": 10,
      "outputs": []
    },
    {
      "cell_type": "code",
      "metadata": {
        "id": "1UWH_4eo2uY-",
        "colab_type": "code",
        "colab": {
          "base_uri": "https://localhost:8080/",
          "height": 34
        },
        "outputId": "d440849e-8017-4eae-8791-f43a4e47eeaa"
      },
      "source": [
        "from sklearn.preprocessing import StandardScaler\n",
        "scaler = StandardScaler()\n",
        "scaler.fit(prepared_data)"
      ],
      "execution_count": 11,
      "outputs": [
        {
          "output_type": "execute_result",
          "data": {
            "text/plain": [
              "StandardScaler(copy=True, with_mean=True, with_std=True)"
            ]
          },
          "metadata": {
            "tags": []
          },
          "execution_count": 11
        }
      ]
    },
    {
      "cell_type": "markdown",
      "metadata": {
        "id": "Vxt3tq7jFr9V",
        "colab_type": "text"
      },
      "source": [
        "A quick check reveals the shapes of the `prepared_data` and `prepared_labels`. \n",
        "\n",
        "1. We see that there are many examples of data, from which we can build training and testing sets. \n",
        "\n",
        "2. Each of these examples is an audio snippet that is a certain number of timesteps long (a timestep in this case represents a fraction of a second from the 5 second clip). \n",
        "\n",
        "3. There is one label for each of the audio snippets."
      ]
    },
    {
      "cell_type": "code",
      "metadata": {
        "id": "zd-VxIR5Jumk",
        "colab_type": "code",
        "colab": {
          "base_uri": "https://localhost:8080/",
          "height": 34
        },
        "outputId": "ca9fb2cf-64c2-4d64-d352-2c71afc8b733"
      },
      "source": [
        "prepared_data.shape, prepared_labels.shape"
      ],
      "execution_count": 12,
      "outputs": [
        {
          "output_type": "execute_result",
          "data": {
            "text/plain": [
              "((700, 300000), (700,))"
            ]
          },
          "metadata": {
            "tags": []
          },
          "execution_count": 12
        }
      ]
    },
    {
      "cell_type": "markdown",
      "metadata": {
        "id": "rBUyzsb1F4tz",
        "colab_type": "text"
      },
      "source": [
        "The `prepared_labels` ought to contain one code for each of the 7 ragas in the list of input ragas we saw earlier."
      ]
    },
    {
      "cell_type": "code",
      "metadata": {
        "id": "vgko8zmaJ_nx",
        "colab_type": "code",
        "colab": {
          "base_uri": "https://localhost:8080/",
          "height": 34
        },
        "outputId": "a8eadaef-1238-4ef6-8ceb-3c63900c6b32"
      },
      "source": [
        "set(prepared_labels)"
      ],
      "execution_count": 13,
      "outputs": [
        {
          "output_type": "execute_result",
          "data": {
            "text/plain": [
              "{0, 1, 2, 3, 4, 5, 6}"
            ]
          },
          "metadata": {
            "tags": []
          },
          "execution_count": 13
        }
      ]
    },
    {
      "cell_type": "markdown",
      "metadata": {
        "id": "0u_vw70qGfbu",
        "colab_type": "text"
      },
      "source": [
        "We build up a couple of variables to parametrize the model. The sequence size (as we saw above) and the number of inputs (records) are shown here."
      ]
    },
    {
      "cell_type": "code",
      "metadata": {
        "id": "CaX_TeoVTOSw",
        "colab_type": "code",
        "colab": {}
      },
      "source": [
        "seq_size, n_input = prepared_data[0].shape[0], len(prepared_data)"
      ],
      "execution_count": 14,
      "outputs": []
    },
    {
      "cell_type": "markdown",
      "metadata": {
        "id": "huFQvzIcG7o4",
        "colab_type": "text"
      },
      "source": [
        "# Optional : One Hot Encoding\n",
        "\n",
        "While I have not actually used the result from this step, it can be valuable if you're training your model differently. Specifically, if you're using a Sparse matrix to represent the labels (one-hot form) you will have to specify 'sparse_categorical_crossentropy' as your loss function."
      ]
    },
    {
      "cell_type": "code",
      "metadata": {
        "id": "XvDOTRvSchWj",
        "colab_type": "code",
        "colab": {
          "base_uri": "https://localhost:8080/",
          "height": 34
        },
        "outputId": "b0056bb2-51ed-4046-ab58-871848e626ed"
      },
      "source": [
        "from keras.utils.np_utils import to_categorical   \n",
        "\n",
        "categorical_labels = to_categorical(prepared_labels, num_classes=len(set(prepared_labels)))"
      ],
      "execution_count": 15,
      "outputs": [
        {
          "output_type": "stream",
          "text": [
            "Using TensorFlow backend.\n"
          ],
          "name": "stderr"
        }
      ]
    },
    {
      "cell_type": "markdown",
      "metadata": {
        "id": "fQnXY8ePHPOL",
        "colab_type": "text"
      },
      "source": [
        "# Key Keras Imports\n",
        "\n",
        "Since we're building a `Sequential()` model in Keras that is a hybrid deep neural network, we require the LSTM, TimeDistributed, Conv1D layers. We also import other common layers, losses and helper functions for regularization and preprocessing."
      ]
    },
    {
      "cell_type": "code",
      "metadata": {
        "id": "w0kp4V0gb985",
        "colab_type": "code",
        "colab": {}
      },
      "source": [
        "from keras.models import Sequential\n",
        "from keras.layers import LSTM, Dense, Dropout, BatchNormalization, Flatten, TimeDistributed, Conv1D, MaxPooling1D\n",
        "from keras.losses import categorical_crossentropy\n",
        "from keras.optimizers import Adam\n",
        "from keras.regularizers import l1_l2\n",
        "from sklearn.model_selection import train_test_split\n",
        "from sklearn.preprocessing import StandardScaler"
      ],
      "execution_count": 16,
      "outputs": []
    },
    {
      "cell_type": "markdown",
      "metadata": {
        "id": "4NpH490_Hjfh",
        "colab_type": "text"
      },
      "source": [
        "It is customary to use holding cross validation for building models for such problems and I've done the same here. Equally, we could approach this using k-fold cross validation, with any number of folds of your choice. \n",
        "\n",
        "Here I've just set aside 30% of the data for testing purposes. Note that I've converted the labels list to a Numpy array, for ease of feeding into the model."
      ]
    },
    {
      "cell_type": "code",
      "metadata": {
        "id": "0jDpsmpMcJe0",
        "colab_type": "code",
        "colab": {}
      },
      "source": [
        "train_x, test_x, train_y, test_y = train_test_split(prepared_data, np.array(prepared_labels), test_size = 0.3 )"
      ],
      "execution_count": 17,
      "outputs": []
    },
    {
      "cell_type": "code",
      "metadata": {
        "id": "F9arD_1O3KFt",
        "colab_type": "code",
        "colab": {}
      },
      "source": [
        "train_x_sc = scaler.transform(train_x).reshape(train_x.shape[0], SNIPPETSIZE, 1)\n",
        "test_x_sc = scaler.transform(test_x).reshape(test_x.shape[0], SNIPPETSIZE, 1)"
      ],
      "execution_count": 18,
      "outputs": []
    },
    {
      "cell_type": "markdown",
      "metadata": {
        "id": "v_a8IeXDH74p",
        "colab_type": "text"
      },
      "source": [
        "A quick check reveals the shapes of the prepared training and test data, before and after scaling and processing."
      ]
    },
    {
      "cell_type": "code",
      "metadata": {
        "id": "ygoWz_7IDMrp",
        "colab_type": "code",
        "colab": {
          "base_uri": "https://localhost:8080/",
          "height": 34
        },
        "outputId": "c125cb34-ebd0-4f03-d2e7-9d9f731e8b07"
      },
      "source": [
        "train_x.shape, train_y.shape, test_x.shape, test_y.shape"
      ],
      "execution_count": 19,
      "outputs": [
        {
          "output_type": "execute_result",
          "data": {
            "text/plain": [
              "((490, 300000), (490,), (210, 300000), (210,))"
            ]
          },
          "metadata": {
            "tags": []
          },
          "execution_count": 19
        }
      ]
    },
    {
      "cell_type": "code",
      "metadata": {
        "id": "PCmTVkaI4AKf",
        "colab_type": "code",
        "colab": {
          "base_uri": "https://localhost:8080/",
          "height": 34
        },
        "outputId": "55f17a49-9a5b-4116-e940-430b6bbca937"
      },
      "source": [
        "train_x_sc.shape, test_x_sc.shape"
      ],
      "execution_count": 20,
      "outputs": [
        {
          "output_type": "execute_result",
          "data": {
            "text/plain": [
              "((490, 300000, 1), (210, 300000, 1))"
            ]
          },
          "metadata": {
            "tags": []
          },
          "execution_count": 20
        }
      ]
    },
    {
      "cell_type": "markdown",
      "metadata": {
        "id": "9RBuFy42IWJ-",
        "colab_type": "text"
      },
      "source": [
        "# Common Hyperparameters\n",
        "\n",
        "1. We're setting common hyperparameters in this section to ensure we can control the training process closely. For purposes of simplicity, we control hidden layer count and number of LSTM units from here. Equally, we could custom-build our models by feeding these numbers in where needed.\n",
        "\n",
        "2. Note that ConvNet filter size and other parameters are controlled directly from the model and are not parametrized here.\n",
        "\n",
        "3. We also specify learning rates, dropout and learning rate decay here. Potentially, we could control these elements if we use a custom Adam() optimizer."
      ]
    },
    {
      "cell_type": "code",
      "metadata": {
        "id": "-kLfKPJpb-mh",
        "colab_type": "code",
        "colab": {}
      },
      "source": [
        "batchsize = 16\n",
        "epochs = 50\n",
        "n_units = 32\n",
        "n_hidden = 32\n",
        "lr = 1e-3\n",
        "decay = 0.1 * lr\n",
        "dropout_pc = 0.05\n",
        "l1, l2 = 0.01, 0.1\n",
        "n_classes = len(set(train_y)) # We set the number of classes in the network based on the classes present in the training data."
      ],
      "execution_count": 21,
      "outputs": []
    },
    {
      "cell_type": "markdown",
      "metadata": {
        "id": "lZkzJGO8JB5O",
        "colab_type": "text"
      },
      "source": [
        "Observe that we can add multiple ragas to these folders in future and have the model build here as per parametrization above."
      ]
    },
    {
      "cell_type": "code",
      "metadata": {
        "id": "AmaY8T01dZMO",
        "colab_type": "code",
        "colab": {}
      },
      "source": [
        "model = Sequential([\n",
        "    TimeDistributed(Conv1D(filters = 200, kernel_size = 20, padding = 'same', activation = 'relu', strides=8), \n",
        "                    batch_input_shape = (None, 1, seq_size, 1) ),\n",
        "    TimeDistributed(MaxPooling1D(pool_size=100)),\n",
        "    TimeDistributed(Conv1D(filters = 100, kernel_size = 10, padding = 'valid', activation = 'relu', strides=4)),\n",
        "    TimeDistributed(BatchNormalization()),\n",
        "    TimeDistributed(MaxPooling1D(pool_size=50)),\n",
        "    TimeDistributed(Flatten()),\n",
        "    LSTM(units = 128, activation = \"relu\", kernel_regularizer = l1_l2(l1, l2), \n",
        "         input_shape = (seq_size, 1), return_sequences = True),\n",
        "    Dense(512, activation = \"relu\"),\n",
        "    LSTM(units = 64, activation = \"relu\", kernel_regularizer = l1_l2(l1, l2), \n",
        "         dropout = dropout_pc, return_sequences = False),\n",
        "    Dense(256, activation = \"relu\"),\n",
        "    BatchNormalization(),\n",
        "    Dense(128, activation = \"relu\"),\n",
        "    BatchNormalization(),\n",
        "    Dense(64, activation = \"relu\"),\n",
        "    Dropout(dropout_pc),\n",
        "    Dense(n_classes, activation = \"softmax\")\n",
        "    ])"
      ],
      "execution_count": 22,
      "outputs": []
    },
    {
      "cell_type": "markdown",
      "metadata": {
        "id": "cpbcImiRJIp6",
        "colab_type": "text"
      },
      "source": [
        "# Model Architecture\n",
        "\n",
        "The model architecture here is a CNN-LSTM hybrid network with the following features:\n",
        "\n",
        "1. Two `Conv1D()`  layers to learn patterns of variation in the input signal and patterns of patterns thereof. Filters, striding and kernel sizes can be tweaked as needed.\n",
        "2. `TimeDistributed()` layers for feeding the above `Conv1D()` layers, along with `BatchNormalization()` and `MaxPooling1D()` layers.\n",
        "3. Two `LSTM()` layers that receive segments of the Conv1D data in sequence and learn these sequences.\n",
        "4. `BatchNormalization()` layers to ensure there are no gradient related issues\n",
        "5. `Dropout()` regularization. Note that we have used Elastic Net (`l1_l2()`) regularization in the `LSTM()` layers\n",
        "6. `Dense()` layer with `softmax` activation for multi-class classification as the final layer.\n",
        "\n",
        "Potentially, we could tweak the number of dense layers, the number of LSTM() layers and the BatchNormalization() layers to adjust performance.\n",
        "\n",
        "## Batch Input\n",
        "\n",
        "Note that the model receives input as a batch via the `TimeDistributed()` layer - this requires us to feed in the right shape of data, and specify the `batch_input_size` parameter accordingly."
      ]
    },
    {
      "cell_type": "code",
      "metadata": {
        "id": "dKbXIsFuRcKr",
        "colab_type": "code",
        "colab": {}
      },
      "source": [
        "adam_opt = tf.keras.optimizers.Adam(\n",
        "    learning_rate=0.0001,\n",
        "    beta_1=0.9,\n",
        "    beta_2=0.999,\n",
        "    epsilon=1e-05,\n",
        "    amsgrad=False,\n",
        "    name=\"Adam\"\n",
        ")"
      ],
      "execution_count": 23,
      "outputs": []
    },
    {
      "cell_type": "code",
      "metadata": {
        "id": "2RWhry_gdgDH",
        "colab_type": "code",
        "colab": {
          "base_uri": "https://localhost:8080/",
          "height": 706
        },
        "outputId": "c9854f29-4eff-4022-d445-9f3ab098da66"
      },
      "source": [
        "model.compile(optimizer = adam_opt, loss= 'sparse_categorical_crossentropy', metrics= ['acc'])\n",
        "print(model.summary())"
      ],
      "execution_count": 24,
      "outputs": [
        {
          "output_type": "stream",
          "text": [
            "Model: \"sequential_1\"\n",
            "_________________________________________________________________\n",
            "Layer (type)                 Output Shape              Param #   \n",
            "=================================================================\n",
            "time_distributed_1 (TimeDist (None, 1, 37500, 200)     4200      \n",
            "_________________________________________________________________\n",
            "time_distributed_2 (TimeDist (None, 1, 375, 200)       0         \n",
            "_________________________________________________________________\n",
            "time_distributed_3 (TimeDist (None, 1, 92, 100)        200100    \n",
            "_________________________________________________________________\n",
            "time_distributed_4 (TimeDist (None, 1, 92, 100)        400       \n",
            "_________________________________________________________________\n",
            "time_distributed_5 (TimeDist (None, 1, 1, 100)         0         \n",
            "_________________________________________________________________\n",
            "time_distributed_6 (TimeDist (None, 1, 100)            0         \n",
            "_________________________________________________________________\n",
            "lstm_1 (LSTM)                (None, 1, 128)            117248    \n",
            "_________________________________________________________________\n",
            "dense_1 (Dense)              (None, 1, 512)            66048     \n",
            "_________________________________________________________________\n",
            "lstm_2 (LSTM)                (None, 64)                147712    \n",
            "_________________________________________________________________\n",
            "dense_2 (Dense)              (None, 256)               16640     \n",
            "_________________________________________________________________\n",
            "batch_normalization_2 (Batch (None, 256)               1024      \n",
            "_________________________________________________________________\n",
            "dense_3 (Dense)              (None, 128)               32896     \n",
            "_________________________________________________________________\n",
            "batch_normalization_3 (Batch (None, 128)               512       \n",
            "_________________________________________________________________\n",
            "dense_4 (Dense)              (None, 64)                8256      \n",
            "_________________________________________________________________\n",
            "dropout_1 (Dropout)          (None, 64)                0         \n",
            "_________________________________________________________________\n",
            "dense_5 (Dense)              (None, 7)                 455       \n",
            "=================================================================\n",
            "Total params: 595,491\n",
            "Trainable params: 594,523\n",
            "Non-trainable params: 968\n",
            "_________________________________________________________________\n",
            "None\n"
          ],
          "name": "stdout"
        }
      ]
    },
    {
      "cell_type": "code",
      "metadata": {
        "id": "dZ278ekRTtZ2",
        "colab_type": "code",
        "colab": {
          "base_uri": "https://localhost:8080/",
          "height": 34
        },
        "outputId": "7592e099-82e6-4731-b8e8-eb0dd01a73a8"
      },
      "source": [
        "len(train_x.reshape((train_x.shape[0], 1, train_x.shape[1], 1))), len(train_y)"
      ],
      "execution_count": 25,
      "outputs": [
        {
          "output_type": "execute_result",
          "data": {
            "text/plain": [
              "(490, 490)"
            ]
          },
          "metadata": {
            "tags": []
          },
          "execution_count": 25
        }
      ]
    },
    {
      "cell_type": "code",
      "metadata": {
        "id": "WNVtqM8nxUGF",
        "colab_type": "code",
        "colab": {}
      },
      "source": [
        "np.random.seed(456)"
      ],
      "execution_count": 26,
      "outputs": []
    },
    {
      "cell_type": "code",
      "metadata": {
        "id": "02DavIpDdiD7",
        "colab_type": "code",
        "colab": {
          "base_uri": "https://localhost:8080/",
          "height": 1000
        },
        "outputId": "045617e1-bccb-401d-ba72-d98dd1f645f8"
      },
      "source": [
        "history = model.fit(x = train_x_sc.reshape((train_x_sc.shape[0], 1, train_x_sc.shape[1], 1)), \n",
        "                    y = train_y, \n",
        "                    batch_size= batchsize, \n",
        "                    epochs= 50, \n",
        "                    verbose= 1,\n",
        "                    validation_data=[test_x_sc.reshape((test_x_sc.shape[0], 1, test_x_sc.shape[1], 1)), test_y])"
      ],
      "execution_count": 27,
      "outputs": [
        {
          "output_type": "stream",
          "text": [
            "Train on 490 samples, validate on 210 samples\n",
            "Epoch 1/50\n",
            "490/490 [==============================] - 13s 26ms/step - loss: 131.6934 - acc: 0.4041 - val_loss: 127.3192 - val_acc: 0.1048\n",
            "Epoch 2/50\n",
            "490/490 [==============================] - 5s 9ms/step - loss: 122.0751 - acc: 0.7204 - val_loss: 118.4779 - val_acc: 0.1429\n",
            "Epoch 3/50\n",
            "490/490 [==============================] - 5s 9ms/step - loss: 113.2369 - acc: 0.7592 - val_loss: 110.0812 - val_acc: 0.1429\n",
            "Epoch 4/50\n",
            "490/490 [==============================] - 5s 9ms/step - loss: 104.9225 - acc: 0.8224 - val_loss: 102.1304 - val_acc: 0.1429\n",
            "Epoch 5/50\n",
            "490/490 [==============================] - 5s 9ms/step - loss: 97.0904 - acc: 0.8510 - val_loss: 94.6258 - val_acc: 0.1810\n",
            "Epoch 6/50\n",
            "490/490 [==============================] - 5s 9ms/step - loss: 89.6827 - acc: 0.9102 - val_loss: 87.5440 - val_acc: 0.1381\n",
            "Epoch 7/50\n",
            "490/490 [==============================] - 5s 9ms/step - loss: 82.7322 - acc: 0.9306 - val_loss: 80.8726 - val_acc: 0.1333\n",
            "Epoch 8/50\n",
            "490/490 [==============================] - 5s 9ms/step - loss: 76.1738 - acc: 0.9388 - val_loss: 74.5979 - val_acc: 0.1714\n",
            "Epoch 9/50\n",
            "490/490 [==============================] - 5s 9ms/step - loss: 70.0916 - acc: 0.9388 - val_loss: 68.7031 - val_acc: 0.1381\n",
            "Epoch 10/50\n",
            "490/490 [==============================] - 5s 9ms/step - loss: 64.3473 - acc: 0.9510 - val_loss: 63.1578 - val_acc: 0.1762\n",
            "Epoch 11/50\n",
            "490/490 [==============================] - 5s 9ms/step - loss: 58.9507 - acc: 0.9510 - val_loss: 57.9513 - val_acc: 0.2476\n",
            "Epoch 12/50\n",
            "490/490 [==============================] - 5s 9ms/step - loss: 53.9194 - acc: 0.9673 - val_loss: 53.0723 - val_acc: 0.3476\n",
            "Epoch 13/50\n",
            "490/490 [==============================] - 5s 9ms/step - loss: 49.2418 - acc: 0.9571 - val_loss: 48.4631 - val_acc: 0.3619\n",
            "Epoch 14/50\n",
            "490/490 [==============================] - 5s 9ms/step - loss: 44.8490 - acc: 0.9633 - val_loss: 44.1833 - val_acc: 0.4286\n",
            "Epoch 15/50\n",
            "490/490 [==============================] - 5s 9ms/step - loss: 40.7678 - acc: 0.9633 - val_loss: 40.1073 - val_acc: 0.5190\n",
            "Epoch 16/50\n",
            "490/490 [==============================] - 5s 9ms/step - loss: 36.9567 - acc: 0.9735 - val_loss: 36.2284 - val_acc: 0.6714\n",
            "Epoch 17/50\n",
            "490/490 [==============================] - 5s 9ms/step - loss: 33.4275 - acc: 0.9816 - val_loss: 32.7611 - val_acc: 0.6762\n",
            "Epoch 18/50\n",
            "490/490 [==============================] - 5s 9ms/step - loss: 30.1252 - acc: 0.9878 - val_loss: 29.4515 - val_acc: 0.7762\n",
            "Epoch 19/50\n",
            "490/490 [==============================] - 5s 10ms/step - loss: 27.1160 - acc: 0.9796 - val_loss: 26.3308 - val_acc: 0.8143\n",
            "Epoch 20/50\n",
            "490/490 [==============================] - 5s 10ms/step - loss: 24.3091 - acc: 0.9776 - val_loss: 23.4577 - val_acc: 0.8238\n",
            "Epoch 21/50\n",
            "490/490 [==============================] - 5s 10ms/step - loss: 21.7161 - acc: 0.9816 - val_loss: 20.7852 - val_acc: 0.9476\n",
            "Epoch 22/50\n",
            "490/490 [==============================] - 5s 9ms/step - loss: 19.3554 - acc: 0.9776 - val_loss: 18.6345 - val_acc: 0.8238\n",
            "Epoch 23/50\n",
            "490/490 [==============================] - 5s 9ms/step - loss: 17.1914 - acc: 0.9714 - val_loss: 16.5472 - val_acc: 0.8286\n",
            "Epoch 24/50\n",
            "490/490 [==============================] - 5s 10ms/step - loss: 15.1908 - acc: 0.9796 - val_loss: 14.3646 - val_acc: 0.9524\n",
            "Epoch 25/50\n",
            "490/490 [==============================] - 5s 9ms/step - loss: 13.3907 - acc: 0.9776 - val_loss: 12.7524 - val_acc: 0.8667\n",
            "Epoch 26/50\n",
            "490/490 [==============================] - 5s 9ms/step - loss: 11.7412 - acc: 0.9796 - val_loss: 11.0739 - val_acc: 0.9476\n",
            "Epoch 27/50\n",
            "490/490 [==============================] - 5s 9ms/step - loss: 10.2519 - acc: 0.9816 - val_loss: 9.6290 - val_acc: 0.9619\n",
            "Epoch 28/50\n",
            "490/490 [==============================] - 5s 9ms/step - loss: 8.9442 - acc: 0.9816 - val_loss: 8.5372 - val_acc: 0.9095\n",
            "Epoch 29/50\n",
            "490/490 [==============================] - 5s 9ms/step - loss: 7.7613 - acc: 0.9837 - val_loss: 7.3286 - val_acc: 0.9381\n",
            "Epoch 30/50\n",
            "490/490 [==============================] - 5s 9ms/step - loss: 6.7224 - acc: 0.9796 - val_loss: 6.3658 - val_acc: 0.9190\n",
            "Epoch 31/50\n",
            "490/490 [==============================] - 5s 10ms/step - loss: 5.7938 - acc: 0.9857 - val_loss: 5.6840 - val_acc: 0.8286\n",
            "Epoch 32/50\n",
            "490/490 [==============================] - 5s 10ms/step - loss: 4.9938 - acc: 0.9816 - val_loss: 4.7538 - val_acc: 0.9333\n",
            "Epoch 33/50\n",
            "490/490 [==============================] - 5s 9ms/step - loss: 4.3103 - acc: 0.9837 - val_loss: 4.0801 - val_acc: 0.9524\n",
            "Epoch 34/50\n",
            "490/490 [==============================] - 5s 10ms/step - loss: 3.7559 - acc: 0.9776 - val_loss: 3.5966 - val_acc: 0.9571\n",
            "Epoch 35/50\n",
            "490/490 [==============================] - 5s 10ms/step - loss: 3.2728 - acc: 0.9837 - val_loss: 3.1725 - val_acc: 0.9381\n",
            "Epoch 36/50\n",
            "490/490 [==============================] - 5s 10ms/step - loss: 2.8913 - acc: 0.9878 - val_loss: 2.7928 - val_acc: 0.9524\n",
            "Epoch 37/50\n",
            "490/490 [==============================] - 5s 10ms/step - loss: 2.5752 - acc: 0.9857 - val_loss: 2.6372 - val_acc: 0.9238\n",
            "Epoch 38/50\n",
            "490/490 [==============================] - 5s 9ms/step - loss: 2.2970 - acc: 0.9918 - val_loss: 2.3299 - val_acc: 0.9381\n",
            "Epoch 39/50\n",
            "490/490 [==============================] - 5s 9ms/step - loss: 2.0778 - acc: 0.9837 - val_loss: 2.0838 - val_acc: 0.9476\n",
            "Epoch 40/50\n",
            "490/490 [==============================] - 5s 9ms/step - loss: 1.8892 - acc: 0.9878 - val_loss: 1.8756 - val_acc: 0.9524\n",
            "Epoch 41/50\n",
            "490/490 [==============================] - 5s 9ms/step - loss: 1.7311 - acc: 0.9878 - val_loss: 1.7212 - val_acc: 0.9667\n",
            "Epoch 42/50\n",
            "490/490 [==============================] - 5s 9ms/step - loss: 1.5799 - acc: 0.9837 - val_loss: 1.6395 - val_acc: 0.9286\n",
            "Epoch 43/50\n",
            "490/490 [==============================] - 5s 9ms/step - loss: 1.4451 - acc: 0.9878 - val_loss: 1.4887 - val_acc: 0.9524\n",
            "Epoch 44/50\n",
            "490/490 [==============================] - 5s 9ms/step - loss: 1.3809 - acc: 0.9857 - val_loss: 1.4480 - val_acc: 0.9429\n",
            "Epoch 45/50\n",
            "490/490 [==============================] - 5s 9ms/step - loss: 1.2692 - acc: 0.9837 - val_loss: 1.3203 - val_acc: 0.9524\n",
            "Epoch 46/50\n",
            "490/490 [==============================] - 5s 9ms/step - loss: 1.1979 - acc: 0.9776 - val_loss: 1.2659 - val_acc: 0.9429\n",
            "Epoch 47/50\n",
            "490/490 [==============================] - 5s 9ms/step - loss: 1.0835 - acc: 0.9857 - val_loss: 1.0930 - val_acc: 0.9619\n",
            "Epoch 48/50\n",
            "490/490 [==============================] - 5s 9ms/step - loss: 1.0180 - acc: 0.9776 - val_loss: 1.0685 - val_acc: 0.9571\n",
            "Epoch 49/50\n",
            "490/490 [==============================] - 5s 9ms/step - loss: 0.9464 - acc: 0.9878 - val_loss: 0.9733 - val_acc: 0.9714\n",
            "Epoch 50/50\n",
            "490/490 [==============================] - 5s 9ms/step - loss: 0.8856 - acc: 0.9776 - val_loss: 0.9636 - val_acc: 0.9476\n"
          ],
          "name": "stdout"
        }
      ]
    },
    {
      "cell_type": "markdown",
      "metadata": {
        "id": "3pNurvcbePQz",
        "colab_type": "text"
      },
      "source": [
        "# Results\n",
        "\n",
        "We have arrived at a model which has trained to be upwards of 90% accuracy on the test set, after 100 epochs of training. Let's look at the accuracy and loss curves."
      ]
    },
    {
      "cell_type": "code",
      "metadata": {
        "id": "uGDT4nc1dovZ",
        "colab_type": "code",
        "colab": {
          "base_uri": "https://localhost:8080/",
          "height": 733
        },
        "outputId": "13ba6fd6-dcf3-4938-d38d-1599a76e13ac"
      },
      "source": [
        "pd.DataFrame(history.history)[['acc', 'val_acc']].plot(figsize = (16,12), \n",
        "                                                       title = \"Raga Classification, Accuracy\")"
      ],
      "execution_count": 30,
      "outputs": [
        {
          "output_type": "execute_result",
          "data": {
            "text/plain": [
              "<matplotlib.axes._subplots.AxesSubplot at 0x7fe2e3a2c518>"
            ]
          },
          "metadata": {
            "tags": []
          },
          "execution_count": 30
        },
        {
          "output_type": "display_data",
          "data": {
            "image/png": "[encoded data removed]",
            "text/plain": [
              "<Figure size 1152x864 with 1 Axes>"
            ]
          },
          "metadata": {
            "tags": [],
            "needs_background": "light"
          }
        }
      ]
    },
    {
      "cell_type": "code",
      "metadata": {
        "id": "9iBu2R9Mm7W1",
        "colab_type": "code",
        "colab": {
          "base_uri": "https://localhost:8080/",
          "height": 733
        },
        "outputId": "0e9ffab0-bdb7-42af-d948-f0e3978230a4"
      },
      "source": [
        "pd.DataFrame(history.history)[['loss', 'val_loss']].plot(figsize = (16,12), title = \"Raga Classification, Loss\")"
      ],
      "execution_count": 31,
      "outputs": [
        {
          "output_type": "execute_result",
          "data": {
            "text/plain": [
              "<matplotlib.axes._subplots.AxesSubplot at 0x7fe2e3ec82e8>"
            ]
          },
          "metadata": {
            "tags": []
          },
          "execution_count": 31
        },
        {
          "output_type": "display_data",
          "data": {
            "image/png": "[encoded data removed]",
            "text/plain": [
              "<Figure size 1152x864 with 1 Axes>"
            ]
          },
          "metadata": {
            "tags": [],
            "needs_background": "light"
          }
        }
      ]
    },
    {
      "cell_type": "code",
      "metadata": {
        "id": "U6MpGtAK771n",
        "colab_type": "code",
        "colab": {
          "base_uri": "https://localhost:8080/",
          "height": 70
        },
        "outputId": "5feed07a-786c-4f66-d53b-985832326b46"
      },
      "source": [
        "model.save(\"/content/drive/My Drive/AIExplorations/carnatic_ragas_data/model.h5\")"
      ],
      "execution_count": 32,
      "outputs": [
        {
          "output_type": "stream",
          "text": [
            "/usr/local/lib/python3.6/dist-packages/keras/engine/saving.py:165: UserWarning: TensorFlow optimizers do not make it possible to access optimizer attributes or optimizer state after instantiation. As a result, we cannot save the optimizer as part of the model save file.You will have to compile your model again after loading it. Prefer using a Keras optimizer instead (see keras.io/optimizers).\n",
            "  'TensorFlow optimizers do not '\n"
          ],
          "name": "stderr"
        }
      ]
    },
    {
      "cell_type": "markdown",
      "metadata": {
        "id": "PaiRD9PxebRY",
        "colab_type": "text"
      },
      "source": [
        "# Trying the model out\n",
        "\n",
        "Below the model is being used to predict the class for a clip. We process the clip first, and then feed it to the `predict()` method in the model."
      ]
    },
    {
      "cell_type": "code",
      "metadata": {
        "id": "UR1pLgnf-9dY",
        "colab_type": "code",
        "colab": {
          "base_uri": "https://localhost:8080/",
          "height": 67
        },
        "outputId": "6e589d2a-4ec7-465a-bc18-e4f872b1fffd"
      },
      "source": [
        "model_loaded = tf.keras.models.load_model(\"/content/drive/My Drive/AIExplorations/carnatic_ragas_data/model.h5\")"
      ],
      "execution_count": 53,
      "outputs": [
        {
          "output_type": "stream",
          "text": [
            "WARNING:tensorflow:Layer lstm_1 will not use cuDNN kernel since it doesn't meet the cuDNN kernel criteria. It will use generic GPU kernel as fallback when running on GPU\n",
            "WARNING:tensorflow:Layer lstm_2 will not use cuDNN kernel since it doesn't meet the cuDNN kernel criteria. It will use generic GPU kernel as fallback when running on GPU\n",
            "WARNING:tensorflow:No training configuration found in the save file, so the model was *not* compiled. Compile it manually.\n"
          ],
          "name": "stdout"
        }
      ]
    },
    {
      "cell_type": "code",
      "metadata": {
        "id": "r582RIzs_TXY",
        "colab_type": "code",
        "colab": {
          "base_uri": "https://localhost:8080/",
          "height": 706
        },
        "outputId": "cdf4f60a-96bd-4124-86ae-43bc71576475"
      },
      "source": [
        "model.compile(optimizer = 'adam', loss= 'sparse_categorical_crossentropy', metrics= ['acc'])\n",
        "print(model.summary())"
      ],
      "execution_count": 54,
      "outputs": [
        {
          "output_type": "stream",
          "text": [
            "Model: \"sequential_1\"\n",
            "_________________________________________________________________\n",
            "Layer (type)                 Output Shape              Param #   \n",
            "=================================================================\n",
            "time_distributed_1 (TimeDist (None, 1, 37500, 200)     4200      \n",
            "_________________________________________________________________\n",
            "time_distributed_2 (TimeDist (None, 1, 375, 200)       0         \n",
            "_________________________________________________________________\n",
            "time_distributed_3 (TimeDist (None, 1, 92, 100)        200100    \n",
            "_________________________________________________________________\n",
            "time_distributed_4 (TimeDist (None, 1, 92, 100)        400       \n",
            "_________________________________________________________________\n",
            "time_distributed_5 (TimeDist (None, 1, 1, 100)         0         \n",
            "_________________________________________________________________\n",
            "time_distributed_6 (TimeDist (None, 1, 100)            0         \n",
            "_________________________________________________________________\n",
            "lstm_1 (LSTM)                (None, 1, 128)            117248    \n",
            "_________________________________________________________________\n",
            "dense_1 (Dense)              (None, 1, 512)            66048     \n",
            "_________________________________________________________________\n",
            "lstm_2 (LSTM)                (None, 64)                147712    \n",
            "_________________________________________________________________\n",
            "dense_2 (Dense)              (None, 256)               16640     \n",
            "_________________________________________________________________\n",
            "batch_normalization_2 (Batch (None, 256)               1024      \n",
            "_________________________________________________________________\n",
            "dense_3 (Dense)              (None, 128)               32896     \n",
            "_________________________________________________________________\n",
            "batch_normalization_3 (Batch (None, 128)               512       \n",
            "_________________________________________________________________\n",
            "dense_4 (Dense)              (None, 64)                8256      \n",
            "_________________________________________________________________\n",
            "dropout_1 (Dropout)          (None, 64)                0         \n",
            "_________________________________________________________________\n",
            "dense_5 (Dense)              (None, 7)                 455       \n",
            "=================================================================\n",
            "Total params: 595,491\n",
            "Trainable params: 594,523\n",
            "Non-trainable params: 968\n",
            "_________________________________________________________________\n",
            "None\n"
          ],
          "name": "stdout"
        }
      ]
    },
    {
      "cell_type": "code",
      "metadata": {
        "id": "gKl-VgsP9hQn",
        "colab_type": "code",
        "colab": {}
      },
      "source": [
        "mu, sig = scaler.mean_ , scaler.scale_"
      ],
      "execution_count": 55,
      "outputs": []
    },
    {
      "cell_type": "code",
      "metadata": {
        "id": "73-bmQ9joasn",
        "colab_type": "code",
        "colab": {}
      },
      "source": [
        "\n",
        "def pre_process_file(filepath):\n",
        "  sound = AudioSegment.from_file(filepath, sample_rate_Hz=12000, \n",
        "                                 sample_width = 1, \n",
        "                                 channels = 1, \n",
        "                                 format = 'mp3')\n",
        "  sequence = np.array(sound.get_array_of_samples()[0:SNIPPETSIZE])\n",
        "  sequence_scaled = (sequence - mu) / sig\n",
        "  return sequence_scaled.reshape(1, 1, SNIPPETSIZE, 1)\n"
      ],
      "execution_count": 63,
      "outputs": []
    },
    {
      "cell_type": "code",
      "metadata": {
        "id": "ddSNfgQ2fcOU",
        "colab_type": "code",
        "colab": {}
      },
      "source": [
        "testfile = \"/content/drive/My Drive/AIExplorations/carnatic_ragas_data/new_processed_data/kharaharapriya/kharaharapriya02384.mp3\"\n",
        "\n",
        "test_sequence = pre_process_file(testfile)\n"
      ],
      "execution_count": 78,
      "outputs": []
    },
    {
      "cell_type": "code",
      "metadata": {
        "id": "c6GVozkffubD",
        "colab_type": "code",
        "colab": {
          "base_uri": "https://localhost:8080/",
          "height": 134
        },
        "outputId": "f988e578-a0bb-4412-eb63-80bb859f0f6d"
      },
      "source": [
        "test_sequence"
      ],
      "execution_count": 79,
      "outputs": [
        {
          "output_type": "execute_result",
          "data": {
            "text/plain": [
              "array([[[[ 0.        ],\n",
              "         [-0.03782347],\n",
              "         [ 0.03782347],\n",
              "         ...,\n",
              "         [ 0.25630168],\n",
              "         [ 0.647613  ],\n",
              "         [ 0.41364763]]]])"
            ]
          },
          "metadata": {
            "tags": []
          },
          "execution_count": 79
        }
      ]
    },
    {
      "cell_type": "code",
      "metadata": {
        "id": "bZ7ELYT5ghje",
        "colab_type": "code",
        "colab": {
          "base_uri": "https://localhost:8080/",
          "height": 50
        },
        "outputId": "c65627ee-8859-49c7-c5eb-8a6a7f271b5a"
      },
      "source": [
        "model.predict(test_sequence)"
      ],
      "execution_count": 80,
      "outputs": [
        {
          "output_type": "execute_result",
          "data": {
            "text/plain": [
              "array([[0.7244351 , 0.18001431, 0.00795369, 0.00973143, 0.04785529,\n",
              "        0.01211642, 0.01789375]], dtype=float32)"
            ]
          },
          "metadata": {
            "tags": []
          },
          "execution_count": 80
        }
      ]
    },
    {
      "cell_type": "code",
      "metadata": {
        "id": "DuCSH_h4gso7",
        "colab_type": "code",
        "colab": {
          "base_uri": "https://localhost:8080/",
          "height": 134
        },
        "outputId": "b71fd811-ef92-4167-ef29-d6661d32694d"
      },
      "source": [
        "raga_dict"
      ],
      "execution_count": 81,
      "outputs": [
        {
          "output_type": "execute_result",
          "data": {
            "text/plain": [
              "{'bhairavi': 3,\n",
              " 'kalyani': 2,\n",
              " 'kambhoji': 5,\n",
              " 'kharaharapriya': 0,\n",
              " 'shankarabharanam': 4,\n",
              " 'thodi': 6,\n",
              " 'varali': 1}"
            ]
          },
          "metadata": {
            "tags": []
          },
          "execution_count": 81
        }
      ]
    },
    {
      "cell_type": "code",
      "metadata": {
        "id": "ApaTuCzBg35j",
        "colab_type": "code",
        "colab": {}
      },
      "source": [
        ""
      ],
      "execution_count": null,
      "outputs": []
    }
  ]
}