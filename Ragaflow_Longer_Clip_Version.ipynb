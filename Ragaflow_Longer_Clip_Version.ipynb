{
  "nbformat": 4,
  "nbformat_minor": 0,
  "metadata": {
    "kernelspec": {
      "display_name": "Python 3",
      "language": "python",
      "name": "python3"
    },
    "language_info": {
      "codemirror_mode": {
        "name": "ipython",
        "version": 3
      },
      "file_extension": ".py",
      "mimetype": "text/x-python",
      "name": "python",
      "nbconvert_exporter": "python",
      "pygments_lexer": "ipython3",
      "version": "3.7.6"
    },
    "colab": {
      "name": "Ragaflow - Longer Clip Version",
      "provenance": [],
      "collapsed_sections": [],
      "include_colab_link": true
    },
    "accelerator": "GPU"
  },
  "cells": [
    {
      "cell_type": "markdown",
      "metadata": {
        "id": "view-in-github",
        "colab_type": "text"
      },
      "source": [
        "<a href=\"https://colab.research.google.com/github/aiexplorations/RagaExperiments/blob/master/Ragaflow_Longer_Clip_Version.ipynb\" target=\"_parent\"><img src=\"https://colab.research.google.com/assets/colab-badge.svg\" alt=\"Open In Colab\"/></a>"
      ]
    },
    {
      "cell_type": "markdown",
      "metadata": {
        "id": "qoizquEf72GL",
        "colab_type": "text"
      },
      "source": [
        "# RagaFlow: Classifying Carnatic Music Ragas using Deep Neural Networks\n",
        "\n",
        "Prepared by: Rajesh Sampathkumar (@aiexplorations)\n",
        "\n",
        "Note: this is identical to the ragaflow model built earlier, the only difference being that here the model is trained on decidedly longer clips. The expectation from this experiment is that we can understand the impact of more detailed and longer clips on the quality of the model.\n",
        "\n",
        "Carnatic music is a form of Indian music, specifically from South India. It features complex patterns of scales starting from the 72 cardinal \"parent\" scales, to the many hundreds of derived \"janya\" scales, all of which are liberally used in musical compositions in and of themselves, or in combinations within the same composition. These scales are called ragas, and very often, a raga isn't just a scale, but a complex combination of scales, how to use the notes on the scale, what kinds of transition notes between scales can be played, and so on.\n",
        "\n",
        "In this notebook, I intend to explore how deep learning techniques, combined with some audio signal processing techniques, can help us identify these ragas. \n",
        "\n",
        "The data we use here comes from Sangeethapriya.org, so I'd like to thank them for the data they've made available for listeners. Essentially, clips of tracks by eminent artists (hosted on Sangeethapriya) were taken and processed into short, 5 second segments.\n",
        "\n",
        "Some quick notes:\n",
        "\n",
        "1. In Carnatic music, compositions are generally rendered in a specific ragam\n",
        "2. Practitioners of this form of music may render the raga at any starting pitch - generally a lot of the voices hover around the C, C# and D notes \n",
        "3. Violin accompaniment is common in this form of music - specifically, there is a drone accompaniment to the voice which is considered the leading melody in the music.\n",
        "4. There is no concept of harmony as such in Carnatic music. There is a concept of vivadam (which could be roughly translated to dissonance). However, this is a characteristic of a scale itself, and not a specific performance.\n",
        "5. Long stretches of a Carnatic music concert may be given up to just the percussion instruments. For example, a mridangam (a pitched drum) or a ghatam (a musical instrument very similar to a pot) are used extensively in Carnatic music concerts.\n",
        "6. Generally, rhythm complexity in Carnatic music is high. There are incredible and complex, almost-fractal patterns of beats used in some of the complex songs.Rhythm in Carnatic music is generally called *talam* - we won't dwell on it in this analysis, since we're concerned with the melody - mainly determined by the ragam (raga).\n",
        "\n",
        "\n",
        "These short tracks are then processed as input data, and machine learning models are built on top of this data.\n",
        "\n",
        "Some notes of value to those going through this code:\n",
        "\n",
        "1. Extensive signal analysis of the audio of the songs has not been done. I've just left in the typical noises, clicks, pops, and other kinds of variations in the data that you generally see - mainly because we humans can recognize ragas despite this, and I was just curious about what the model could learn.\n",
        "2. Accounting for silences, mridangam (a kind of Indian pitched drum used in Carnatic music), violin drones or tanpura drones (which generally are used to accompany an artist\n",
        "3. No specific differentiation between vocal and instrumental tracks has been made for the purpose of this analysis. The dataset contains both vocal and instrumental tracks - and perhaps this is for the better (I don't know for sure).\n",
        "4. I've not done additional processing on the sound data apart from sampling in the data at different rates (here, I've used 12 kHz. Perhaps it is possible to use a different sampling rate to solve this problem too.\n",
        "5. I experimented with a bunch of different models, and LSTMs are notoriously difficult to stabilize when you have smaller amounts of data. They do get better as you increase data volumes and tread carefully on regularization, dropout and such randomization hyperparameters. This is something I'm still exploring.\n",
        "\n"
      ]
    },
    {
      "cell_type": "code",
      "metadata": {
        "id": "9bY5oXbG4ll9",
        "colab_type": "code",
        "colab": {
          "base_uri": "https://localhost:8080/",
          "height": 34
        },
        "outputId": "bcfaeb04-da25-4880-f4b8-7fe38208a52d"
      },
      "source": [
        "  # PyDub is a nice library for audio processing, which includes the AudioSegment class.\n",
        "  # AudioSegment is used to read and segment different music files (with potentially different encodings, rates, etc) and bring them in as lists\n",
        "  # These lists are then converted to numpy arrays that are then used to prepare the data for training.\n",
        "  \n",
        "  !pip install pydub"
      ],
      "execution_count": 1,
      "outputs": [
        {
          "output_type": "stream",
          "text": [
            "Requirement already satisfied: pydub in /usr/local/lib/python3.6/dist-packages (0.24.1)\n"
          ],
          "name": "stdout"
        }
      ]
    },
    {
      "cell_type": "code",
      "metadata": {
        "id": "wpjWDALP3ucy",
        "colab_type": "code",
        "colab": {
          "base_uri": "https://localhost:8080/",
          "height": 34
        },
        "outputId": "529a7d95-d970-4c63-fb5c-854a5f087c6e"
      },
      "source": [
        "# Here we bring in the data from a Google Drive directory, using the glob package, and the google package - \n",
        "# The 'drive' class within the colab module allows us to mount folders and make the files available within Jupyter\n",
        "\n",
        "import glob\n",
        "\n",
        "# Importing drive method from colab for accessing google drive\n",
        "from google.colab import drive\n",
        "\n",
        "drive.mount('/content/drive')\n",
        "\n",
        "\n",
        "data_files = glob.glob(\"/content/drive/My Drive/AIExplorations/carnatic_ragas_data/\")"
      ],
      "execution_count": 2,
      "outputs": [
        {
          "output_type": "stream",
          "text": [
            "Drive already mounted at /content/drive; to attempt to forcibly remount, call drive.mount(\"/content/drive\", force_remount=True).\n"
          ],
          "name": "stdout"
        }
      ]
    },
    {
      "cell_type": "code",
      "metadata": {
        "id": "4Wj_hwc9jbbm",
        "colab_type": "code",
        "colab": {
          "base_uri": "https://localhost:8080/",
          "height": 34
        },
        "outputId": "bb251443-f1f1-448f-d009-0a1fc33c885f"
      },
      "source": [
        "! ls '/content/drive/My Drive/AIExplorations/carnatic_ragas_data/raw_data/'"
      ],
      "execution_count": 3,
      "outputs": [
        {
          "output_type": "stream",
          "text": [
            "bhairavi  kalyani  kambhoji  kharaharapriya  shankarabharanam  thodi  varali\n"
          ],
          "name": "stdout"
        }
      ]
    },
    {
      "cell_type": "markdown",
      "metadata": {
        "id": "WXT5EUuiAEvL",
        "colab_type": "text"
      },
      "source": [
        "# The Seven Main Ragas\n",
        "\n",
        "Though Carnatic music is known to have hundreds of distinct ragas, each with a unique sound (or \"colour\" as ragas are described to be analogous with different colours ... which kind of makes sense from a signal processing perspective), the most commonly performed ragas, also called the \"main\" ragas of Carnatic music are the following:\n",
        "\n",
        "1. Shankarabharanam - often associated with the major scale of Western Classical music\n",
        "2. Kalyani - Similar to Shankarabharanam notes-wise, just one note apart technically, but that one note makes a huge difference to the sound and feel of this raga\n",
        "3. Kambhoji - an uplifting, asymmetrical ragam with different sets of notes during the ascending and descending phases of the raga\n",
        "4. Thodi - An austere and grim-sounding raga with a deeply Indian vibe.\n",
        "5. Varali - A variation on the Thodi raga, subtle, austere and grim\n",
        "6. Bhairavi - An asymmetric raga that is closer to the Dorian or minor scales of Western music but again, uniquely Indian in flavour\n",
        "7. Kharaharapriya - the Indian counterpart of the Greek Dorian mode (with extensive character of its own)\n",
        "\n",
        "I'm not a musician outside of some guitar and although a Carnatic music aficionado, I wouldn't be qualified to write in depth about these ragas. However, I love the music and this problem of being able to understand musical notes through deep learning.\n",
        "\n",
        "The data for each of these ragas is stored in a separate folder named for the raga.\n"
      ]
    },
    {
      "cell_type": "code",
      "metadata": {
        "id": "9VRkiGmp343A",
        "colab_type": "code",
        "colab": {
          "base_uri": "https://localhost:8080/",
          "height": 34
        },
        "outputId": "79a61427-0605-4d8a-addf-395ed323f6e0"
      },
      "source": [
        "# Running a shell command to check the folders available with raga names associated with them - these are the seven \"main\" ragas of Carnatic music.\n",
        "\n",
        "!ls \"/content/drive/My Drive/AIExplorations/carnatic_ragas_data/raw_data\""
      ],
      "execution_count": 4,
      "outputs": [
        {
          "output_type": "stream",
          "text": [
            "bhairavi  kalyani  kambhoji  kharaharapriya  shankarabharanam  thodi  varali\n"
          ],
          "name": "stdout"
        }
      ]
    },
    {
      "cell_type": "code",
      "metadata": {
        "id": "2CPJtsYR3keZ",
        "colab_type": "code",
        "colab": {}
      },
      "source": [
        "import numpy as np\n",
        "from pydub import AudioSegment\n",
        "import matplotlib.pyplot as plt\n",
        "import os\n",
        "import tensorflow as tf\n",
        "import pandas as pd\n",
        "from pickle import load, dump"
      ],
      "execution_count": 5,
      "outputs": []
    },
    {
      "cell_type": "code",
      "metadata": {
        "id": "nr4jrbur3ked",
        "colab_type": "code",
        "colab": {
          "base_uri": "https://localhost:8080/",
          "height": 136
        },
        "outputId": "c99b4317-3f53-4bcc-acf9-c5883d99e8d9"
      },
      "source": [
        "basepath = \"/content/drive/My Drive/AIExplorations/carnatic_ragas_data/raw_data\"\n",
        "ragas = []\n",
        "for entry in os.listdir(basepath):\n",
        "    if os.path.isdir(os.path.join(basepath, entry)):\n",
        "        print(entry)\n",
        "        ragas.append(entry)\n"
      ],
      "execution_count": 6,
      "outputs": [
        {
          "output_type": "stream",
          "text": [
            "kambhoji\n",
            "bhairavi\n",
            "thodi\n",
            "varali\n",
            "kalyani\n",
            "kharaharapriya\n",
            "shankarabharanam\n"
          ],
          "name": "stdout"
        }
      ]
    },
    {
      "cell_type": "markdown",
      "metadata": {
        "id": "dyJKN9gfDXng",
        "colab_type": "text"
      },
      "source": [
        "# Extracting and Preparing the Data\n",
        "\n",
        "We've brought in the data from Drive into this notebook, and now we bring it into a Numpy array to enable further processing and machine learning.\n",
        "\n",
        "Below, I've used the native Python functions from the `os` library to read in these MP3s, and then process them with the AudioSegment() function from PyDub.\n",
        "\n",
        "Note that I've used a lower sampling rate, and that this is 1-channel audio data.\n",
        "\n",
        "I have also used the `pad_sequences()` function from Keras' preprocessing APIs, to build up zero-padded sequences from the music. \n",
        "\n",
        "Since each file is a 5 second long clip, the NUMFILES and SNIPPETSIZE variables control how many files are read, and what size of segment is taken from the array that has been brought into the runtime as an array.\n",
        "\n",
        "*NOTE*: This step takes significant amounts of time, depending on how many files you're bringing in, and the snippet size. If you just want to run the model first, tweak those numbers to small values so that you can see faster performance. I used the GPU runtime on Colab, and it was slow even then (assuming it actually used the GPU for this process)."
      ]
    },
    {
      "cell_type": "code",
      "metadata": {
        "id": "qjVAF8lL3keg",
        "colab_type": "code",
        "colab": {
          "base_uri": "https://localhost:8080/",
          "height": 136
        },
        "outputId": "1a4e80ca-9e51-4cbf-c482-0d29b5009487"
      },
      "source": [
        "dataset = {}\n",
        "NUMFILES = 50\n",
        "SNIPPETSIZE = 1000000\n",
        "for raga in ragas:\n",
        "    #sequence list in which to store all the sequences from each file\n",
        "    sequence_list = []\n",
        "    files = os.listdir(os.path.join(basepath, raga))\n",
        "    print(\"Processing files for raga \",raga, \"...\")\n",
        "    for file in files[0:NUMFILES]: \n",
        "        filename = os.path.join(basepath, raga, file)\n",
        "        sound = AudioSegment.from_file(filename, sample_rate_Hz=12000, sample_width = 1, channels = 1, format = 'mp3')\n",
        "        sequence_list.append(sound.get_array_of_samples()[0:SNIPPETSIZE])\n",
        "    padded_sequence = tf.keras.preprocessing.sequence.pad_sequences(sequence_list)\n",
        "    dataset[raga] = padded_sequence"
      ],
      "execution_count": 7,
      "outputs": [
        {
          "output_type": "stream",
          "text": [
            "Processing files for raga  kambhoji ...\n",
            "Processing files for raga  bhairavi ...\n",
            "Processing files for raga  thodi ...\n",
            "Processing files for raga  varali ...\n",
            "Processing files for raga  kalyani ...\n",
            "Processing files for raga  kharaharapriya ...\n",
            "Processing files for raga  shankarabharanam ...\n"
          ],
          "name": "stdout"
        }
      ]
    },
    {
      "cell_type": "code",
      "metadata": {
        "id": "s5UjzJtXFT1W",
        "colab_type": "code",
        "colab": {}
      },
      "source": [
        "n_records = len(dataset)*NUMFILES # We compute the number of records in the overall (training + test) data \n",
        "raga_dict = {value: idx for idx, value in enumerate(ragas)} # Construct a dictionary with unique values assigned to each raga name"
      ],
      "execution_count": 8,
      "outputs": []
    },
    {
      "cell_type": "code",
      "metadata": {
        "id": "VZ0P9JmY5rbG",
        "colab_type": "code",
        "colab": {
          "base_uri": "https://localhost:8080/",
          "height": 136
        },
        "outputId": "2f55bdff-3a79-4093-d321-8a91c7a9a2bc"
      },
      "source": [
        "raga_dict"
      ],
      "execution_count": 9,
      "outputs": [
        {
          "output_type": "execute_result",
          "data": {
            "text/plain": [
              "{'bhairavi': 1,\n",
              " 'kalyani': 4,\n",
              " 'kambhoji': 0,\n",
              " 'kharaharapriya': 5,\n",
              " 'shankarabharanam': 6,\n",
              " 'thodi': 2,\n",
              " 'varali': 3}"
            ]
          },
          "metadata": {
            "tags": []
          },
          "execution_count": 9
        }
      ]
    },
    {
      "cell_type": "markdown",
      "metadata": {
        "id": "7AbIBgBIFFz7",
        "colab_type": "text"
      },
      "source": [
        "# Training Data and Labels as a Numpy Array\n",
        "\n",
        "We pad each row of the `dataset` dictionary (which contains key-value pairs of ragas and the associated raga snippet to arrive at consistent lengths for each of the snippets, and then prepare a data set which can be used for training and testing.\n",
        "\n",
        "We also prepare the labels for each snippet - we're building a supervised classification model here, and so the labels are essential.\n",
        "\n",
        "Note that we reshaped the `prepared_data` with the target shape (`n_records`, `SNIPPETSIZE`, 1) - this is essential because we're going to be feeding the data into our model in batches, and the shape of the model should allow this."
      ]
    },
    {
      "cell_type": "code",
      "metadata": {
        "id": "QRISxxHdOsKQ",
        "colab_type": "code",
        "colab": {}
      },
      "source": [
        "prepared_data = []\n",
        "prepared_labels = []\n",
        "\n",
        "for key, value in dataset.items():\n",
        "  for row in value:\n",
        "    if len(row) < SNIPPETSIZE:\n",
        "      t = SNIPPETSIZE - len(row)\n",
        "      row = np.pad(row, (0,t), \"constant\") #padding logic to solve the problem of different sequence lengths\n",
        "    prepared_data.append(row)\n",
        "    prepared_labels.append(raga_dict[key])\n",
        "prepared_data = np.vstack(prepared_data)\n",
        "prepared_labels = np.stack(prepared_labels)"
      ],
      "execution_count": 10,
      "outputs": []
    },
    {
      "cell_type": "code",
      "metadata": {
        "id": "1UWH_4eo2uY-",
        "colab_type": "code",
        "colab": {
          "base_uri": "https://localhost:8080/",
          "height": 34
        },
        "outputId": "081e8cad-3154-451f-8e01-c71b604396ca"
      },
      "source": [
        "from sklearn.preprocessing import StandardScaler\n",
        "scaler = StandardScaler()\n",
        "scaler.fit(prepared_data)"
      ],
      "execution_count": 11,
      "outputs": [
        {
          "output_type": "execute_result",
          "data": {
            "text/plain": [
              "StandardScaler(copy=True, with_mean=True, with_std=True)"
            ]
          },
          "metadata": {
            "tags": []
          },
          "execution_count": 11
        }
      ]
    },
    {
      "cell_type": "code",
      "metadata": {
        "id": "UY9YmdYg1TK8",
        "colab_type": "code",
        "colab": {}
      },
      "source": [
        "dump(scaler, open(\"/content/drive/My Drive/AIExplorations/carnatic_ragas_data/new_processed_data/scaler.pkl\", \"wb\"))"
      ],
      "execution_count": 12,
      "outputs": []
    },
    {
      "cell_type": "markdown",
      "metadata": {
        "id": "Vxt3tq7jFr9V",
        "colab_type": "text"
      },
      "source": [
        "We have prepared a scaler, fit it to the dataset and saved the scaler for future use.\n",
        "\n",
        "A quick check reveals the shapes of the `prepared_data` and `prepared_labels`. \n",
        "\n",
        "1. We see that there are many examples of data, from which we can build training and testing sets. \n",
        "\n",
        "2. Each of these examples is an audio snippet that is a certain number of timesteps long (a timestep in this case represents a fraction of a second from the 5 second clip). \n",
        "\n",
        "3. There is one label for each of the audio snippets."
      ]
    },
    {
      "cell_type": "code",
      "metadata": {
        "id": "zd-VxIR5Jumk",
        "colab_type": "code",
        "colab": {
          "base_uri": "https://localhost:8080/",
          "height": 34
        },
        "outputId": "c5de2cf6-0a1e-46b9-8d09-52dbbd5ea551"
      },
      "source": [
        "prepared_data.shape, prepared_labels.shape"
      ],
      "execution_count": 13,
      "outputs": [
        {
          "output_type": "execute_result",
          "data": {
            "text/plain": [
              "((350, 1000000), (350,))"
            ]
          },
          "metadata": {
            "tags": []
          },
          "execution_count": 13
        }
      ]
    },
    {
      "cell_type": "markdown",
      "metadata": {
        "id": "SpSEGMv65hP0",
        "colab_type": "text"
      },
      "source": [
        "# Optional - Numpy Array Save to Disk"
      ]
    },
    {
      "cell_type": "code",
      "metadata": {
        "id": "_dk86CIg4lPe",
        "colab_type": "code",
        "colab": {}
      },
      "source": [
        "np.save(\"/content/drive/My Drive/AIExplorations/carnatic_ragas_data/new_processed_data/prepared_data_50_1m.npy\",\n",
        "        prepared_data)"
      ],
      "execution_count": 14,
      "outputs": []
    },
    {
      "cell_type": "markdown",
      "metadata": {
        "id": "rBUyzsb1F4tz",
        "colab_type": "text"
      },
      "source": [
        "Above, we have saved the numpy array of the prepared data, just to speed things up in case Colab quits on us. I found saving and reading from disk helpful at this stage, this is optional if you don't have such issues.\n",
        "\n",
        "The `prepared_labels` ought to contain one code for each of the 7 ragas in the list of input ragas we saw earlier."
      ]
    },
    {
      "cell_type": "code",
      "metadata": {
        "id": "vgko8zmaJ_nx",
        "colab_type": "code",
        "colab": {
          "base_uri": "https://localhost:8080/",
          "height": 34
        },
        "outputId": "462f345a-e134-4386-a691-3b7b710f78a0"
      },
      "source": [
        "set(prepared_labels)"
      ],
      "execution_count": 15,
      "outputs": [
        {
          "output_type": "execute_result",
          "data": {
            "text/plain": [
              "{0, 1, 2, 3, 4, 5, 6}"
            ]
          },
          "metadata": {
            "tags": []
          },
          "execution_count": 15
        }
      ]
    },
    {
      "cell_type": "markdown",
      "metadata": {
        "id": "0u_vw70qGfbu",
        "colab_type": "text"
      },
      "source": [
        "We build up a couple of variables to parametrize the model. The sequence size (as we saw above) and the number of inputs (records) are shown here."
      ]
    },
    {
      "cell_type": "code",
      "metadata": {
        "id": "CaX_TeoVTOSw",
        "colab_type": "code",
        "colab": {}
      },
      "source": [
        "seq_size, n_input = prepared_data[0].shape[0], len(prepared_data)"
      ],
      "execution_count": 16,
      "outputs": []
    },
    {
      "cell_type": "markdown",
      "metadata": {
        "id": "huFQvzIcG7o4",
        "colab_type": "text"
      },
      "source": [
        "# Optional : One Hot Encoding\n",
        "\n",
        "While I have not actually used the result from this step, it can be valuable if you're training your model differently. Specifically, if you're using a Sparse matrix to represent the labels (one-hot form) you will have to specify 'sparse_categorical_crossentropy' as your loss function."
      ]
    },
    {
      "cell_type": "code",
      "metadata": {
        "id": "XvDOTRvSchWj",
        "colab_type": "code",
        "colab": {
          "base_uri": "https://localhost:8080/",
          "height": 34
        },
        "outputId": "8d380e47-69f9-4c02-84ef-47118d26644e"
      },
      "source": [
        "from keras.utils.np_utils import to_categorical   \n",
        "\n",
        "categorical_labels = to_categorical(prepared_labels, num_classes=len(set(prepared_labels)))"
      ],
      "execution_count": 17,
      "outputs": [
        {
          "output_type": "stream",
          "text": [
            "Using TensorFlow backend.\n"
          ],
          "name": "stderr"
        }
      ]
    },
    {
      "cell_type": "markdown",
      "metadata": {
        "id": "fQnXY8ePHPOL",
        "colab_type": "text"
      },
      "source": [
        "# Key Keras Imports\n",
        "\n",
        "Since we're building a `Sequential()` model in Keras that is a hybrid deep neural network, we require the LSTM, TimeDistributed, Conv1D layers. We also import other common layers, losses and helper functions for regularization and preprocessing."
      ]
    },
    {
      "cell_type": "code",
      "metadata": {
        "id": "w0kp4V0gb985",
        "colab_type": "code",
        "colab": {}
      },
      "source": [
        "from keras.models import Sequential\n",
        "from keras.layers import LSTM, Dense, Dropout, BatchNormalization, Flatten, TimeDistributed, Conv1D, MaxPooling1D\n",
        "from keras.losses import categorical_crossentropy\n",
        "from keras.optimizers import Adam\n",
        "from keras.regularizers import l1_l2\n",
        "from sklearn.model_selection import train_test_split\n"
      ],
      "execution_count": 18,
      "outputs": []
    },
    {
      "cell_type": "markdown",
      "metadata": {
        "id": "4NpH490_Hjfh",
        "colab_type": "text"
      },
      "source": [
        "It is customary to use holding cross validation for building models for such problems and I've done the same here. Equally, we could approach this using k-fold cross validation, with any number of folds of your choice. \n",
        "\n",
        "Here I've just set aside 30% of the data for testing purposes. Note that I've converted the labels list to a Numpy array, for ease of feeding into the model."
      ]
    },
    {
      "cell_type": "code",
      "metadata": {
        "id": "0jDpsmpMcJe0",
        "colab_type": "code",
        "colab": {}
      },
      "source": [
        "train_x, test_x, train_y, test_y = train_test_split(prepared_data, np.array(prepared_labels), test_size = 0.3 )"
      ],
      "execution_count": 19,
      "outputs": []
    },
    {
      "cell_type": "code",
      "metadata": {
        "id": "F9arD_1O3KFt",
        "colab_type": "code",
        "colab": {}
      },
      "source": [
        "train_x_sc = scaler.transform(train_x).reshape(train_x.shape[0], SNIPPETSIZE, 1)\n",
        "test_x_sc = scaler.transform(test_x).reshape(test_x.shape[0], SNIPPETSIZE, 1)"
      ],
      "execution_count": 20,
      "outputs": []
    },
    {
      "cell_type": "markdown",
      "metadata": {
        "id": "v_a8IeXDH74p",
        "colab_type": "text"
      },
      "source": [
        "A quick check reveals the shapes of the prepared training and test data, before and after scaling and reshaping.\n",
        "\n",
        "The reshaping is necessary to ensure that we feed the raga sequence data to the model in batches."
      ]
    },
    {
      "cell_type": "code",
      "metadata": {
        "id": "ygoWz_7IDMrp",
        "colab_type": "code",
        "colab": {
          "base_uri": "https://localhost:8080/",
          "height": 34
        },
        "outputId": "ef55e948-bf4c-4067-e07c-7a01887243b6"
      },
      "source": [
        "train_x.shape, train_y.shape, test_x.shape, test_y.shape"
      ],
      "execution_count": 21,
      "outputs": [
        {
          "output_type": "execute_result",
          "data": {
            "text/plain": [
              "((245, 1000000), (245,), (105, 1000000), (105,))"
            ]
          },
          "metadata": {
            "tags": []
          },
          "execution_count": 21
        }
      ]
    },
    {
      "cell_type": "code",
      "metadata": {
        "id": "PCmTVkaI4AKf",
        "colab_type": "code",
        "colab": {
          "base_uri": "https://localhost:8080/",
          "height": 34
        },
        "outputId": "9d6af02c-2dfc-4a26-d812-61afc0faf5f9"
      },
      "source": [
        "train_x_sc.shape, test_x_sc.shape"
      ],
      "execution_count": 22,
      "outputs": [
        {
          "output_type": "execute_result",
          "data": {
            "text/plain": [
              "((245, 1000000, 1), (105, 1000000, 1))"
            ]
          },
          "metadata": {
            "tags": []
          },
          "execution_count": 22
        }
      ]
    },
    {
      "cell_type": "markdown",
      "metadata": {
        "id": "9RBuFy42IWJ-",
        "colab_type": "text"
      },
      "source": [
        "# Common Hyperparameters\n",
        "\n",
        "1. We're setting common hyperparameters in this section to ensure we can control the training process closely. For purposes of simplicity, we control hidden layer count and number of LSTM units from here. Equally, we could custom-build our models by feeding these numbers in where needed.\n",
        "\n",
        "2. Note that ConvNet filter size and other parameters are controlled directly from the model and are not parametrized here.\n",
        "\n",
        "3. We also specify learning rates, dropout and learning rate decay here. Potentially, we could control these elements if we use a custom Adam() optimizer."
      ]
    },
    {
      "cell_type": "code",
      "metadata": {
        "id": "-kLfKPJpb-mh",
        "colab_type": "code",
        "colab": {}
      },
      "source": [
        "batchsize = 16\n",
        "epochs = 50\n",
        "n_units = 32\n",
        "n_hidden = 32\n",
        "lr = 1e-3\n",
        "decay = 0.1 * lr\n",
        "dropout_pc = 0.05\n",
        "l1, l2 = 0.01, 0.1\n",
        "n_classes = len(set(train_y)) # We set the number of classes in the network based on the classes present in the training data."
      ],
      "execution_count": 23,
      "outputs": []
    },
    {
      "cell_type": "markdown",
      "metadata": {
        "id": "lZkzJGO8JB5O",
        "colab_type": "text"
      },
      "source": [
        "Observe that we can add multiple ragas to these folders in future and have the model build here as per parametrization above."
      ]
    },
    {
      "cell_type": "code",
      "metadata": {
        "id": "AmaY8T01dZMO",
        "colab_type": "code",
        "colab": {}
      },
      "source": [
        "model = Sequential([\n",
        "    TimeDistributed(Conv1D(filters = 200, kernel_size = 500, padding = 'same', activation = 'relu', strides=8), \n",
        "                    batch_input_shape = (None, 1, seq_size, 1) ),\n",
        "    TimeDistributed(MaxPooling1D(pool_size=200)),\n",
        "    TimeDistributed(Conv1D(filters = 100, kernel_size = 100, padding = 'valid', activation = 'relu', strides=4)),\n",
        "    TimeDistributed(BatchNormalization()),\n",
        "    TimeDistributed(MaxPooling1D(pool_size=50)),\n",
        "    TimeDistributed(Flatten()),\n",
        "    LSTM(units = 128, activation = \"relu\", kernel_regularizer = l1_l2(l1, l2), \n",
        "         input_shape = (seq_size, 1), return_sequences = True),\n",
        "    Dense(512, activation = \"relu\"),\n",
        "    LSTM(units = 64, activation = \"relu\", kernel_regularizer = l1_l2(l1, l2), \n",
        "         dropout = dropout_pc, return_sequences = False),\n",
        "    Dense(256, activation = \"relu\"),\n",
        "    BatchNormalization(),\n",
        "    Dense(128, activation = \"relu\"),\n",
        "    BatchNormalization(),\n",
        "    Dense(64, activation = \"relu\"),\n",
        "    Dropout(dropout_pc),\n",
        "    Dense(n_classes, activation = \"softmax\")\n",
        "    ])"
      ],
      "execution_count": 29,
      "outputs": []
    },
    {
      "cell_type": "markdown",
      "metadata": {
        "id": "cpbcImiRJIp6",
        "colab_type": "text"
      },
      "source": [
        "# Model Architecture\n",
        "\n",
        "The model architecture here is a CNN-LSTM hybrid network with the following features:\n",
        "\n",
        "1. Two `Conv1D()`  layers to learn patterns of variation in the input signal and patterns of patterns thereof. Filters, striding and kernel sizes can be tweaked as needed.\n",
        "2. `TimeDistributed()` layers for feeding the above `Conv1D()` layers, along with `BatchNormalization()` and `MaxPooling1D()` layers.\n",
        "3. Two `LSTM()` layers that receive segments of the Conv1D data in sequence and learn these sequences.\n",
        "4. `BatchNormalization()` layers to ensure there are no gradient related issues\n",
        "5. `Dropout()` regularization. Note that we have used Elastic Net (`l1_l2()`) regularization in the `LSTM()` layers\n",
        "6. `Dense()` layer with `softmax` activation for multi-class classification as the final layer.\n",
        "\n",
        "Potentially, we could tweak the number of dense layers, the number of LSTM() layers and the BatchNormalization() layers to adjust performance.\n",
        "\n",
        "## Batch Input\n",
        "\n",
        "Note that the model receives input as a batch via the `TimeDistributed()` layer - this requires us to feed in the right shape of data, and specify the `batch_input_size` parameter accordingly."
      ]
    },
    {
      "cell_type": "code",
      "metadata": {
        "id": "dKbXIsFuRcKr",
        "colab_type": "code",
        "colab": {}
      },
      "source": [
        "adam_opt = tf.keras.optimizers.Adam(\n",
        "    learning_rate=0.0001,\n",
        "    beta_1=0.9,\n",
        "    beta_2=0.999,\n",
        "    epsilon=1e-05,\n",
        "    amsgrad=False,\n",
        "    name=\"Adam\"\n",
        ")"
      ],
      "execution_count": 43,
      "outputs": []
    },
    {
      "cell_type": "code",
      "metadata": {
        "id": "2RWhry_gdgDH",
        "colab_type": "code",
        "colab": {
          "base_uri": "https://localhost:8080/",
          "height": 714
        },
        "outputId": "dc415cd1-c0cd-460e-b897-b217a494f63f"
      },
      "source": [
        "model.compile(optimizer = adam_opt, loss= 'sparse_categorical_crossentropy', metrics= ['acc'])\n",
        "print(model.summary())"
      ],
      "execution_count": 44,
      "outputs": [
        {
          "output_type": "stream",
          "text": [
            "Model: \"sequential_5\"\n",
            "_________________________________________________________________\n",
            "Layer (type)                 Output Shape              Param #   \n",
            "=================================================================\n",
            "time_distributed_25 (TimeDis (None, 1, 125000, 200)    100200    \n",
            "_________________________________________________________________\n",
            "time_distributed_26 (TimeDis (None, 1, 625, 200)       0         \n",
            "_________________________________________________________________\n",
            "time_distributed_27 (TimeDis (None, 1, 132, 100)       2000100   \n",
            "_________________________________________________________________\n",
            "time_distributed_28 (TimeDis (None, 1, 132, 100)       400       \n",
            "_________________________________________________________________\n",
            "time_distributed_29 (TimeDis (None, 1, 2, 100)         0         \n",
            "_________________________________________________________________\n",
            "time_distributed_30 (TimeDis (None, 1, 200)            0         \n",
            "_________________________________________________________________\n",
            "lstm_9 (LSTM)                (None, 1, 128)            168448    \n",
            "_________________________________________________________________\n",
            "dense_21 (Dense)             (None, 1, 512)            66048     \n",
            "_________________________________________________________________\n",
            "lstm_10 (LSTM)               (None, 64)                147712    \n",
            "_________________________________________________________________\n",
            "dense_22 (Dense)             (None, 256)               16640     \n",
            "_________________________________________________________________\n",
            "batch_normalization_14 (Batc (None, 256)               1024      \n",
            "_________________________________________________________________\n",
            "dense_23 (Dense)             (None, 128)               32896     \n",
            "_________________________________________________________________\n",
            "batch_normalization_15 (Batc (None, 128)               512       \n",
            "_________________________________________________________________\n",
            "dense_24 (Dense)             (None, 64)                8256      \n",
            "_________________________________________________________________\n",
            "dropout_5 (Dropout)          (None, 64)                0         \n",
            "_________________________________________________________________\n",
            "dense_25 (Dense)             (None, 7)                 455       \n",
            "=================================================================\n",
            "Total params: 2,542,691\n",
            "Trainable params: 2,541,723\n",
            "Non-trainable params: 968\n",
            "_________________________________________________________________\n",
            "None\n"
          ],
          "name": "stdout"
        }
      ]
    },
    {
      "cell_type": "code",
      "metadata": {
        "id": "dZ278ekRTtZ2",
        "colab_type": "code",
        "colab": {
          "base_uri": "https://localhost:8080/",
          "height": 34
        },
        "outputId": "3352fd35-fd85-4c0a-a40c-8cb8788ad994"
      },
      "source": [
        "len(train_x.reshape((train_x.shape[0], 1, train_x.shape[1], 1))), len(train_y)"
      ],
      "execution_count": 45,
      "outputs": [
        {
          "output_type": "execute_result",
          "data": {
            "text/plain": [
              "(245, 245)"
            ]
          },
          "metadata": {
            "tags": []
          },
          "execution_count": 45
        }
      ]
    },
    {
      "cell_type": "code",
      "metadata": {
        "id": "WNVtqM8nxUGF",
        "colab_type": "code",
        "colab": {}
      },
      "source": [
        "np.random.seed(456)"
      ],
      "execution_count": 46,
      "outputs": []
    },
    {
      "cell_type": "code",
      "metadata": {
        "id": "02DavIpDdiD7",
        "colab_type": "code",
        "colab": {
          "base_uri": "https://localhost:8080/",
          "height": 374
        },
        "outputId": "be339a6d-7b10-4c96-92a5-22fd20dde6a4"
      },
      "source": [
        "history = model.fit(x = train_x_sc.reshape((train_x_sc.shape[0], 1, train_x_sc.shape[1], 1)), \n",
        "                    y = train_y, \n",
        "                    batch_size= batchsize, \n",
        "                    epochs= 10, \n",
        "                    verbose= 1,\n",
        "                    validation_data=[test_x_sc.reshape((test_x_sc.shape[0], 1, test_x_sc.shape[1], 1)), test_y])"
      ],
      "execution_count": 47,
      "outputs": [
        {
          "output_type": "stream",
          "text": [
            "Train on 245 samples, validate on 105 samples\n",
            "Epoch 1/10\n",
            "245/245 [==============================] - 26s 104ms/step - loss: 0.5984 - acc: 0.9102 - val_loss: 0.6310 - val_acc: 0.8952\n",
            "Epoch 2/10\n",
            "245/245 [==============================] - 24s 98ms/step - loss: 0.4682 - acc: 0.9265 - val_loss: 0.5666 - val_acc: 0.9143\n",
            "Epoch 3/10\n",
            "245/245 [==============================] - 24s 98ms/step - loss: 0.3821 - acc: 0.9510 - val_loss: 0.5535 - val_acc: 0.9048\n",
            "Epoch 4/10\n",
            "245/245 [==============================] - 24s 97ms/step - loss: 0.3282 - acc: 0.9714 - val_loss: 0.5490 - val_acc: 0.9048\n",
            "Epoch 5/10\n",
            "245/245 [==============================] - 24s 97ms/step - loss: 0.3340 - acc: 0.9673 - val_loss: 0.5703 - val_acc: 0.8857\n",
            "Epoch 6/10\n",
            "245/245 [==============================] - 24s 97ms/step - loss: 0.3030 - acc: 0.9755 - val_loss: 0.6417 - val_acc: 0.8667\n",
            "Epoch 7/10\n",
            "245/245 [==============================] - 24s 97ms/step - loss: 0.3797 - acc: 0.9633 - val_loss: 0.6553 - val_acc: 0.8667\n",
            "Epoch 8/10\n",
            "245/245 [==============================] - 24s 97ms/step - loss: 0.3106 - acc: 0.9633 - val_loss: 0.4856 - val_acc: 0.9048\n",
            "Epoch 9/10\n",
            "245/245 [==============================] - 24s 97ms/step - loss: 0.3205 - acc: 0.9551 - val_loss: 0.4762 - val_acc: 0.8952\n",
            "Epoch 10/10\n",
            "245/245 [==============================] - 24s 97ms/step - loss: 0.3387 - acc: 0.9551 - val_loss: 0.5746 - val_acc: 0.8762\n"
          ],
          "name": "stdout"
        }
      ]
    },
    {
      "cell_type": "markdown",
      "metadata": {
        "id": "3pNurvcbePQz",
        "colab_type": "text"
      },
      "source": [
        "# Results\n",
        "\n",
        "We have arrived at a model which has trained to be upwards of 90% accuracy on the test set, after 100 epochs of training. Let's look at the accuracy and loss curves."
      ]
    },
    {
      "cell_type": "code",
      "metadata": {
        "id": "uGDT4nc1dovZ",
        "colab_type": "code",
        "colab": {
          "base_uri": "https://localhost:8080/",
          "height": 733
        },
        "outputId": "9b500531-2efa-40b1-ecae-e5eeec4eaeef"
      },
      "source": [
        "pd.DataFrame(history.history)[['acc', 'val_acc']].plot(figsize = (16,12), \n",
        "                                                       title = \"Raga Classification, Accuracy\")"
      ],
      "execution_count": 48,
      "outputs": [
        {
          "output_type": "execute_result",
          "data": {
            "text/plain": [
              "<matplotlib.axes._subplots.AxesSubplot at 0x7fb0c78ae6a0>"
            ]
          },
          "metadata": {
            "tags": []
          },
          "execution_count": 48
        },
        {
          "output_type": "display_data",
          "data": {
            "image/png": "[encoded data removed]",
            "text/plain": [
              "<Figure size 1152x864 with 1 Axes>"
            ]
          },
          "metadata": {
            "tags": [],
            "needs_background": "light"
          }
        }
      ]
    },
    {
      "cell_type": "code",
      "metadata": {
        "id": "9iBu2R9Mm7W1",
        "colab_type": "code",
        "colab": {
          "base_uri": "https://localhost:8080/",
          "height": 733
        },
        "outputId": "0df8d3e0-5d7d-4010-c873-14762eacc085"
      },
      "source": [
        "pd.DataFrame(history.history)[['loss', 'val_loss']].plot(figsize = (16,12), title = \"Raga Classification, Loss\")"
      ],
      "execution_count": 49,
      "outputs": [
        {
          "output_type": "execute_result",
          "data": {
            "text/plain": [
              "<matplotlib.axes._subplots.AxesSubplot at 0x7fb0c7b90f98>"
            ]
          },
          "metadata": {
            "tags": []
          },
          "execution_count": 49
        },
        {
          "output_type": "display_data",
          "data": {
            "image/png": "[encoded data removed]",
            "text/plain": [
              "<Figure size 1152x864 with 1 Axes>"
            ]
          },
          "metadata": {
            "tags": [],
            "needs_background": "light"
          }
        }
      ]
    },
    {
      "cell_type": "code",
      "metadata": {
        "id": "U6MpGtAK771n",
        "colab_type": "code",
        "colab": {
          "base_uri": "https://localhost:8080/",
          "height": 71
        },
        "outputId": "d8ea4844-398a-413b-f548-28f5bb696fca"
      },
      "source": [
        "model.save(\"/content/drive/My Drive/AIExplorations/carnatic_ragas_data/model_longclip.h5\")"
      ],
      "execution_count": 50,
      "outputs": [
        {
          "output_type": "stream",
          "text": [
            "/usr/local/lib/python3.6/dist-packages/keras/engine/saving.py:165: UserWarning: TensorFlow optimizers do not make it possible to access optimizer attributes or optimizer state after instantiation. As a result, we cannot save the optimizer as part of the model save file.You will have to compile your model again after loading it. Prefer using a Keras optimizer instead (see keras.io/optimizers).\n",
            "  'TensorFlow optimizers do not '\n"
          ],
          "name": "stderr"
        }
      ]
    },
    {
      "cell_type": "markdown",
      "metadata": {
        "id": "PaiRD9PxebRY",
        "colab_type": "text"
      },
      "source": [
        "# Trying the model out\n",
        "\n",
        "Below the model is being used to predict the class for a clip. We process the clip first, and then feed it to the `predict()` method in the model."
      ]
    },
    {
      "cell_type": "code",
      "metadata": {
        "id": "pacYda3JSU47",
        "colab_type": "code",
        "colab": {
          "base_uri": "https://localhost:8080/",
          "height": 34
        },
        "outputId": "3f44c372-2ebb-4248-d313-c4400b13c178"
      },
      "source": [
        "!ls \"/content/drive/My Drive/AIExplorations/carnatic_ragas_data/\""
      ],
      "execution_count": 51,
      "outputs": [
        {
          "output_type": "stream",
          "text": [
            "model.h5  model_longclip.h5  new_processed_data  raw_data\n"
          ],
          "name": "stdout"
        }
      ]
    },
    {
      "cell_type": "code",
      "metadata": {
        "id": "UR1pLgnf-9dY",
        "colab_type": "code",
        "colab": {
          "base_uri": "https://localhost:8080/",
          "height": 68
        },
        "outputId": "ca5f9753-085d-4110-940e-704aacd94fa8"
      },
      "source": [
        "model_loaded = tf.keras.models.load_model(\"/content/drive/My Drive/AIExplorations/carnatic_ragas_data/model_longclip.h5\")"
      ],
      "execution_count": 52,
      "outputs": [
        {
          "output_type": "stream",
          "text": [
            "WARNING:tensorflow:Layer lstm_9 will not use cuDNN kernel since it doesn't meet the cuDNN kernel criteria. It will use generic GPU kernel as fallback when running on GPU\n",
            "WARNING:tensorflow:Layer lstm_10 will not use cuDNN kernel since it doesn't meet the cuDNN kernel criteria. It will use generic GPU kernel as fallback when running on GPU\n",
            "WARNING:tensorflow:No training configuration found in the save file, so the model was *not* compiled. Compile it manually.\n"
          ],
          "name": "stdout"
        }
      ]
    },
    {
      "cell_type": "code",
      "metadata": {
        "id": "r582RIzs_TXY",
        "colab_type": "code",
        "colab": {
          "base_uri": "https://localhost:8080/",
          "height": 714
        },
        "outputId": "26cb8423-c4a8-43a3-a15a-d2f811c2a0b9"
      },
      "source": [
        "model_loaded.compile(optimizer = 'adam', loss= 'sparse_categorical_crossentropy', metrics= ['acc'])\n",
        "print(model_loaded.summary())"
      ],
      "execution_count": 53,
      "outputs": [
        {
          "output_type": "stream",
          "text": [
            "Model: \"sequential_5\"\n",
            "_________________________________________________________________\n",
            "Layer (type)                 Output Shape              Param #   \n",
            "=================================================================\n",
            "time_distributed_25 (TimeDis (None, 1, 125000, 200)    100200    \n",
            "_________________________________________________________________\n",
            "time_distributed_26 (TimeDis (None, 1, 625, 200)       0         \n",
            "_________________________________________________________________\n",
            "time_distributed_27 (TimeDis (None, 1, 132, 100)       2000100   \n",
            "_________________________________________________________________\n",
            "time_distributed_28 (TimeDis (None, 1, 132, 100)       400       \n",
            "_________________________________________________________________\n",
            "time_distributed_29 (TimeDis (None, 1, 2, 100)         0         \n",
            "_________________________________________________________________\n",
            "time_distributed_30 (TimeDis (None, 1, 200)            0         \n",
            "_________________________________________________________________\n",
            "lstm_9 (LSTM)                (None, 1, 128)            168448    \n",
            "_________________________________________________________________\n",
            "dense_21 (Dense)             (None, 1, 512)            66048     \n",
            "_________________________________________________________________\n",
            "lstm_10 (LSTM)               (None, 64)                147712    \n",
            "_________________________________________________________________\n",
            "dense_22 (Dense)             (None, 256)               16640     \n",
            "_________________________________________________________________\n",
            "batch_normalization_14 (Batc (None, 256)               1024      \n",
            "_________________________________________________________________\n",
            "dense_23 (Dense)             (None, 128)               32896     \n",
            "_________________________________________________________________\n",
            "batch_normalization_15 (Batc (None, 128)               512       \n",
            "_________________________________________________________________\n",
            "dense_24 (Dense)             (None, 64)                8256      \n",
            "_________________________________________________________________\n",
            "dropout_5 (Dropout)          (None, 64)                0         \n",
            "_________________________________________________________________\n",
            "dense_25 (Dense)             (None, 7)                 455       \n",
            "=================================================================\n",
            "Total params: 2,542,691\n",
            "Trainable params: 2,541,723\n",
            "Non-trainable params: 968\n",
            "_________________________________________________________________\n",
            "None\n"
          ],
          "name": "stdout"
        }
      ]
    },
    {
      "cell_type": "markdown",
      "metadata": {
        "id": "EsjIXW2vDi9h",
        "colab_type": "text"
      },
      "source": [
        "We load the mean and standard deviation from the scaler object, so as to easily transform an individual entry. When we feed multiple entries into the scaler, this approach is not needed."
      ]
    },
    {
      "cell_type": "code",
      "metadata": {
        "id": "il9Sj1sG7OBW",
        "colab_type": "code",
        "colab": {}
      },
      "source": [
        "scaler_loaded = load(open(\"/content/drive/My Drive/AIExplorations/carnatic_ragas_data/new_processed_data/scaler.pkl\", \"rb\"))"
      ],
      "execution_count": 54,
      "outputs": []
    },
    {
      "cell_type": "code",
      "metadata": {
        "id": "gKl-VgsP9hQn",
        "colab_type": "code",
        "colab": {}
      },
      "source": [
        "mu, sig = scaler_loaded.mean_ , scaler_loaded.scale_"
      ],
      "execution_count": 55,
      "outputs": []
    },
    {
      "cell_type": "markdown",
      "metadata": {
        "id": "w2bdE8767006",
        "colab_type": "text"
      },
      "source": [
        "# Preparing a Test File for Scoring"
      ]
    },
    {
      "cell_type": "code",
      "metadata": {
        "id": "73-bmQ9joasn",
        "colab_type": "code",
        "colab": {}
      },
      "source": [
        "def pre_process_file(filepath):\n",
        "  sound = AudioSegment.from_file(filepath, sample_rate_Hz=12000, \n",
        "                                 sample_width = 1, \n",
        "                                 channels = 1, \n",
        "                                 format = 'mp3')\n",
        "  sequence = np.array(sound.get_array_of_samples()[0:SNIPPETSIZE])\n",
        "  sequence_scaled = (sequence - mu) / sig\n",
        "  return sequence_scaled.reshape(1, 1, SNIPPETSIZE, 1)\n"
      ],
      "execution_count": 56,
      "outputs": []
    },
    {
      "cell_type": "markdown",
      "metadata": {
        "id": "Gr_pfJWOMQ8A",
        "colab_type": "text"
      },
      "source": [
        "# Visualizing the Audio File"
      ]
    },
    {
      "cell_type": "code",
      "metadata": {
        "id": "NYCKX07RMPze",
        "colab_type": "code",
        "colab": {}
      },
      "source": [
        "def visualize_audio(filepath):\n",
        "  sound = AudioSegment.from_file(filepath, sample_rate_Hz = 12000,\n",
        "                                 sample_width = 1,\n",
        "                                 channels = 1,\n",
        "                                 format = 'mp3')\n",
        "  sequence = np.array(sound.get_array_of_samples()[0:SNIPPETSIZE])\n",
        "  plt.figure(figsize = (24,6))\n",
        "  plt.plot(sequence)\n",
        "  plt.title(\"Sequence plotted from file\")\n",
        "  plt.show()"
      ],
      "execution_count": 57,
      "outputs": []
    },
    {
      "cell_type": "markdown",
      "metadata": {
        "id": "iEjTL-XDD0z9",
        "colab_type": "text"
      },
      "source": [
        "Here, we supply a test file, process it for feeding it into the model, and then run the predict function from the model. We can also run predict_class(), which is a method that predicts the specific class of the song. Using this and the raga dictionary, we can build a simple mapper to predict any given file."
      ]
    },
    {
      "cell_type": "code",
      "metadata": {
        "id": "ddSNfgQ2fcOU",
        "colab_type": "code",
        "colab": {
          "base_uri": "https://localhost:8080/",
          "height": 136
        },
        "outputId": "c410c256-f544-417b-8121-58144fc47bb8"
      },
      "source": [
        "testfile = \"/content/drive/My Drive/AIExplorations/carnatic_ragas_data/raw_data/thodi/thodi06000006.mp3\"\n",
        "\n",
        "test_sequence = pre_process_file(testfile)\n",
        "\n",
        "print(test_sequence)"
      ],
      "execution_count": 92,
      "outputs": [
        {
          "output_type": "stream",
          "text": [
            "[[[[ 0.05352877]\n",
            "   [-0.05677369]\n",
            "   [ 0.05425908]\n",
            "   ...\n",
            "   [-5.2693369 ]\n",
            "   [-5.17069457]\n",
            "   [-4.27469171]]]]\n"
          ],
          "name": "stdout"
        }
      ]
    },
    {
      "cell_type": "code",
      "metadata": {
        "id": "8QWCB1f4M0IS",
        "colab_type": "code",
        "colab": {
          "base_uri": "https://localhost:8080/",
          "height": 403
        },
        "outputId": "c10012b4-17b5-4093-fc5f-267237a855f5"
      },
      "source": [
        "visualize_audio(testfile)"
      ],
      "execution_count": 93,
      "outputs": [
        {
          "output_type": "display_data",
          "data": {
            "image/png": "[encoded data removed]",
            "text/plain": [
              "<Figure size 1728x432 with 1 Axes>"
            ]
          },
          "metadata": {
            "tags": [],
            "needs_background": "light"
          }
        }
      ]
    },
    {
      "cell_type": "code",
      "metadata": {
        "id": "bZ7ELYT5ghje",
        "colab_type": "code",
        "colab": {}
      },
      "source": [
        "def identify_raga(file_name):\n",
        "  '''\n",
        "  Input: file name of track (5 second track processed from location on filesystem)\n",
        "  Output: prediction of the raga with probability\n",
        "  Usage: Model should be imported into the currently active kernel\n",
        "  '''\n",
        "  test_sequence = pre_process_file(file_name)\n",
        "  pred_class = model_loaded.predict_classes(test_sequence)[0]\n",
        "  pred_probs = model_loaded.predict(test_sequence)[0]\n",
        "  pred_prob = pred_probs[pred_class]\n",
        "  dict_raga = {value: key for key,value in raga_dict.items()}\n",
        "  for item in [str(x[0])+(\":\")+str(x[1]) for x in dict_raga.items()]:\n",
        "    print(item)\n",
        "  print (\"\\nThe raga is\", dict_raga[pred_class], \"with a probability of\", pred_prob)\n",
        "\n",
        "  print(\"\\nPredicted probabilities for all ragas in sequence mentioned above:\",pred_probs)"
      ],
      "execution_count": 94,
      "outputs": []
    },
    {
      "cell_type": "code",
      "metadata": {
        "id": "RnHAA9BKFE9S",
        "colab_type": "code",
        "colab": {
          "base_uri": "https://localhost:8080/",
          "height": 221
        },
        "outputId": "6b485704-6dc1-40e4-b27b-20563b5f1a4f"
      },
      "source": [
        "identify_raga(testfile)"
      ],
      "execution_count": 95,
      "outputs": [
        {
          "output_type": "stream",
          "text": [
            "0:kambhoji\n",
            "1:bhairavi\n",
            "2:thodi\n",
            "3:varali\n",
            "4:kalyani\n",
            "5:kharaharapriya\n",
            "6:shankarabharanam\n",
            "\n",
            "The raga is thodi with a probability of 0.9569862\n",
            "\n",
            "Predicted probabilities for all ragas in sequence mentioned above: [6.0177950e-05 3.9780151e-02 9.5698619e-01 1.7064270e-04 3.7333748e-04\n",
            " 2.4601426e-03 1.6941795e-04]\n"
          ],
          "name": "stdout"
        }
      ]
    },
    {
      "cell_type": "markdown",
      "metadata": {
        "id": "D3m8mn1uLwE1",
        "colab_type": "text"
      },
      "source": [
        "# Studying the model's performance\n",
        "\n",
        "We can construct typical model metrics and confusion matrices to understand the classification model's effectiveness overall on training and test sets."
      ]
    },
    {
      "cell_type": "code",
      "metadata": {
        "id": "ApaTuCzBg35j",
        "colab_type": "code",
        "colab": {}
      },
      "source": [
        "from sklearn.metrics import confusion_matrix\n",
        "\n",
        "predictions_tr = model_loaded.predict_classes(train_x_sc.reshape(train_x_sc.shape[0], 1, train_x_sc.shape[1], 1))\n",
        "predictions_ts = model_loaded.predict_classes(test_x_sc.reshape(test_x_sc.shape[0], 1, test_x_sc.shape[1], 1))"
      ],
      "execution_count": 96,
      "outputs": []
    },
    {
      "cell_type": "code",
      "metadata": {
        "id": "cz3Teot6BXtK",
        "colab_type": "code",
        "colab": {
          "base_uri": "https://localhost:8080/",
          "height": 400
        },
        "outputId": "f940144a-8426-4a0f-f6ce-02f98ae92668"
      },
      "source": [
        "# Training set confusion matrix\n",
        "cfm_tr = confusion_matrix(train_y, predictions_tr)\n",
        "plt.imshow(cfm_tr, cmap = 'gray');\n",
        "plt.title(\"Confusion matrix, training\");\n",
        "print(cfm_tr)"
      ],
      "execution_count": 97,
      "outputs": [
        {
          "output_type": "stream",
          "text": [
            "[[29  0  0  1  0  0  0]\n",
            " [ 0 37  0  1  0  0  0]\n",
            " [ 0  0 35  0  0  0  0]\n",
            " [ 0  0  0 36  0  0  0]\n",
            " [ 0  0  0  1 32  0  0]\n",
            " [ 0  0  0  0  0 34  0]\n",
            " [ 0  0  0  0  0  0 39]]\n"
          ],
          "name": "stdout"
        },
        {
          "output_type": "display_data",
          "data": {
            "image/png": "[encoded data removed]",
            "text/plain": [
              "<Figure size 432x288 with 1 Axes>"
            ]
          },
          "metadata": {
            "tags": [],
            "needs_background": "light"
          }
        }
      ]
    },
    {
      "cell_type": "code",
      "metadata": {
        "id": "6x7x45DyCE1D",
        "colab_type": "code",
        "colab": {
          "base_uri": "https://localhost:8080/",
          "height": 407
        },
        "outputId": "4b6b54e9-8809-4cd3-ee22-d028a54f3ff8"
      },
      "source": [
        "# Test set confusion matrix\n",
        "\n",
        "cfm_ts = confusion_matrix(test_y, predictions_ts)\n",
        "plt.imshow(cfm_ts, cmap = 'gray')\n",
        "plt.title(\"Confusion matrix, test\")\n",
        "print(cfm_ts)"
      ],
      "execution_count": null,
      "outputs": [
        {
          "output_type": "stream",
          "text": [
            "[[65  0  0  0  0  0  0]\n",
            " [ 0 42  1  0  6  0  0]\n",
            " [ 0  4 31  0  2  0 19]\n",
            " [ 0  1  0 79  2  1  0]\n",
            " [ 0  0  0  1 45  0  0]\n",
            " [ 0  0  0  2  0 62  1]\n",
            " [ 0  0  1  0  1  0 54]]\n"
          ],
          "name": "stdout"
        },
        {
          "output_type": "display_data",
          "data": {
            "image/png": "[encoded data removed]",
            "text/plain": [
              "<Figure size 432x288 with 1 Axes>"
            ]
          },
          "metadata": {
            "tags": [],
            "needs_background": "light"
          }
        }
      ]
    },
    {
      "cell_type": "code",
      "metadata": {
        "id": "IBzQVPOECWjD",
        "colab_type": "code",
        "colab": {}
      },
      "source": [
        ""
      ],
      "execution_count": null,
      "outputs": []
    }
  ]
}